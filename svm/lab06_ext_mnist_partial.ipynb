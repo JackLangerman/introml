{
 "cells": [
  {
   "cell_type": "markdown",
   "metadata": {
    "deletable": true,
    "editable": true
   },
   "source": [
    "# Lab 6:  SVMs on an Extended  MNIST \n",
    "\n",
    "In addition to the concepts in the [MNIST demo](mnist_svm.ipynb), you will learn:\n",
    "\n",
    "* Use the `skimage` module for some basic pre-processing of images in machine learning\n",
    "* Run and test an SVM classifier on a dataset you have created\n",
    "* Perform error handling in python\n",
    "\n",
    "In the [MNIST demo](mnist_svm.ipynb), we saw how SVMs can be used for the classic MNIST problem of digit recognition.  In this lab, we are going to extend the MNIST dataset by adding a number of non-digit letters and see if the classifier can distinguish the digits from the non-digits.  All non-digits will be lumped as a single 11-th class.  In image processing, this is called a 'detection' as opposed to 'classification' problem.  Detection is vital in OCR and related problems since the non useful characters must be rejected.  For this lab we will create a very simple version of this problem."
   ]
  },
  {
   "cell_type": "markdown",
   "metadata": {
    "deletable": true,
    "editable": true
   },
   "source": [
    "## Loading the MNIST data\n",
    "\n",
    "We first import the standard modules"
   ]
  },
  {
   "cell_type": "code",
   "execution_count": 1,
   "metadata": {
    "collapsed": true,
    "deletable": true,
    "editable": true
   },
   "outputs": [],
   "source": [
    "import numpy as np\n",
    "import matplotlib.pyplot as plt\n",
    "%matplotlib inline\n",
    "from sklearn import linear_model, preprocessing"
   ]
  },
  {
   "cell_type": "markdown",
   "metadata": {
    "deletable": true,
    "editable": true
   },
   "source": [
    "Next, fetch the digits with `fetch_mldata` command as shown in the demo.  Save the digits data matrix and labels to variables `Xdig` and `ydig`.  Also, recall that the pixel values in `Xdig` are between 0 and 255.  Create a scaled version of `Xdig` called `Xdigs` where the components are between -1 and 1."
   ]
  },
  {
   "cell_type": "code",
   "execution_count": 2,
   "metadata": {
    "collapsed": false,
    "deletable": true,
    "editable": true
   },
   "outputs": [
    {
     "name": "stdout",
     "output_type": "stream",
     "text": [
      "-0.389479427518 0.752098443584 -1.0 1.0\n",
      "(1797, 8, 8) (1797,)\n"
     ]
    }
   ],
   "source": [
    "# TODO\n",
    "# Xdig = ...  Load MNIST data\n",
    "# ydig = ...\n",
    "# Xdigs = ...  Rescale MNIST data\n",
    "\n",
    "from sklearn import datasets\n",
    "\n",
    "digits = datasets.load_digits()\n",
    "Xdig = digits.images\n",
    "ydig = digits.target\n",
    "\n",
    "# mu = np.mean(Xdig)\n",
    "# sigma = np.std(Xdig)\n",
    "# Xdigs = (Xdig-mu)/sigma\n",
    "\n",
    "Xdigs = Xdig-np.min(Xdig)\n",
    "Xdigs /= np.max(Xdig)/2\n",
    "Xdigs -= 1\n",
    "\n",
    "\n",
    "print(np.mean(Xdigs), np.std(Xdigs), np.min(Xdigs), np.max(Xdigs))\n",
    "\n",
    "print(Xdig.shape, ydig.shape)"
   ]
  },
  {
   "cell_type": "markdown",
   "metadata": {
    "deletable": true,
    "editable": true
   },
   "source": [
    "Create a function `plt_digit` that plots the digits.  You can use the code from the demo.  Test the function by plotting four random digits.  Use the `plt.title` command to print the numeric label in `ydig` above each digit."
   ]
  },
  {
   "cell_type": "code",
   "execution_count": 3,
   "metadata": {
    "collapsed": false,
    "deletable": true,
    "editable": true
   },
   "outputs": [
    {
     "data": {
      "image/png": "[encoded data removed]",
      "text/plain": [
       "<matplotlib.figure.Figure at 0x10f110748>"
      ]
     },
     "metadata": {},
     "output_type": "display_data"
    }
   ],
   "source": [
    "# TODO: Select four random digits and plot them using the subplot command\n",
    "def plt_digit(x, nrow = 28, ncol = 28):\n",
    "    xsq = x.reshape((nrow,ncol))\n",
    "    plt.imshow(xsq,  cmap='Greys_r')\n",
    "\n",
    "def plt_digits(X, y, num=5, nrow=28, ncol=28):\n",
    "    idxs = np.random.permutation(X.shape[0])\n",
    "    for i in range(1, num+1):\n",
    "        plt.subplot(1,num, i)\n",
    "        plt_digit(X[idxs[i]],  nrow,ncol)\n",
    "        plt.axis('off')\n",
    "        plt.title(y[idxs[i]])\n",
    "        \n",
    "plt_digits(Xdigs, ydig, 4, 8, 8)"
   ]
  },
  {
   "cell_type": "code",
   "execution_count": 4,
   "metadata": {
    "collapsed": false
   },
   "outputs": [
    {
     "data": {
      "text/plain": [
       "<matplotlib.text.Text at 0x10f331240>"
      ]
     },
     "execution_count": 4,
     "metadata": {},
     "output_type": "execute_result"
    },
    {
     "data": {
      "image/png": "[encoded data removed]",
      "text/plain": [
       "<matplotlib.figure.Figure at 0x10ef4b588>"
      ]
     },
     "metadata": {},
     "output_type": "display_data"
    }
   ],
   "source": [
    "plt_digit(Xdigs[1418],  8,8)\n",
    "plt.title(ydig[1418])"
   ]
  },
  {
   "cell_type": "markdown",
   "metadata": {
    "deletable": true,
    "editable": true
   },
   "source": [
    "## Exception Handling\n",
    "\n",
    "In the routines we will develop below, we will need to handle error conditions, called exceptions. A very nice description of how to perform exception handling in python is given in\n",
    "\n",
    "https://docs.python.org/3/tutorial/errors.html\n",
    "\n",
    "As described there, errors are described by a class that derives from a base class Exception. When the error occurs, the program raises the exception with the raise command. The calling function can catch the exception with the try ... except control flow. We will define our exception as follows which has an optional string argument."
   ]
  },
  {
   "cell_type": "code",
   "execution_count": 5,
   "metadata": {
    "collapsed": true,
    "deletable": true,
    "editable": true
   },
   "outputs": [],
   "source": [
    "class ImgException(Exception):\n",
    "    def __init__(self, msg='No msg'):\n",
    "        self.msg = msg"
   ]
  },
  {
   "cell_type": "markdown",
   "metadata": {
    "deletable": true,
    "editable": true
   },
   "source": [
    "Exceptions are used as follows:  First, when there is an error in some function, you `raise` the exception as follows:\n",
    "\n",
    "    foo():\n",
    "        ...\n",
    "        if (error):\n",
    "           raise ImgException(\"File not found\")\n",
    "           \n",
    "        # Code that will not execute if the error condition occured\n",
    "        \n",
    "     \n",
    "The function that calls `foo()` can catch the error using the following syntax:\n",
    "\n",
    "    try: \n",
    "        foo()\n",
    "        \n",
    "        # Continue processing in case when there was no exception\n",
    "        ....\n",
    "        \n",
    "    except ImgException as e:\n",
    "        print(\"foo() didn't work\")\n",
    "        print(\"Error msg = %s\" % e.msg)"
   ]
  },
  {
   "cell_type": "markdown",
   "metadata": {
    "deletable": true,
    "editable": true
   },
   "source": [
    "## Get Non-Digit Characters\n",
    "\n",
    "We will now build a set of non-digit characters.  As a simple source, we will get hand-written lowercase letters 'a' to 'z' and process them with the `skimage` package.  The `skimage` module is a very powerful package that has a similar interface as OpenCV.  We first import the relevant modules."
   ]
  },
  {
   "cell_type": "code",
   "execution_count": 6,
   "metadata": {
    "collapsed": false,
    "deletable": true,
    "editable": true
   },
   "outputs": [],
   "source": [
    "import matplotlib.image as mpimg\n",
    "import skimage.io\n",
    "from skimage.filters import threshold_otsu\n",
    "from skimage.segmentation import clear_border\n",
    "from skimage.measure import label, regionprops\n",
    "from skimage.morphology import closing, square\n",
    "from skimage.color import label2rgb\n",
    "from skimage.transform import resize\n",
    "import matplotlib.patches as mpatches\n",
    "from skimage import data\n",
    "import skimage"
   ]
  },
  {
   "cell_type": "markdown",
   "metadata": {
    "deletable": true,
    "editable": true
   },
   "source": [
    "We can get a set of character images from a very nice website\n",
    "\n",
    "http://www.ee.surrey.ac.uk/CVSSP/demos/chars74k/\n",
    "\n",
    "Go to this website, and download the file `EnglishHnd.tgz`.  After you untar this file, there are a large number of `.png` files in the directory:\n",
    "\n",
    "    EnglishHnd\\English\\Hnd\\Img\n",
    "    \n",
    "Each directory has about 55 samples of hand-written letters and numbers.  After you have downloaded this file, complete the function `load_img` to load an image from a character and sample index.\n",
    "\n",
    "Alternatively, the files are available on Google Drive:\n",
    "\n",
    "https://drive.google.com/file/d/0BxOz-SM9a1h4UksxSXBjQ0dabUk/view?usp=sharing \n",
    "\n",
    "You can download and unzip the file.\n",
    "\n",
    "The code at the end will test the function to see if it working correctly.  For one sample, it should print the image and a second it should say the file was not found."
   ]
  },
  {
   "cell_type": "code",
   "execution_count": 7,
   "metadata": {
    "collapsed": false,
    "deletable": true,
    "editable": true
   },
   "outputs": [
    {
     "data": {
      "text/plain": [
       "<matplotlib.image.AxesImage at 0x1105c3438>"
      ]
     },
     "execution_count": 7,
     "metadata": {},
     "output_type": "execute_result"
    },
    {
     "data": {
      "image/png": "[encoded data removed]",
      "text/plain": [
       "<matplotlib.figure.Figure at 0x1105bba90>"
      ]
     },
     "metadata": {},
     "output_type": "display_data"
    }
   ],
   "source": [
    "import os.path\n",
    "\n",
    "def load_img(char_ind, samp_ind):\n",
    "    \"\"\"\n",
    "    Returns the image from the dataset given a character and sample index.\n",
    "    \n",
    "        \n",
    "    If the file doesn't exist, it raises an Exception with the filename.   \n",
    "    \"\"\" \n",
    "    \n",
    "    # TODO:  Set the file name based on char_ind and samp_ind\n",
    "    # fname = ...\n",
    "    fname = (\"./English/Hnd/Img/Sample{0:03}/img{0:03}-{1:03}.png\").format(char_ind, samp_ind)\n",
    "    \n",
    "    \n",
    "    # TODO:  Use the os.path.isfile command to check if the file exists.  \n",
    "    # If not raise an ImgException with the message \"[fname] not found\"\n",
    "\n",
    "    if not os.path.isfile(fname):\n",
    "        raise ImgException(\"File \\\"{}\\\" not found\".format(fname))\n",
    "    \n",
    "    \n",
    "    # TODO:  Use the skimage.io.imread() command to read the png file and return the image.\n",
    "    # img = ...\n",
    "    img = skimage.io.imread(fname)\n",
    "    return img\n",
    "\n",
    "plt.figure(figsize=(2,2))\n",
    "plt.axis('off')\n",
    "plt.imshow(load_img(1,5))\n",
    "\n"
   ]
  },
  {
   "cell_type": "markdown",
   "metadata": {
    "deletable": true,
    "editable": true
   },
   "source": [
    "Test the `load_img` function.  This should:\n",
    "* Plot the image in `Sample047\\img047-006.png`\n",
    "* Say that the `Sample047\\img047-070.png` is not found."
   ]
  },
  {
   "cell_type": "code",
   "execution_count": 8,
   "metadata": {
    "collapsed": false,
    "deletable": true,
    "editable": true
   },
   "outputs": [
    {
     "name": "stdout",
     "output_type": "stream",
     "text": [
      "Char = 47 samp=6\n",
      "File \"./English/Hnd/Img/Sample047/img047-070.png\" not found\n"
     ]
    },
    {
     "data": {
      "image/png": "[encoded data removed]",
      "text/plain": [
       "<matplotlib.figure.Figure at 0x1105bb4e0>"
      ]
     },
     "metadata": {},
     "output_type": "display_data"
    }
   ],
   "source": [
    "char_ind = 47\n",
    "samp_inds = [6,70]\n",
    "for samp_ind in samp_inds:\n",
    "    try:\n",
    "        img = load_img(char_ind=char_ind, samp_ind=samp_ind)\n",
    "        print(\"Char = %d samp=%d\" % (char_ind, samp_ind))\n",
    "        plt.imshow(img)\n",
    "    except ImgException as e:\n",
    "        print(e.msg)"
   ]
  },
  {
   "cell_type": "markdown",
   "metadata": {
    "deletable": true,
    "editable": true
   },
   "source": [
    "The images in the sample directory have very high resolution.  Complete the following method to find the image and place it in a 28 x 28 box.  You can look at this very nice demo of the `skimage` methods here:\n",
    "\n",
    "http://scikit-image.org/docs/dev/auto_examples/segmentation/plot_label.html\n",
    "\n",
    "The code is somewhat complex, so I have provided some of the steps, esp. for the thresholding."
   ]
  },
  {
   "cell_type": "code",
   "execution_count": 9,
   "metadata": {
    "collapsed": false,
    "deletable": true,
    "editable": true
   },
   "outputs": [],
   "source": [
    "def mnist_resize(img):\n",
    "    \"\"\"\n",
    "    Extracts a character from the image, and places in a 28x28 image to match the MNIST format.\n",
    "    \n",
    "    Returns:\n",
    "    img1:  MNIST formatted 28 x 28 size image with the character from img\n",
    "    box:   A bounding box indicating the locations where the character was found in img.    \n",
    "    \"\"\"\n",
    "    # Image sizes (fixed for now).  To match the MNIST data, the image \n",
    "    # will be first resized to 20 x 20.  Then, the image will be placed in center of 28 x 28 box\n",
    "    # offet by 4 on each side.\n",
    "    nx_img = 20   \n",
    "    ny_img = 20\n",
    "    nx_box = 28   \n",
    "    ny_box = 28\n",
    "    offx = 4\n",
    "    offy = 4\n",
    "    \n",
    "    # TODO:  Convert the image to gray scale using the skimage.color.rgb2gray method.\n",
    "    # bw = ...\n",
    "    bw = skimage.color.rgb2gray(img)\n",
    "    \n",
    "    # Threshold the image using OTSU threshold\n",
    "    thresh = threshold_otsu(bw)\n",
    "    bw = closing(bw < thresh, square(3)).astype(int)\n",
    "    \n",
    "    # Get the regions in the image.\n",
    "    # This creates a list of regions in the image where the digit possibly is.\n",
    "    regions = regionprops(bw)\n",
    "\n",
    "    # TODO:  Find region with the largest area.  You can get the region area from region.area.\n",
    "    # region_max = ...\n",
    "    region_max_idx = np.argmax([r.area for r in regions])\n",
    "    region_max = regions[region_max_idx]\n",
    "    \n",
    "        \n",
    "    # Raise an ImgException if no region with area >= 100 was found\n",
    "    area_max = region_max.area\n",
    "    \n",
    "    if (area_max < 100):\n",
    "        raise ImgException(\"No image area >= 100 found\")    \n",
    "                \n",
    "    # Get the bounding box of the character from region_max.bbox\n",
    "    minr, minc, maxr, maxc = region_max.bbox\n",
    "    box = [minr,minc,maxr,maxc]\n",
    "    \n",
    "    # TODO:  Crop the image in bw to the bounding box\n",
    "    # bw_crop = bw[...]\n",
    "    bw_crop = bw[minr:maxr, minc:maxc].astype(float)\n",
    "        \n",
    "    # TODO:  Resize the cropped image to a 20x20 using the resize command.\n",
    "    # You will need to use the mode = 'constant' option\n",
    "    # bw_resize = ...\n",
    "    bw_resize = skimage.transform.resize(bw_crop, (20, 20), mode='constant')\n",
    "    \n",
    "    # TODO:  Threshold back to a 0-1 image by comparing the pixels to their mean value\n",
    "    thresh = (bw_resize > np.mean(bw_resize))\n",
    "    \n",
    "    # TODO:  Place extracted 20 x 20 image in larger image 28 x 28\n",
    "    # img1 = ...\n",
    "    img1 = np.zeros((nx_box,ny_box))\n",
    "    \n",
    "\n",
    "    img1[offx:offx+nx_img, offy:offy+ny_img] = thresh\n",
    "    \n",
    "    \n",
    "#     img1[4:24, 4:24] = bw_resize\n",
    "    \n",
    "    \n",
    "    return img1, box\n",
    "\n"
   ]
  },
  {
   "cell_type": "markdown",
   "metadata": {
    "collapsed": true,
    "deletable": true,
    "editable": true
   },
   "source": [
    "Now test the `mnist_resize` program by completing the following code.  Create two subplots:\n",
    "* subplot(1,2,1):  The original image with the bounding box for the character that was found in the image.\n",
    "* subplot(1,2,2):  The MNIST resized image."
   ]
  },
  {
   "cell_type": "code",
   "execution_count": 10,
   "metadata": {
    "collapsed": false,
    "deletable": true,
    "editable": true
   },
   "outputs": [
    {
     "data": {
      "image/png": "[encoded data removed]",
      "text/plain": [
       "<matplotlib.figure.Figure at 0x1117b9ef0>"
      ]
     },
     "metadata": {},
     "output_type": "display_data"
    }
   ],
   "source": [
    "# Load an image\n",
    "img = load_img(13,9)\n",
    "\n",
    "try:\n",
    "    # Resize the image\n",
    "    img1, box = mnist_resize(img)\n",
    "    \n",
    "    # TODO:  Plot the original image, img, along with a red box around the captured character.\n",
    "    # Use the mpatches.Rectangle and ax.add_patch methods to construct the rectangle.\n",
    "    f, ax = plt.subplots(1,2)\n",
    "#     ax.imshow(img1)\n",
    "    ax[0].imshow(img)\n",
    "    minr, minc, maxr, maxc = box\n",
    "    ax[0].add_patch(mpatches.Rectangle((minc, minr), maxc - minc, maxr - minr, \n",
    "                                       fill=False, edgecolor='red', linewidth=2))\n",
    "\n",
    "    # TODO:  Plot the resized 28 x 28 image, img1.  You can use the plt_digit(img1) command \n",
    "    plt_digit(img1)\n",
    "    \n",
    "except ImgException as e:\n",
    "    print(e.msg)"
   ]
  },
  {
   "cell_type": "markdown",
   "metadata": {
    "deletable": true,
    "editable": true
   },
   "source": [
    "Now, run the command `nlet=1000` times to get 1000 letter images.  In each iteration, select a random image from a lowercase letter and add it to a matrix `Xlet`. "
   ]
  },
  {
   "cell_type": "code",
   "execution_count": 11,
   "metadata": {
    "collapsed": false
   },
   "outputs": [
    {
     "data": {
      "text/plain": [
       "<matplotlib.image.AxesImage at 0x10f575ba8>"
      ]
     },
     "execution_count": 11,
     "metadata": {},
     "output_type": "execute_result"
    },
    {
     "data": {
      "image/png": "[encoded data removed]",
      "text/plain": [
       "<matplotlib.figure.Figure at 0x10f36d588>"
      ]
     },
     "metadata": {},
     "output_type": "display_data"
    }
   ],
   "source": [
    "plt.imshow(load_img(62,1))"
   ]
  },
  {
   "cell_type": "code",
   "execution_count": 12,
   "metadata": {
    "collapsed": true
   },
   "outputs": [],
   "source": [
    "def gen_char_ind():\n",
    "    A, I, O, Z = 37, 45, 51, 62\n",
    "    char_ind = np.random.randint(A, Z)\n",
    "    \n",
    "    while char_ind == I or char_ind==O:\n",
    "        char_ind = np.random.randint(A, Z)\n",
    "        \n",
    "    return char_ind"
   ]
  },
  {
   "cell_type": "code",
   "execution_count": 13,
   "metadata": {
    "collapsed": false,
    "deletable": true,
    "editable": true
   },
   "outputs": [
    {
     "name": "stdout",
     "output_type": "stream",
     "text": [
      "images captured = 50\n",
      "images captured = 100\n",
      "images captured = 150\n",
      "images captured = 200\n",
      "images captured = 250\n",
      "images captured = 300\n",
      "images captured = 350\n",
      "images captured = 400\n",
      "images captured = 450\n",
      "images captured = 500\n",
      "images captured = 550\n",
      "images captured = 600\n",
      "images captured = 650\n",
      "images captured = 700\n",
      "images captured = 750\n",
      "images captured = 800\n",
      "images captured = 850\n",
      "images captured = 900\n",
      "images captured = 950\n",
      "images captured = 1000\n"
     ]
    }
   ],
   "source": [
    "# Dimensions\n",
    "nlet = 1000\n",
    "nrow = 28\n",
    "ncol = 28\n",
    "npix = nrow*ncol\n",
    "Xlet = np.zeros((nlet, npix))\n",
    "\n",
    "i = 0\n",
    "\n",
    "while i < nlet:\n",
    "    # TODO:  Generate a random character and sample    \n",
    "    # char_ind = random number corresponding to a lowercase letter except 'O' and 'I'\n",
    "    # samp_ind = random number from 0 to 49\n",
    "    \n",
    "    # random number corresponding to a lowercase letter except 'O' and 'I'\n",
    "    char_ind = gen_char_ind()\n",
    "    \n",
    "#     random number from 0 to 49\n",
    "    samp_ind = np.random.randint(50)\n",
    "    \n",
    "        \n",
    "    try:\n",
    "        # TODO:  Load the image with load_img function\n",
    "        # img = ...\n",
    "        img = load_img(char_ind, samp_ind)\n",
    "        \n",
    "        # TODO:  Reize the image with mnist_resize function\n",
    "        # img1, box = ...\n",
    "        img1, box = mnist_resize(img)\n",
    "        \n",
    "        # TODO:  Store the image in a row of Xlet[i,:] and increment i\n",
    "        Xlet[i,:] = img1.ravel()\n",
    "        i += 1\n",
    "        \n",
    "        # Print progress\n",
    "        if (i % 50 == 0):\n",
    "            print ('images captured = {0:d}'.format(i))\n",
    "            \n",
    "    except ImgException:\n",
    "        # Skip if image loading or resizing failed\n",
    "        pass\n",
    "    \n"
   ]
  },
  {
   "cell_type": "markdown",
   "metadata": {
    "deletable": true,
    "editable": true
   },
   "source": [
    "Since this takes a long time to generate, save the matrix `Xlet` to a file `Xlet.p` using the `pickle.dump` command."
   ]
  },
  {
   "cell_type": "code",
   "execution_count": 14,
   "metadata": {
    "collapsed": true
   },
   "outputs": [],
   "source": [
    "import pickle"
   ]
  },
  {
   "cell_type": "code",
   "execution_count": 15,
   "metadata": {
    "collapsed": false,
    "deletable": true,
    "editable": true
   },
   "outputs": [],
   "source": [
    "# TODO\n",
    "\n",
    "pickle.dump(Xlet, open( \"Xlet.p\", \"wb\" ))"
   ]
  },
  {
   "cell_type": "markdown",
   "metadata": {
    "deletable": true,
    "editable": true
   },
   "source": [
    "Reload the data `Xlet` from the file `Xlet.p`"
   ]
  },
  {
   "cell_type": "code",
   "execution_count": 16,
   "metadata": {
    "collapsed": false,
    "deletable": true,
    "editable": true
   },
   "outputs": [],
   "source": [
    "# TODO\n",
    "Xlet = pickle.load( open( \"Xlet.p\", \"rb\" ) )"
   ]
  },
  {
   "cell_type": "markdown",
   "metadata": {
    "deletable": true,
    "editable": true
   },
   "source": [
    "## Create Extended Training Data\n",
    "\n",
    "Now, create an extended data set by combining `ndig=5000` randomly selected digit samples and `nlet=1000` letters. \n",
    "* Select `ndig=5000` random samples from `Xdigs` and their labels in `ydig`.\n",
    "* Rescale the letters `Xlet` to a new matrix `Xlets = 2*Xlet-1` to make the pixel values go from -1 to 1.\n",
    "* Use the `np.vstack` command to create a 6000 element alpha-numeric data set `X`\n",
    "* Create a corresponding label vector `y` where all the non-digit characters are labeled with a non-digit label, `letter_lbl=10`.\n"
   ]
  },
  {
   "cell_type": "code",
   "execution_count": 48,
   "metadata": {
    "collapsed": false,
    "deletable": true,
    "editable": true
   },
   "outputs": [
    {
     "name": "stdout",
     "output_type": "stream",
     "text": [
      "0 255 0.0 1.0\n",
      "-1.0 1.0 -1.0 1.0\n",
      "(6000, 784)\n",
      "(6000,)\n"
     ]
    }
   ],
   "source": [
    "# TODO\n",
    "# X = ...  Array with 6000 characters (5000 digits + 1000 letters)\n",
    "# y = ...  Array with 6000 labels (0-9 for the digits, 10 = non-digit)\n",
    "\n",
    "from sklearn.datasets import fetch_mldata\n",
    "digits = fetch_mldata(\"MNIST original\")\n",
    "Xdig = digits.data\n",
    "ydig = digits.target\n",
    "\n",
    "# rescale the data\n",
    "print(np.min(Xdig), np.max(Xdig), np.min(Xlet), np.max(Xlet))\n",
    "Xdigs = Xdig.astype(float)-np.min(Xdig)\n",
    "Xdigs /= np.max(Xdig)/2\n",
    "Xdigs -= 1\n",
    "\n",
    "Xlets = Xlet-np.min(Xlet)\n",
    "Xlets /= np.max(Xlet)/2\n",
    "Xlets -= 1\n",
    "print(np.min(Xdigs), np.max(Xdigs), np.min(Xlets), np.max(Xlets))\n",
    "\n",
    "\n",
    "\n",
    "digIdx = np.random.permutation(len(ydig))[:5000]\n",
    "X = np.row_stack( (Xdigs[digIdx], Xlets) )\n",
    "y = np.append(ydig[digIdx], (10*np.ones(len(Xlets))) )\n",
    "\n",
    "print(X.shape)\n",
    "print(y.shape)"
   ]
  },
  {
   "cell_type": "code",
   "execution_count": 50,
   "metadata": {
    "collapsed": false
   },
   "outputs": [
    {
     "data": {
      "image/png": "[encoded data removed]",
      "text/plain": [
       "<matplotlib.figure.Figure at 0x1117314a8>"
      ]
     },
     "metadata": {},
     "output_type": "display_data"
    }
   ],
   "source": [
    "plt.figure(figsize=(12,2))\n",
    "plt_digits(X, y, 10)\n",
    "\n",
    "# maybe a bit of an artifact; the non-digits are thresholded while the digits are greyscale."
   ]
  },
  {
   "cell_type": "markdown",
   "metadata": {
    "deletable": true,
    "editable": true
   },
   "source": [
    "# Run the SVM classifier\n",
    "\n",
    "First create the SVM classifer.  Use an \"rbf\" classifier with `C=2.8` and `gamma=.0073`.  Not sure if these are the best parameters, you could try to search for better ones."
   ]
  },
  {
   "cell_type": "code",
   "execution_count": 51,
   "metadata": {
    "collapsed": true,
    "deletable": true,
    "editable": true
   },
   "outputs": [],
   "source": [
    "from sklearn import svm\n",
    "\n",
    "# TODO:  Create a classifier: a support vector classifier\n",
    "# svc = ...\n",
    "svc = svm.SVC(probability=False,  kernel=\"rbf\", C=2.8, gamma=.0073, verbose=10)"
   ]
  },
  {
   "cell_type": "markdown",
   "metadata": {
    "deletable": true,
    "editable": true
   },
   "source": [
    "Get 5000 training samples `Xtr,ytr` and 1000 test samples `Xts,yts`.  Remember to randomly select them."
   ]
  },
  {
   "cell_type": "code",
   "execution_count": 52,
   "metadata": {
    "collapsed": false,
    "deletable": true,
    "editable": true
   },
   "outputs": [
    {
     "name": "stdout",
     "output_type": "stream",
     "text": [
      "(5000, 784) (5000,) (1000, 784) (1000,)\n"
     ]
    }
   ],
   "source": [
    "n = 6000\n",
    "ntr, nts = 5000, 1000\n",
    "\n",
    "# TODO\n",
    "# Xtr = ...\n",
    "# ytr = ...\n",
    "# Xts = ...\n",
    "# yts = ...\n",
    "idxs = np.random.permutation(n)\n",
    "Xtr = X[:ntr]\n",
    "ytr = y[:ntr]\n",
    "Xts = X[ntr:]\n",
    "yts = y[ntr:]\n",
    "\n",
    "print(Xtr.shape, ytr.shape, Xts.shape, yts.shape)"
   ]
  },
  {
   "cell_type": "markdown",
   "metadata": {
    "deletable": true,
    "editable": true
   },
   "source": [
    "Use the `svc.fit` command to fit on the training data.  This may take a few minutes"
   ]
  },
  {
   "cell_type": "code",
   "execution_count": 53,
   "metadata": {
    "collapsed": false,
    "deletable": true,
    "editable": true
   },
   "outputs": [
    {
     "name": "stdout",
     "output_type": "stream",
     "text": [
      "[LibSVM]"
     ]
    },
    {
     "data": {
      "text/plain": [
       "SVC(C=2.8, cache_size=200, class_weight=None, coef0=0.0,\n",
       "  decision_function_shape=None, degree=3, gamma=0.0073, kernel='rbf',\n",
       "  max_iter=-1, probability=False, random_state=None, shrinking=True,\n",
       "  tol=0.001, verbose=10)"
      ]
     },
     "execution_count": 53,
     "metadata": {},
     "output_type": "execute_result"
    }
   ],
   "source": [
    "# TODO\n",
    "svc.fit(Xtr, ytr)"
   ]
  },
  {
   "cell_type": "markdown",
   "metadata": {
    "deletable": true,
    "editable": true
   },
   "source": [
    "Measure the accuracy on the test samples.  You should get about 96% accuracy.  You can get better by using more training samples, but it will just take longer to run."
   ]
  },
  {
   "cell_type": "code",
   "execution_count": 54,
   "metadata": {
    "collapsed": false,
    "deletable": true,
    "editable": true
   },
   "outputs": [
    {
     "name": "stdout",
     "output_type": "stream",
     "text": [
      "1.0\n",
      "0.0\n"
     ]
    }
   ],
   "source": [
    "# TODO\n",
    "\n",
    "print(svc.score(Xtr, ytr))\n",
    "print(svc.score(Xts, yts))"
   ]
  },
  {
   "cell_type": "markdown",
   "metadata": {},
   "source": [
    "Not sure why I'm overfitting on these settings... "
   ]
  },
  {
   "cell_type": "code",
   "execution_count": 60,
   "metadata": {
    "collapsed": true
   },
   "outputs": [],
   "source": [
    "n = 1000\n",
    "ntr = 700\n",
    "\n",
    "idxs = np.random.permutation(n)\n",
    "Xtr = X[:ntr]\n",
    "ytr = y[:ntr]\n",
    "Xts = X[ntr:]\n",
    "yts = y[ntr:]\n",
    "\n",
    "hist = {}\n",
    "hist['c']     = []\n",
    "hist['gamma'] = []\n",
    "hist['score_tr'] = []\n",
    "hist['score_ts'] = []"
   ]
  },
  {
   "cell_type": "code",
   "execution_count": 61,
   "metadata": {
    "collapsed": false
   },
   "outputs": [
    {
     "name": "stdout",
     "output_type": "stream",
     "text": [
      "sample #0 with C=0.00029, gamma=0.06871, tr=0.111, ts=0.087\n",
      "sample #1 with C=0.01879, gamma=0.00727, tr=0.111, ts=0.087\n",
      "sample #2 with C=0.00000, gamma=1.80332, tr=0.111, ts=0.087\n",
      "sample #3 with C=0.00000, gamma=0.26296, tr=0.111, ts=0.087\n",
      "sample #4 with C=0.00004, gamma=0.05050, tr=0.111, ts=0.087\n",
      "sample #5 with C=0.00642, gamma=0.00032, tr=0.111, ts=0.087\n",
      "sample #6 with C=0.00033, gamma=0.00003, tr=0.111, ts=0.087\n",
      "sample #7 with C=0.00001, gamma=1.96274, tr=0.111, ts=0.087\n",
      "sample #8 with C=0.00001, gamma=21.17476, tr=0.111, ts=0.087\n",
      "sample #9 with C=0.00064, gamma=0.00000, tr=0.111, ts=0.087\n",
      "sample #10 with C=0.00002, gamma=0.01730, tr=0.111, ts=0.087\n",
      "sample #11 with C=28.62757, gamma=0.00001, tr=0.870, ts=0.686\n",
      "sample #12 with C=0.00001, gamma=0.00160, tr=0.111, ts=0.087\n",
      "sample #13 with C=0.00126, gamma=0.00436, tr=0.111, ts=0.087\n",
      "sample #14 with C=0.00000, gamma=8.06521, tr=0.111, ts=0.087\n",
      "sample #15 with C=2.59713, gamma=0.00001, tr=0.111, ts=0.087\n",
      "sample #16 with C=2.98536, gamma=0.00060, tr=0.950, ts=0.715\n",
      "sample #17 with C=0.00350, gamma=0.23185, tr=0.111, ts=0.087\n",
      "sample #18 with C=0.00012, gamma=0.04795, tr=0.111, ts=0.087\n",
      "sample #19 with C=2.15720, gamma=0.00026, tr=0.883, ts=0.694\n",
      "sample #20 with C=0.24820, gamma=26.95156, tr=0.111, ts=0.087\n",
      "sample #21 with C=3.85500, gamma=0.00219, tr=0.996, ts=0.736\n",
      "sample #22 with C=0.00000, gamma=0.00003, tr=0.111, ts=0.087\n",
      "sample #23 with C=0.36829, gamma=0.00146, tr=0.887, ts=0.690\n",
      "sample #24 with C=0.08320, gamma=0.00184, tr=0.606, ts=0.464\n",
      "sample #25 with C=0.00007, gamma=0.00023, tr=0.111, ts=0.087\n",
      "sample #26 with C=4.22026, gamma=0.00000, tr=0.111, ts=0.087\n",
      "sample #27 with C=1.20751, gamma=0.00000, tr=0.111, ts=0.087\n",
      "sample #28 with C=0.00093, gamma=0.00103, tr=0.111, ts=0.087\n",
      "sample #29 with C=0.00000, gamma=0.00012, tr=0.111, ts=0.087\n",
      "sample #30 with C=0.00000, gamma=0.00001, tr=0.111, ts=0.087\n",
      "sample #31 with C=0.00099, gamma=0.00000, tr=0.111, ts=0.087\n",
      "sample #32 with C=0.00002, gamma=2.16412, tr=0.111, ts=0.087\n",
      "sample #33 with C=0.62599, gamma=0.02886, tr=1.000, ts=0.164\n",
      "sample #34 with C=0.01925, gamma=0.00000, tr=0.111, ts=0.087\n",
      "sample #35 with C=0.06673, gamma=0.00001, tr=0.111, ts=0.087\n",
      "sample #36 with C=0.00013, gamma=11.60307, tr=0.111, ts=0.087\n",
      "sample #37 with C=0.92790, gamma=0.16994, tr=1.000, ts=0.087\n",
      "sample #38 with C=0.02429, gamma=8.04192, tr=0.111, ts=0.087\n",
      "sample #39 with C=0.00010, gamma=0.00000, tr=0.111, ts=0.087\n",
      "sample #40 with C=0.00000, gamma=1.10577, tr=0.111, ts=0.087\n",
      "sample #41 with C=0.07267, gamma=0.40363, tr=0.111, ts=0.087\n",
      "sample #42 with C=0.00000, gamma=0.00000, tr=0.111, ts=0.087\n",
      "sample #43 with C=0.00000, gamma=0.00000, tr=0.111, ts=0.087\n",
      "sample #44 with C=0.00197, gamma=8.03412, tr=0.111, ts=0.087\n",
      "sample #45 with C=0.00000, gamma=0.00095, tr=0.111, ts=0.087\n",
      "sample #46 with C=0.00001, gamma=0.03056, tr=0.111, ts=0.087\n",
      "sample #47 with C=0.00000, gamma=0.13338, tr=0.111, ts=0.087\n",
      "sample #48 with C=3.69851, gamma=0.00000, tr=0.111, ts=0.087\n",
      "sample #49 with C=0.65855, gamma=13.18627, tr=1.000, ts=0.087\n",
      "sample #50 with C=0.65008, gamma=0.01251, tr=0.996, ts=0.673\n",
      "sample #51 with C=0.00000, gamma=0.00010, tr=0.111, ts=0.087\n",
      "sample #52 with C=0.10105, gamma=0.00078, tr=0.329, ts=0.260\n",
      "sample #53 with C=4.88166, gamma=0.06008, tr=1.000, ts=0.154\n",
      "sample #54 with C=0.00003, gamma=0.00103, tr=0.111, ts=0.087\n",
      "sample #55 with C=5.39490, gamma=0.58855, tr=1.000, ts=0.087\n",
      "sample #56 with C=0.00001, gamma=14.51424, tr=0.111, ts=0.087\n",
      "sample #57 with C=0.06092, gamma=14.69455, tr=0.111, ts=0.087\n",
      "sample #58 with C=7.75796, gamma=0.00030, tr=0.954, ts=0.717\n",
      "sample #59 with C=18.72130, gamma=0.00002, tr=0.863, ts=0.678\n",
      "sample #60 with C=0.01413, gamma=0.00002, tr=0.111, ts=0.087\n",
      "sample #61 with C=0.00018, gamma=0.02441, tr=0.111, ts=0.087\n",
      "sample #62 with C=12.95136, gamma=0.00005, tr=0.891, ts=0.698\n",
      "sample #63 with C=0.02081, gamma=0.00001, tr=0.111, ts=0.087\n",
      "sample #64 with C=0.00002, gamma=0.00002, tr=0.111, ts=0.087\n",
      "sample #65 with C=0.04859, gamma=0.23422, tr=0.111, ts=0.087\n",
      "sample #66 with C=0.04397, gamma=0.00011, tr=0.111, ts=0.087\n",
      "sample #67 with C=0.00023, gamma=5.79537, tr=0.111, ts=0.087\n",
      "sample #68 with C=0.00111, gamma=0.11706, tr=0.111, ts=0.087\n",
      "sample #69 with C=0.00011, gamma=0.42218, tr=0.111, ts=0.087\n",
      "sample #70 with C=0.00000, gamma=0.00039, tr=0.111, ts=0.087\n",
      "sample #71 with C=0.65127, gamma=0.08719, tr=1.000, ts=0.089\n",
      "sample #72 with C=0.00056, gamma=0.00000, tr=0.111, ts=0.087\n",
      "sample #73 with C=0.06739, gamma=0.00679, tr=0.193, ts=0.164\n",
      "sample #74 with C=0.11068, gamma=0.13969, tr=0.111, ts=0.087\n",
      "sample #75 with C=0.00702, gamma=0.00003, tr=0.111, ts=0.087\n",
      "sample #76 with C=11.19534, gamma=0.30835, tr=1.000, ts=0.087\n",
      "sample #77 with C=0.00465, gamma=0.00006, tr=0.111, ts=0.087\n",
      "sample #78 with C=0.51446, gamma=0.08338, tr=0.271, ts=0.087\n",
      "sample #79 with C=9.43502, gamma=0.21239, tr=1.000, ts=0.088\n",
      "sample #80 with C=0.00011, gamma=0.00000, tr=0.111, ts=0.087\n",
      "sample #81 with C=0.00008, gamma=0.00249, tr=0.111, ts=0.087\n",
      "sample #82 with C=8.83532, gamma=0.03771, tr=1.000, ts=0.253\n",
      "sample #83 with C=0.00000, gamma=0.00330, tr=0.111, ts=0.087\n",
      "sample #84 with C=0.00302, gamma=0.00000, tr=0.111, ts=0.087\n",
      "sample #85 with C=0.00226, gamma=0.00002, tr=0.111, ts=0.087\n",
      "sample #86 with C=0.00001, gamma=2.25200, tr=0.111, ts=0.087\n",
      "sample #87 with C=2.01634, gamma=0.89451, tr=1.000, ts=0.087\n",
      "sample #88 with C=0.00029, gamma=21.67919, tr=0.111, ts=0.087\n",
      "sample #89 with C=0.15037, gamma=0.00043, tr=0.251, ts=0.186\n",
      "sample #90 with C=0.65340, gamma=0.00000, tr=0.111, ts=0.087\n",
      "sample #91 with C=1.79325, gamma=23.04729, tr=1.000, ts=0.087\n",
      "sample #92 with C=0.00685, gamma=0.00010, tr=0.111, ts=0.087\n",
      "sample #93 with C=0.00000, gamma=0.00000, tr=0.111, ts=0.087\n",
      "sample #94 with C=0.00000, gamma=2.74026, tr=0.111, ts=0.087\n",
      "sample #95 with C=14.12711, gamma=0.00003, tr=0.870, ts=0.688\n",
      "sample #96 with C=0.01206, gamma=0.00003, tr=0.111, ts=0.087\n",
      "sample #97 with C=0.00326, gamma=0.00015, tr=0.111, ts=0.087\n",
      "sample #98 with C=0.00001, gamma=0.00001, tr=0.111, ts=0.087\n",
      "sample #99 with C=0.00000, gamma=0.07851, tr=0.111, ts=0.087\n",
      "sample #100 with C=0.00007, gamma=2.46313, tr=0.111, ts=0.087\n",
      "sample #101 with C=0.00032, gamma=0.00001, tr=0.111, ts=0.087\n",
      "sample #102 with C=0.00000, gamma=0.16143, tr=0.111, ts=0.087\n",
      "sample #103 with C=0.00000, gamma=0.00161, tr=0.111, ts=0.087\n",
      "sample #104 with C=0.02405, gamma=0.00000, tr=0.111, ts=0.087\n",
      "sample #105 with C=0.00000, gamma=0.00197, tr=0.111, ts=0.087\n",
      "sample #106 with C=0.00000, gamma=0.00002, tr=0.111, ts=0.087\n",
      "sample #107 with C=0.00025, gamma=0.00002, tr=0.111, ts=0.087\n",
      "sample #108 with C=0.00000, gamma=0.00110, tr=0.111, ts=0.087\n"
     ]
    },
    {
     "ename": "KeyboardInterrupt",
     "evalue": "",
     "output_type": "error",
     "traceback": [
      "\u001b[0;31m---------------------------------------------------------------------------\u001b[0m",
      "\u001b[0;31mKeyboardInterrupt\u001b[0m                         Traceback (most recent call last)",
      "\u001b[0;32m<ipython-input-61-b2ebc0d6a10f>\u001b[0m in \u001b[0;36m<module>\u001b[0;34m()\u001b[0m\n\u001b[1;32m     10\u001b[0m     \u001b[0mhist\u001b[0m\u001b[0;34m[\u001b[0m\u001b[0;34m'c'\u001b[0m\u001b[0;34m]\u001b[0m\u001b[0;34m.\u001b[0m\u001b[0mappend\u001b[0m\u001b[0;34m(\u001b[0m\u001b[0mC\u001b[0m\u001b[0;34m)\u001b[0m\u001b[0;34m\u001b[0m\u001b[0m\n\u001b[1;32m     11\u001b[0m     \u001b[0mhist\u001b[0m\u001b[0;34m[\u001b[0m\u001b[0;34m'gamma'\u001b[0m\u001b[0;34m]\u001b[0m\u001b[0;34m.\u001b[0m\u001b[0mappend\u001b[0m\u001b[0;34m(\u001b[0m\u001b[0mgamma\u001b[0m\u001b[0;34m)\u001b[0m\u001b[0;34m\u001b[0m\u001b[0m\n\u001b[0;32m---> 12\u001b[0;31m     \u001b[0mhist\u001b[0m\u001b[0;34m[\u001b[0m\u001b[0;34m'score_tr'\u001b[0m\u001b[0;34m]\u001b[0m\u001b[0;34m.\u001b[0m\u001b[0mappend\u001b[0m\u001b[0;34m(\u001b[0m \u001b[0msvc\u001b[0m\u001b[0;34m.\u001b[0m\u001b[0mscore\u001b[0m\u001b[0;34m(\u001b[0m\u001b[0mXtr\u001b[0m\u001b[0;34m,\u001b[0m \u001b[0mytr\u001b[0m\u001b[0;34m)\u001b[0m \u001b[0;34m)\u001b[0m\u001b[0;34m\u001b[0m\u001b[0m\n\u001b[0m\u001b[1;32m     13\u001b[0m     \u001b[0mhist\u001b[0m\u001b[0;34m[\u001b[0m\u001b[0;34m'score_ts'\u001b[0m\u001b[0;34m]\u001b[0m\u001b[0;34m.\u001b[0m\u001b[0mappend\u001b[0m\u001b[0;34m(\u001b[0m \u001b[0msvc\u001b[0m\u001b[0;34m.\u001b[0m\u001b[0mscore\u001b[0m\u001b[0;34m(\u001b[0m\u001b[0mXts\u001b[0m\u001b[0;34m,\u001b[0m \u001b[0myts\u001b[0m\u001b[0;34m)\u001b[0m \u001b[0;34m)\u001b[0m\u001b[0;34m\u001b[0m\u001b[0m\n\u001b[1;32m     14\u001b[0m \u001b[0;34m\u001b[0m\u001b[0m\n",
      "\u001b[0;32m/usr/local/lib/python3.6/site-packages/sklearn/base.py\u001b[0m in \u001b[0;36mscore\u001b[0;34m(self, X, y, sample_weight)\u001b[0m\n\u001b[1;32m    347\u001b[0m         \"\"\"\n\u001b[1;32m    348\u001b[0m         \u001b[0;32mfrom\u001b[0m \u001b[0;34m.\u001b[0m\u001b[0mmetrics\u001b[0m \u001b[0;32mimport\u001b[0m \u001b[0maccuracy_score\u001b[0m\u001b[0;34m\u001b[0m\u001b[0m\n\u001b[0;32m--> 349\u001b[0;31m         \u001b[0;32mreturn\u001b[0m \u001b[0maccuracy_score\u001b[0m\u001b[0;34m(\u001b[0m\u001b[0my\u001b[0m\u001b[0;34m,\u001b[0m \u001b[0mself\u001b[0m\u001b[0;34m.\u001b[0m\u001b[0mpredict\u001b[0m\u001b[0;34m(\u001b[0m\u001b[0mX\u001b[0m\u001b[0;34m)\u001b[0m\u001b[0;34m,\u001b[0m \u001b[0msample_weight\u001b[0m\u001b[0;34m=\u001b[0m\u001b[0msample_weight\u001b[0m\u001b[0;34m)\u001b[0m\u001b[0;34m\u001b[0m\u001b[0m\n\u001b[0m\u001b[1;32m    350\u001b[0m \u001b[0;34m\u001b[0m\u001b[0m\n\u001b[1;32m    351\u001b[0m \u001b[0;34m\u001b[0m\u001b[0m\n",
      "\u001b[0;32m/usr/local/lib/python3.6/site-packages/sklearn/svm/base.py\u001b[0m in \u001b[0;36mpredict\u001b[0;34m(self, X)\u001b[0m\n\u001b[1;32m    571\u001b[0m             \u001b[0mClass\u001b[0m \u001b[0mlabels\u001b[0m \u001b[0;32mfor\u001b[0m \u001b[0msamples\u001b[0m \u001b[0;32min\u001b[0m \u001b[0mX\u001b[0m\u001b[0;34m.\u001b[0m\u001b[0;34m\u001b[0m\u001b[0m\n\u001b[1;32m    572\u001b[0m         \"\"\"\n\u001b[0;32m--> 573\u001b[0;31m         \u001b[0my\u001b[0m \u001b[0;34m=\u001b[0m \u001b[0msuper\u001b[0m\u001b[0;34m(\u001b[0m\u001b[0mBaseSVC\u001b[0m\u001b[0;34m,\u001b[0m \u001b[0mself\u001b[0m\u001b[0;34m)\u001b[0m\u001b[0;34m.\u001b[0m\u001b[0mpredict\u001b[0m\u001b[0;34m(\u001b[0m\u001b[0mX\u001b[0m\u001b[0;34m)\u001b[0m\u001b[0;34m\u001b[0m\u001b[0m\n\u001b[0m\u001b[1;32m    574\u001b[0m         \u001b[0;32mreturn\u001b[0m \u001b[0mself\u001b[0m\u001b[0;34m.\u001b[0m\u001b[0mclasses_\u001b[0m\u001b[0;34m.\u001b[0m\u001b[0mtake\u001b[0m\u001b[0;34m(\u001b[0m\u001b[0mnp\u001b[0m\u001b[0;34m.\u001b[0m\u001b[0masarray\u001b[0m\u001b[0;34m(\u001b[0m\u001b[0my\u001b[0m\u001b[0;34m,\u001b[0m \u001b[0mdtype\u001b[0m\u001b[0;34m=\u001b[0m\u001b[0mnp\u001b[0m\u001b[0;34m.\u001b[0m\u001b[0mintp\u001b[0m\u001b[0;34m)\u001b[0m\u001b[0;34m)\u001b[0m\u001b[0;34m\u001b[0m\u001b[0m\n\u001b[1;32m    575\u001b[0m \u001b[0;34m\u001b[0m\u001b[0m\n",
      "\u001b[0;32m/usr/local/lib/python3.6/site-packages/sklearn/svm/base.py\u001b[0m in \u001b[0;36mpredict\u001b[0;34m(self, X)\u001b[0m\n\u001b[1;32m    310\u001b[0m         \u001b[0mX\u001b[0m \u001b[0;34m=\u001b[0m \u001b[0mself\u001b[0m\u001b[0;34m.\u001b[0m\u001b[0m_validate_for_predict\u001b[0m\u001b[0;34m(\u001b[0m\u001b[0mX\u001b[0m\u001b[0;34m)\u001b[0m\u001b[0;34m\u001b[0m\u001b[0m\n\u001b[1;32m    311\u001b[0m         \u001b[0mpredict\u001b[0m \u001b[0;34m=\u001b[0m \u001b[0mself\u001b[0m\u001b[0;34m.\u001b[0m\u001b[0m_sparse_predict\u001b[0m \u001b[0;32mif\u001b[0m \u001b[0mself\u001b[0m\u001b[0;34m.\u001b[0m\u001b[0m_sparse\u001b[0m \u001b[0;32melse\u001b[0m \u001b[0mself\u001b[0m\u001b[0;34m.\u001b[0m\u001b[0m_dense_predict\u001b[0m\u001b[0;34m\u001b[0m\u001b[0m\n\u001b[0;32m--> 312\u001b[0;31m         \u001b[0;32mreturn\u001b[0m \u001b[0mpredict\u001b[0m\u001b[0;34m(\u001b[0m\u001b[0mX\u001b[0m\u001b[0;34m)\u001b[0m\u001b[0;34m\u001b[0m\u001b[0m\n\u001b[0m\u001b[1;32m    313\u001b[0m \u001b[0;34m\u001b[0m\u001b[0m\n\u001b[1;32m    314\u001b[0m     \u001b[0;32mdef\u001b[0m \u001b[0m_dense_predict\u001b[0m\u001b[0;34m(\u001b[0m\u001b[0mself\u001b[0m\u001b[0;34m,\u001b[0m \u001b[0mX\u001b[0m\u001b[0;34m)\u001b[0m\u001b[0;34m:\u001b[0m\u001b[0;34m\u001b[0m\u001b[0m\n",
      "\u001b[0;32m/usr/local/lib/python3.6/site-packages/sklearn/svm/base.py\u001b[0m in \u001b[0;36m_dense_predict\u001b[0;34m(self, X)\u001b[0m\n\u001b[1;32m    333\u001b[0m             \u001b[0mself\u001b[0m\u001b[0;34m.\u001b[0m\u001b[0mprobA_\u001b[0m\u001b[0;34m,\u001b[0m \u001b[0mself\u001b[0m\u001b[0;34m.\u001b[0m\u001b[0mprobB_\u001b[0m\u001b[0;34m,\u001b[0m \u001b[0msvm_type\u001b[0m\u001b[0;34m=\u001b[0m\u001b[0msvm_type\u001b[0m\u001b[0;34m,\u001b[0m \u001b[0mkernel\u001b[0m\u001b[0;34m=\u001b[0m\u001b[0mkernel\u001b[0m\u001b[0;34m,\u001b[0m\u001b[0;34m\u001b[0m\u001b[0m\n\u001b[1;32m    334\u001b[0m             \u001b[0mdegree\u001b[0m\u001b[0;34m=\u001b[0m\u001b[0mself\u001b[0m\u001b[0;34m.\u001b[0m\u001b[0mdegree\u001b[0m\u001b[0;34m,\u001b[0m \u001b[0mcoef0\u001b[0m\u001b[0;34m=\u001b[0m\u001b[0mself\u001b[0m\u001b[0;34m.\u001b[0m\u001b[0mcoef0\u001b[0m\u001b[0;34m,\u001b[0m \u001b[0mgamma\u001b[0m\u001b[0;34m=\u001b[0m\u001b[0mself\u001b[0m\u001b[0;34m.\u001b[0m\u001b[0m_gamma\u001b[0m\u001b[0;34m,\u001b[0m\u001b[0;34m\u001b[0m\u001b[0m\n\u001b[0;32m--> 335\u001b[0;31m             cache_size=self.cache_size)\n\u001b[0m\u001b[1;32m    336\u001b[0m \u001b[0;34m\u001b[0m\u001b[0m\n\u001b[1;32m    337\u001b[0m     \u001b[0;32mdef\u001b[0m \u001b[0m_sparse_predict\u001b[0m\u001b[0;34m(\u001b[0m\u001b[0mself\u001b[0m\u001b[0;34m,\u001b[0m \u001b[0mX\u001b[0m\u001b[0;34m)\u001b[0m\u001b[0;34m:\u001b[0m\u001b[0;34m\u001b[0m\u001b[0m\n",
      "\u001b[0;31mKeyboardInterrupt\u001b[0m: "
     ]
    }
   ],
   "source": [
    "for i in range(500):\n",
    "    C     = 10 ** np.random.uniform(-6.5, 1.5)\n",
    "    gamma = 10 ** np.random.uniform(-6.5, 1.5)\n",
    "    svc = svm.SVC(probability=False,  kernel=\"rbf\", C=C, gamma=gamma, verbose=False)\n",
    "    svc.fit(Xtr, ytr)\n",
    "\n",
    "#     print(\"\\ntr:{:.4f} {:.4f} {:.4f}\".format(C, gamma, svc.score(Xtr, ytr)))\n",
    "#     print(\"ts:{:.4f} {:.4f} {:.4f}\\n\".format(C, gamma, svc.score(Xts, yts)))\n",
    "    \n",
    "    hist['c'].append(C)\n",
    "    hist['gamma'].append(gamma)\n",
    "    hist['score_tr'].append( svc.score(Xtr, ytr) )\n",
    "    hist['score_ts'].append( svc.score(Xts, yts) )\n",
    "    \n",
    "    print(\"sample #{} with C={:.5f}, gamma={:.5f}, tr={:.3f}, ts={:.3f}\"\n",
    "          .format(i, C, gamma, hist['score_tr'][-1], hist['score_ts'][-1]))\n",
    "\n"
   ]
  },
  {
   "cell_type": "code",
   "execution_count": 64,
   "metadata": {
    "collapsed": false
   },
   "outputs": [
    {
     "name": "stdout",
     "output_type": "stream",
     "text": [
      "3.855 0.002186 0.7358\n"
     ]
    }
   ],
   "source": [
    "maxIdx = np.argmax(hist['score_ts'])\n",
    "C_opt     = hist['c'][maxIdx]\n",
    "gamma_opt = hist['gamma'][maxIdx]\n",
    "score_opt = hist['score_ts'][maxIdx]\n",
    "\n",
    "print(\"{:.4} {:.4} {:.4}\".format(C_opt, gamma_opt, score_opt))"
   ]
  },
  {
   "cell_type": "code",
   "execution_count": 72,
   "metadata": {
    "collapsed": false
   },
   "outputs": [
    {
     "name": "stdout",
     "output_type": "stream",
     "text": [
      "110 110 109 109\n",
      "109 109 109 109\n"
     ]
    }
   ],
   "source": [
    "print(len(hist['c']), len(hist['gamma']), len(hist['score_tr']), len(hist['score_ts']))\n",
    "hist['c'] = hist['c'][:-1]\n",
    "hist['gamma'] = hist['gamma'][:-1]\n",
    "print(len(hist['c']), len(hist['gamma']), len(hist['score_tr']), len(hist['score_ts']))\n"
   ]
  },
  {
   "cell_type": "code",
   "execution_count": 73,
   "metadata": {
    "collapsed": false
   },
   "outputs": [
    {
     "data": {
      "text/plain": [
       "<matplotlib.legend.Legend at 0x113b42358>"
      ]
     },
     "execution_count": 73,
     "metadata": {},
     "output_type": "execute_result"
    },
    {
     "data": {
      "image/png": "[encoded data removed]",
      "text/plain": [
       "<matplotlib.figure.Figure at 0x110a66128>"
      ]
     },
     "metadata": {},
     "output_type": "display_data"
    }
   ],
   "source": [
    "plt.figure(figsize=(12,4))\n",
    "\n",
    "plt.subplot(1, 2, 1)\n",
    "plt.xlabel('C')\n",
    "plt.semilogx(hist['c'], hist['score_tr'], 'o', label=\"train\")\n",
    "plt.semilogx(hist['c'], hist['score_ts'], 'o', label=\"test\")\n",
    "plt.semilogx(C        , score_opt,        'x', label=\"best\")\n",
    "plt.legend()\n",
    "\n",
    "\n",
    "plt.subplot(1, 2, 2)\n",
    "plt.semilogx(hist['gamma'], hist['score_tr'], 'o', label=\"train\")\n",
    "plt.semilogx(hist['gamma'], hist['score_ts'], 'o', label=\"test\")\n",
    "plt.semilogx(gamma        , score_opt,        'x', label=\"best\")\n",
    "plt.legend()\n",
    "\n",
    "# "
   ]
  },
  {
   "cell_type": "code",
   "execution_count": 75,
   "metadata": {
    "collapsed": false
   },
   "outputs": [
    {
     "name": "stdout",
     "output_type": "stream",
     "text": [
      "3.855 0.002186 0.7358\n"
     ]
    },
    {
     "data": {
      "image/png": "[encoded data removed]",
      "text/plain": [
       "<matplotlib.figure.Figure at 0x113b22f98>"
      ]
     },
     "metadata": {},
     "output_type": "display_data"
    }
   ],
   "source": [
    "from mpl_toolkits.mplot3d import Axes3D\n",
    "\n",
    "fig = plt.figure()\n",
    "ax = fig.add_subplot(111, projection='3d')\n",
    "\n",
    "ax.scatter(hist['c'], hist['gamma'], hist['score_ts'])\n",
    "ax.set_xlabel('C')\n",
    "ax.set_ylabel('gamma')\n",
    "ax.set_zlabel('val_score')\n",
    "\n",
    "ax.scatter(C_opt, gamma_opt, score_opt)\n",
    "print(\"{:.4} {:.4} {:.4}\".format(C_opt, gamma_opt, score_opt))"
   ]
  },
  {
   "cell_type": "code",
   "execution_count": 76,
   "metadata": {
    "collapsed": false
   },
   "outputs": [
    {
     "name": "stdout",
     "output_type": "stream",
     "text": [
      "[LibSVM]"
     ]
    },
    {
     "data": {
      "text/plain": [
       "SVC(C=3.855003375591182, cache_size=200, class_weight=None, coef0=0.0,\n",
       "  decision_function_shape=None, degree=3, gamma=0.0021862095012305234,\n",
       "  kernel='rbf', max_iter=-1, probability=False, random_state=None,\n",
       "  shrinking=True, tol=0.001, verbose=10)"
      ]
     },
     "execution_count": 76,
     "metadata": {},
     "output_type": "execute_result"
    }
   ],
   "source": [
    "n = 1000\n",
    "ntr = 700\n",
    "\n",
    "idxs = np.random.permutation(n)\n",
    "Xtr = X[:ntr]\n",
    "ytr = y[:ntr]\n",
    "Xts = X[ntr:]\n",
    "yts = y[ntr:]\n",
    "\n",
    "svc = svm.SVC(probability=False,  kernel=\"rbf\", C=C_opt, gamma=gamma_opt, verbose=10)\n",
    "svc.fit(Xtr, ytr)"
   ]
  },
  {
   "cell_type": "code",
   "execution_count": 77,
   "metadata": {
    "collapsed": false
   },
   "outputs": [
    {
     "name": "stdout",
     "output_type": "stream",
     "text": [
      "0.995714285714\n",
      "0.735849056604\n"
     ]
    }
   ],
   "source": [
    "print(svc.score(Xtr, ytr))\n",
    "print(svc.score(Xts, yts))"
   ]
  },
  {
   "cell_type": "code",
   "execution_count": 78,
   "metadata": {
    "collapsed": false
   },
   "outputs": [
    {
     "name": "stdout",
     "output_type": "stream",
     "text": [
      "[LibSVM]"
     ]
    },
    {
     "data": {
      "text/plain": [
       "SVC(C=3.855003375591182, cache_size=200, class_weight=None, coef0=0.0,\n",
       "  decision_function_shape=None, degree=3, gamma=0.0021862095012305234,\n",
       "  kernel='rbf', max_iter=-1, probability=False, random_state=None,\n",
       "  shrinking=True, tol=0.001, verbose=10)"
      ]
     },
     "execution_count": 78,
     "metadata": {},
     "output_type": "execute_result"
    }
   ],
   "source": [
    "n = 6000\n",
    "ntr = 5000\n",
    "\n",
    "idxs = np.random.permutation(n)\n",
    "Xtr = X[:ntr]\n",
    "ytr = y[:ntr]\n",
    "Xts = X[ntr:]\n",
    "yts = y[ntr:]\n",
    "\n",
    "svc = svm.SVC(probability=False,  kernel=\"rbf\", C=C_opt, gamma=gamma_opt, verbose=10)\n",
    "svc.fit(Xtr, ytr)"
   ]
  },
  {
   "cell_type": "code",
   "execution_count": 79,
   "metadata": {
    "collapsed": false
   },
   "outputs": [
    {
     "name": "stdout",
     "output_type": "stream",
     "text": [
      "0.9966\n",
      "0.0\n"
     ]
    }
   ],
   "source": [
    "print(svc.score(Xtr, ytr))\n",
    "print(svc.score(Xts, yts))"
   ]
  },
  {
   "cell_type": "code",
   "execution_count": 81,
   "metadata": {
    "collapsed": true
   },
   "outputs": [],
   "source": [
    "n = 2000\n",
    "ntr = 1600\n",
    "\n",
    "idxs = np.random.permutation(n)\n",
    "Xtr = X[:ntr]\n",
    "ytr = y[:ntr]\n",
    "Xts = X[ntr:]\n",
    "yts = y[ntr:]"
   ]
  },
  {
   "cell_type": "code",
   "execution_count": 82,
   "metadata": {
    "collapsed": false
   },
   "outputs": [
    {
     "name": "stdout",
     "output_type": "stream",
     "text": [
      "sample #0 with C=3.43271, gamma=0.00290, tr=0.998, ts=0.723\n",
      "sample #1 with C=5.54069, gamma=0.00228, tr=0.999, ts=0.723\n",
      "sample #2 with C=8.42509, gamma=0.04437, tr=1.000, ts=0.312\n",
      "sample #3 with C=5.37918, gamma=0.00001, tr=0.542, ts=0.405\n",
      "sample #4 with C=3.61761, gamma=0.00019, tr=0.916, ts=0.686\n",
      "sample #5 with C=8.10955, gamma=0.01557, tr=1.000, ts=0.704\n",
      "sample #6 with C=9.69356, gamma=0.00012, tr=0.928, ts=0.695\n",
      "sample #7 with C=13.69967, gamma=0.01011, tr=1.000, ts=0.723\n",
      "sample #8 with C=2.74261, gamma=0.00010, tr=0.888, ts=0.670\n",
      "sample #9 with C=4.29528, gamma=0.04395, tr=1.000, ts=0.317\n",
      "sample #10 with C=6.38866, gamma=0.00388, tr=1.000, ts=0.727\n",
      "sample #11 with C=2.85976, gamma=0.02773, tr=1.000, ts=0.626\n",
      "sample #12 with C=2.31872, gamma=0.01795, tr=1.000, ts=0.689\n",
      "sample #13 with C=6.30653, gamma=0.00592, tr=1.000, ts=0.728\n",
      "sample #14 with C=2.89217, gamma=0.00602, tr=0.999, ts=0.728\n",
      "sample #15 with C=5.92040, gamma=0.00135, tr=0.995, ts=0.715\n",
      "sample #16 with C=6.87325, gamma=0.00001, tr=0.725, ts=0.555\n",
      "sample #17 with C=2.95106, gamma=0.01200, tr=1.000, ts=0.720\n",
      "sample #18 with C=9.21158, gamma=0.00001, tr=0.802, ts=0.613\n",
      "sample #19 with C=8.61363, gamma=0.00004, tr=0.892, ts=0.670\n",
      "sample #20 with C=10.97340, gamma=0.00025, tr=0.963, ts=0.702\n",
      "sample #21 with C=7.22979, gamma=0.00001, tr=0.721, ts=0.549\n",
      "sample #22 with C=7.30289, gamma=0.00818, tr=1.000, ts=0.726\n",
      "sample #23 with C=12.58226, gamma=0.00251, tr=1.000, ts=0.723\n",
      "sample #24 with C=2.83285, gamma=0.00307, tr=0.998, ts=0.724\n",
      "sample #25 with C=5.85494, gamma=0.00058, tr=0.977, ts=0.707\n",
      "sample #26 with C=2.88989, gamma=0.00022, tr=0.911, ts=0.684\n",
      "sample #27 with C=4.20326, gamma=0.00001, tr=0.230, ts=0.158\n",
      "sample #28 with C=7.50870, gamma=0.00001, tr=0.833, ts=0.637\n",
      "sample #29 with C=4.62437, gamma=0.00098, tr=0.986, ts=0.712\n",
      "sample #30 with C=13.98315, gamma=0.00669, tr=1.000, ts=0.728\n",
      "sample #31 with C=4.78048, gamma=0.01981, tr=1.000, ts=0.677\n",
      "sample #32 with C=2.81051, gamma=0.00922, tr=1.000, ts=0.725\n",
      "sample #33 with C=8.81571, gamma=0.00207, tr=0.999, ts=0.721\n",
      "sample #34 with C=2.81313, gamma=0.03522, tr=1.000, ts=0.451\n",
      "sample #35 with C=2.00978, gamma=0.00003, tr=0.682, ts=0.517\n",
      "sample #36 with C=11.73982, gamma=0.00004, tr=0.901, ts=0.677\n",
      "sample #37 with C=8.37167, gamma=0.00371, tr=1.000, ts=0.727\n",
      "sample #38 with C=12.66227, gamma=0.00118, tr=0.999, ts=0.715\n",
      "sample #39 with C=3.05960, gamma=0.00502, tr=0.999, ts=0.729\n",
      "sample #40 with C=2.93078, gamma=0.01945, tr=1.000, ts=0.679\n",
      "sample #41 with C=7.37409, gamma=0.00597, tr=1.000, ts=0.728\n",
      "sample #42 with C=7.11508, gamma=0.02215, tr=1.000, ts=0.660\n",
      "sample #43 with C=9.78569, gamma=0.00004, tr=0.901, ts=0.677\n",
      "sample #44 with C=2.31761, gamma=0.00031, tr=0.918, ts=0.687\n",
      "sample #45 with C=7.69646, gamma=0.00001, tr=0.761, ts=0.580\n",
      "sample #46 with C=2.13063, gamma=0.01229, tr=1.000, ts=0.718\n",
      "sample #47 with C=2.03044, gamma=0.00185, tr=0.984, ts=0.716\n",
      "sample #48 with C=9.80008, gamma=0.00008, tr=0.919, ts=0.689\n",
      "sample #49 with C=5.82694, gamma=0.00702, tr=1.000, ts=0.727\n"
     ]
    }
   ],
   "source": [
    "for i in range(50):\n",
    "    C     = 10 ** np.random.uniform(np.log10(C_opt)/2, np.log10(C_opt)*2)\n",
    "    gamma = 10 ** np.random.uniform(np.log10(gamma_opt)/2, np.log10(gamma_opt)*2)\n",
    "    svc = svm.SVC(probability=False,  kernel=\"rbf\", C=C, gamma=gamma, verbose=False)\n",
    "    svc.fit(Xtr, ytr)\n",
    "\n",
    "#     print(\"\\ntr:{:.4f} {:.4f} {:.4f}\".format(C, gamma, svc.score(Xtr, ytr)))\n",
    "#     print(\"ts:{:.4f} {:.4f} {:.4f}\\n\".format(C, gamma, svc.score(Xts, yts)))\n",
    "    \n",
    "    hist['c'].append(C)\n",
    "    hist['gamma'].append(gamma)\n",
    "    hist['score_tr'].append( svc.score(Xtr, ytr) )\n",
    "    hist['score_ts'].append( svc.score(Xts, yts) )\n",
    "    \n",
    "    print(\"sample #{} with C={:.5f}, gamma={:.5f}, tr={:.3f}, ts={:.3f}\"\n",
    "          .format(i, C, gamma, hist['score_tr'][-1], hist['score_ts'][-1]))\n",
    "\n"
   ]
  },
  {
   "cell_type": "code",
   "execution_count": 83,
   "metadata": {
    "collapsed": false
   },
   "outputs": [
    {
     "name": "stdout",
     "output_type": "stream",
     "text": [
      "3.855 0.002186 0.7358\n"
     ]
    }
   ],
   "source": [
    "maxIdx = np.argmax(hist['score_ts'])\n",
    "C_opt     = hist['c'][maxIdx]\n",
    "gamma_opt = hist['gamma'][maxIdx]\n",
    "score_opt = hist['score_ts'][maxIdx]\n",
    "\n",
    "print(\"{:.4} {:.4} {:.4}\".format(C_opt, gamma_opt, score_opt))"
   ]
  },
  {
   "cell_type": "code",
   "execution_count": 94,
   "metadata": {
    "collapsed": false
   },
   "outputs": [
    {
     "name": "stdout",
     "output_type": "stream",
     "text": [
      "[LibSVM]"
     ]
    },
    {
     "data": {
      "text/plain": [
       "SVC(C=3.8, cache_size=200, class_weight=None, coef0=0.0,\n",
       "  decision_function_shape=None, degree=3, gamma='auto', kernel='rbf',\n",
       "  max_iter=-1, probability=False, random_state=None, shrinking=True,\n",
       "  tol=0.001, verbose=10)"
      ]
     },
     "execution_count": 94,
     "metadata": {},
     "output_type": "execute_result"
    }
   ],
   "source": [
    "n = 6000\n",
    "ntr = 6000\n",
    "\n",
    "idxs = np.random.permutation(n)\n",
    "Xtr = X[:ntr]\n",
    "ytr = y[:ntr]\n",
    "Xts = X[ntr:]\n",
    "yts = y[ntr:]\n",
    "\n",
    "# svc = svm.SVC(probability=False,  kernel=\"rbf\", C=C_opt, gamma=gamma_opt, verbose=10)\n",
    "svc = svm.SVC(probability=False,  kernel=\"rbf\", C=3.8, verbose=10)\n",
    "svc.fit(Xtr, ytr)"
   ]
  },
  {
   "cell_type": "code",
   "execution_count": 95,
   "metadata": {
    "collapsed": false
   },
   "outputs": [
    {
     "name": "stdout",
     "output_type": "stream",
     "text": [
      "0.9825\n",
      "0.4735\n"
     ]
    }
   ],
   "source": [
    "print(svc.score(Xtr, ytr))\n",
    "print(svc.score(Xts, yts))"
   ]
  },
  {
   "cell_type": "markdown",
   "metadata": {
    "collapsed": true,
    "deletable": true,
    "editable": true
   },
   "source": [
    "Print the normalized confusion matrix"
   ]
  },
  {
   "cell_type": "code",
   "execution_count": null,
   "metadata": {
    "collapsed": true,
    "deletable": true,
    "editable": true
   },
   "outputs": [],
   "source": [
    "# TODO\n",
    "from sklearn.metrics import confusion_matrix\n"
   ]
  },
  {
   "cell_type": "markdown",
   "metadata": {
    "deletable": true,
    "editable": true
   },
   "source": [
    "## Plotting some error samples\n",
    "\n",
    "We now plot some errors.  Plot up to four images where yhat == 10 but yts != 10.  That is, the true image was a digit, but the classifier classified it as a non-digit.  Note there may be less than four such errors (when I ran it I got only three such errors).  In that case, just plot only the errors you got.  If there are no errors, print \"No such error found\""
   ]
  },
  {
   "cell_type": "code",
   "execution_count": null,
   "metadata": {
    "collapsed": true,
    "deletable": true,
    "editable": true
   },
   "outputs": [],
   "source": [
    "# TODO"
   ]
  },
  {
   "cell_type": "markdown",
   "metadata": {
    "deletable": true,
    "editable": true
   },
   "source": [
    "Now plot up to four images where yhat != 10, but yts == 10.  That is, the image was a non-digit, but the classifier thought it was an image.  I happened to get no such images.  If you find no such examples, print \"No such error found\"."
   ]
  },
  {
   "cell_type": "code",
   "execution_count": null,
   "metadata": {
    "collapsed": true,
    "deletable": true,
    "editable": true
   },
   "outputs": [],
   "source": [
    "# TODO"
   ]
  },
  {
   "cell_type": "markdown",
   "metadata": {
    "deletable": true,
    "editable": true
   },
   "source": [
    "Finally, plot up to four images where yts != yhat and both yts < 10 and yhat < 10."
   ]
  },
  {
   "cell_type": "code",
   "execution_count": null,
   "metadata": {
    "collapsed": true,
    "deletable": true,
    "editable": true
   },
   "outputs": [],
   "source": [
    "# TODO"
   ]
  },
  {
   "cell_type": "code",
   "execution_count": null,
   "metadata": {
    "collapsed": true,
    "deletable": true,
    "editable": true
   },
   "outputs": [],
   "source": []
  }
 ],
 "metadata": {
  "anaconda-cloud": {},
  "kernelspec": {
   "display_name": "Python 3",
   "language": "python",
   "name": "python3"
  },
  "language_info": {
   "codemirror_mode": {
    "name": "ipython",
    "version": 3
   },
   "file_extension": ".py",
   "mimetype": "text/x-python",
   "name": "python",
   "nbconvert_exporter": "python",
   "pygments_lexer": "ipython3",
   "version": "3.6.1"
  }
 },
 "nbformat": 4,
 "nbformat_minor": 1
}
