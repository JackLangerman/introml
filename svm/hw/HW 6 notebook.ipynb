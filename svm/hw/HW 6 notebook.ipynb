{
 "cells": [
  {
   "cell_type": "code",
   "execution_count": 19,
   "metadata": {
    "collapsed": false
   },
   "outputs": [],
   "source": [
    "import numpy as np\n",
    "import matplotlib\n",
    "import matplotlib.pyplot as plt\n",
    "\n",
    "%matplotlib inline"
   ]
  },
  {
   "cell_type": "code",
   "execution_count": 20,
   "metadata": {
    "collapsed": false
   },
   "outputs": [],
   "source": [
    "x = np.array([0, 1.3, 2.1, 2.8, 4.2, 5.7])\n",
    "y = np.array([-1, -1, -1, 1, -1, 1 ])"
   ]
  },
  {
   "cell_type": "code",
   "execution_count": 84,
   "metadata": {
    "collapsed": false
   },
   "outputs": [],
   "source": [
    "def predict(x, t):\n",
    "    z = x-t\n",
    "    return 1 if z > 0 else (-1 if z < 0 else float('NaN')) # 1 if z>0, -1 if z<0, break if z==0\n",
    "    return res"
   ]
  },
  {
   "cell_type": "code",
   "execution_count": 85,
   "metadata": {
    "collapsed": false
   },
   "outputs": [],
   "source": [
    "def hindgeLoss(x, y, t):\n",
    "    z = x-t\n",
    "    epsilon = np.maximum(0, 1 - y*z)\n",
    "    return np.sum(epsilon)"
   ]
  },
  {
   "cell_type": "markdown",
   "metadata": {},
   "source": [
    "### Part 2 (a)"
   ]
  },
  {
   "cell_type": "code",
   "execution_count": 86,
   "metadata": {
    "collapsed": false
   },
   "outputs": [
    {
     "data": {
      "image/png": "[encoded data removed]",
      "text/plain": [
       "<matplotlib.figure.Figure at 0x1087b2cf8>"
      ]
     },
     "metadata": {},
     "output_type": "display_data"
    }
   ],
   "source": [
    "plt.figure(figsize=(12,4))\n",
    "for i, cmp in enumerate([lambda a, b: a<b, lambda a, b: a<=b]):\n",
    "    plt.subplot(1,2,i+1)\n",
    "    hist = {}\n",
    "    minLoss = float('Inf')\n",
    "    t_best = -1\n",
    "    hist['t'] = []\n",
    "    hist['J'] = []\n",
    "    \n",
    "    for t in np.linspace(0, 5, 100):\n",
    "        J = hindgeLoss(x, y, t)\n",
    "\n",
    "        if cmp(J, minLoss):\n",
    "            minLoss = J\n",
    "            t_best = t\n",
    "\n",
    "        hist['t'].append(t)\n",
    "        hist['J'].append(J)\n",
    "\n",
    "    plt.title(\"Best (t, J): ({:.4f}, {:.4f})\".format(t_best, minLoss))\n",
    "    plt.plot(hist['t'], hist['J'], label=\"loss\")\n",
    "    plt.plot(t_best, minLoss, 'o', label=\"min loss\")\n",
    "    plt.legend()"
   ]
  },
  {
   "cell_type": "markdown",
   "metadata": {},
   "source": [
    "### Part 2 (c)"
   ]
  },
  {
   "cell_type": "code",
   "execution_count": 111,
   "metadata": {
    "collapsed": false
   },
   "outputs": [
    {
     "name": "stdout",
     "output_type": "stream",
     "text": [
      "[ 0.   0.   0.   2.7  0.7  0. ]\n"
     ]
    }
   ],
   "source": [
    "t = 4.5\n",
    "z = x-t\n",
    "epsilon = np.maximum(0, 1 - y*z)\n",
    "\n",
    "print(epsilon)"
   ]
  },
  {
   "cell_type": "markdown",
   "metadata": {
    "deletable": true,
    "editable": true
   },
   "source": [
    "### Part 2 (d)"
   ]
  },
  {
   "cell_type": "code",
   "execution_count": 112,
   "metadata": {
    "collapsed": true
   },
   "outputs": [],
   "source": [
    "def predict(x, t):\n",
    "    z = x-t\n",
    "    res = np.zeros_like(z)\n",
    "    res[np.greater(z, 0)] = 1\n",
    "    res[np.less(z, 0)] = -1\n",
    "    res[np.equal(z, 0)] = float('NaN')\n",
    "    return res"
   ]
  },
  {
   "cell_type": "code",
   "execution_count": 120,
   "metadata": {
    "collapsed": false
   },
   "outputs": [
    {
     "name": "stdout",
     "output_type": "stream",
     "text": [
      " x\ty\ty_hat\tcorrect\tslack\n",
      " 0.0\t-1\t-1.0\tTrue\t0.0\n",
      " 1.3\t-1\t-1.0\tTrue\t0.0\n",
      " 2.1\t-1\t-1.0\tTrue\t0.0\n",
      " 2.8\t1\t-1.0\tFalse\t2.7\n",
      " 4.2\t-1\t-1.0\tTrue\t0.7000000000000002\n",
      " 5.7\t1\t1.0\tTrue\t0.0\n",
      "\n"
     ]
    },
    {
     "data": {
      "image/png": "[encoded data removed]",
      "text/plain": [
       "<matplotlib.figure.Figure at 0x108ae5f60>"
      ]
     },
     "metadata": {},
     "output_type": "display_data"
    }
   ],
   "source": [
    "plt.plot(x, y, 'o')\n",
    "plt.plot([t,t], [-1, 1])\n",
    "\n",
    "print(\" x\\ty\\ty_hat\\tcorrect\\tslack\")\n",
    "print(\"\", *[\"{}\\t{}\\t{}\\t{}\\t{}\\n\".format(*u) for u in zip(x, y, predict(x, t), predict(x, t)==y, epsilon)] )  "
   ]
  },
  {
   "cell_type": "code",
   "execution_count": 122,
   "metadata": {
    "collapsed": false
   },
   "outputs": [
    {
     "name": "stdout",
     "output_type": "stream",
     "text": [
      " x & y & y_hat & correct & slack \\hline\n",
      " 0.0 & -1 & -1.0 & True & 0.0 \\\\\n",
      " 1.3 & -1 & -1.0 & True & 0.0 \\\\\n",
      " 2.1 & -1 & -1.0 & True & 0.0 \\\\\n",
      " 2.8 & 1 & -1.0 & False & 2.7 \\\\\n",
      " 4.2 & -1 & -1.0 & True & 0.7000000000000002 \\\\\n",
      " 5.7 & 1 & 1.0 & True & 0.0 \\\\\n",
      "\n"
     ]
    }
   ],
   "source": [
    "print(\" x & y & y_hat & correct & slack \\\\hline\")\n",
    "print(\"\", *[\"{} & {} & {} & {} & {} \\\\\\\\\\n\".format(*u) for u in zip(x, y, predict(x, t), predict(x, t)==y, epsilon)] )  "
   ]
  },
  {
   "cell_type": "markdown",
   "metadata": {},
   "source": [
    "### Part 3 (a)"
   ]
  },
  {
   "cell_type": "code",
   "execution_count": 158,
   "metadata": {
    "collapsed": false
   },
   "outputs": [
    {
     "name": "stdout",
     "output_type": "stream",
     "text": [
      "X = [0 0 0 0 0 0 0 0 0 1 1 1 0 0 0 0]\n",
      "W = [0 0 0 0 0 1 1 0 0 1 1 0 0 0 0 0]\n",
      "x \\dot w = 2\n"
     ]
    }
   ],
   "source": [
    "X = [\n",
    " [0, 0, 0,  0],\n",
    " [0, 0, 1,  0],\n",
    " [0, 0, 1,  0],\n",
    " [0, 0, 1,  0]\n",
    "]\n",
    "\n",
    "W = [\n",
    " [0, 0, 0,  0],\n",
    " [0, 1, 1,  0],\n",
    " [0, 1, 1,  0],\n",
    " [0, 0, 0,  0]\n",
    "]\n",
    "\n",
    "X, W = np.array(X), np.array(W)\n",
    "\n",
    "\n",
    "def vec(A):\n",
    "    B = []\n",
    "    [B.extend(A[:, i]) for i in range(A.shape[1])]\n",
    "    return np.array(B)\n",
    "\n",
    "x = vec(X)\n",
    "w = vec(W)\n",
    "\n",
    "print(\"X =\",x)\n",
    "print(\"W =\",w)\n",
    "print(\"x \\\\dot w =\", np.dot(x, w))"
   ]
  },
  {
   "cell_type": "markdown",
   "metadata": {},
   "source": [
    "### Part 3 (e)"
   ]
  },
  {
   "cell_type": "code",
   "execution_count": 159,
   "metadata": {
    "collapsed": false
   },
   "outputs": [
    {
     "name": "stdout",
     "output_type": "stream",
     "text": [
      "[[0 0 0 0]\n",
      " [0 0 1 0]\n",
      " [0 0 1 0]\n",
      " [0 0 1 0]]\n"
     ]
    }
   ],
   "source": [
    "print(x.reshape(4,4, order='F'))"
   ]
  },
  {
   "cell_type": "markdown",
   "metadata": {},
   "source": [
    "### Part 4 (a)"
   ]
  },
  {
   "cell_type": "code",
   "execution_count": 275,
   "metadata": {
    "collapsed": false
   },
   "outputs": [],
   "source": [
    "# data\n",
    "x = np.array([0, 1, 2, 3])\n",
    "y = np.array([1, -1, 1, -1])\n",
    "\n",
    "# params\n",
    "alpha = np.array([0, 0, 1, 1]) # dual vector\n",
    "gamma = 3                      # param for rbf\n",
    "\n",
    "def rbf(a, b):\n",
    "    return np.exp(-gamma * (a-b)**2)\n",
    "\n",
    "def predict(x, alpha, gamma, K):\n",
    "    # data\n",
    "    data_x = np.array([0, 1, 2, 3])\n",
    "    data_y = np.array([1, -1, 1, -1])\n",
    "\n",
    "    # score\n",
    "    z = np.matmul(K(x, data_x), alpha*data_y)\n",
    "    \n",
    "    # prediction\n",
    "    y_hat = np.zeros_like(z)\n",
    "    y_hat[np.greater(z, 0)] = 1\n",
    "    y_hat[np.less(z, 0)] = -1\n",
    "    \n",
    "    return y_hat\n"
   ]
  },
  {
   "cell_type": "code",
   "execution_count": 276,
   "metadata": {
    "collapsed": false
   },
   "outputs": [
    {
     "name": "stdout",
     "output_type": "stream",
     "text": [
      "\n",
      "\t75.0% accuracy\n",
      "\n"
     ]
    },
    {
     "data": {
      "text/plain": [
       "[<matplotlib.lines.Line2D at 0x109eb5e48>]"
      ]
     },
     "execution_count": 276,
     "metadata": {},
     "output_type": "execute_result"
    },
    {
     "data": {
      "image/png": "[encoded data removed]",
      "text/plain": [
       "<matplotlib.figure.Figure at 0x109dd1c50>"
      ]
     },
     "metadata": {},
     "output_type": "display_data"
    }
   ],
   "source": [
    "# data\n",
    "data_x = np.array([0, 1, 2, 3])\n",
    "data_y = np.array([1, -1, 1, -1])\n",
    "\n",
    "# params\n",
    "alpha = np.array([0, 0, 1, 1]) # dual vector\n",
    "gamma = 3                      # param for rbf\n",
    "\n",
    "# kernal function \n",
    "def K(a, b):\n",
    "    return np.exp(-gamma * (a-b)**2)\n",
    "\n",
    "# points to classify\n",
    "x = np.linspace(0,3)[:, None]\n",
    "\n",
    "# interior score\n",
    "z = np.matmul(K(x, data_x), alpha*data_y)\n",
    "\n",
    "# prediction\n",
    "y_hat = predict(data_x[:,None], alpha, gamma, K)\n",
    "\n",
    "# accuracy\n",
    "acc_a = np.mean(np.equal(y_hat, data_y))\n",
    "print(\"\\n\\t{}% accuracy\\n\".format(100*acc_a))\n",
    "\n",
    "# plot\n",
    "plt.plot(x, z)"
   ]
  },
  {
   "cell_type": "markdown",
   "metadata": {
    "deletable": true,
    "editable": true
   },
   "source": [
    "### Part 4 (b)"
   ]
  },
  {
   "cell_type": "code",
   "execution_count": 277,
   "metadata": {
    "collapsed": false
   },
   "outputs": [
    {
     "name": "stdout",
     "output_type": "stream",
     "text": [
      "\n",
      "\t50.0% accuracy\n",
      "\n"
     ]
    },
    {
     "data": {
      "text/plain": [
       "[<matplotlib.lines.Line2D at 0x109fbceb8>]"
      ]
     },
     "execution_count": 277,
     "metadata": {},
     "output_type": "execute_result"
    },
    {
     "data": {
      "image/png": "[encoded data removed]",
      "text/plain": [
       "<matplotlib.figure.Figure at 0x109ee5da0>"
      ]
     },
     "metadata": {},
     "output_type": "display_data"
    }
   ],
   "source": [
    "# data\n",
    "data_x = np.array([0, 1, 2, 3])\n",
    "data_y = np.array([1, -1, 1, -1])\n",
    "\n",
    "# params\n",
    "alpha = np.array([1, 1, 1, 1]) # dual vector\n",
    "gamma = 0.3                      # param for rbf\n",
    "\n",
    "# kernal function \n",
    "def K(a, b):\n",
    "    return np.exp(-gamma * (a-b)**2)\n",
    "\n",
    "# points to classify\n",
    "x = np.linspace(0,3)[:, None]\n",
    "\n",
    "# interior score\n",
    "z = np.matmul(K(x, data_x), alpha*data_y)\n",
    "\n",
    "# prediction\n",
    "y_hat = predict(data_x[:,None], alpha, gamma, K)\n",
    "\n",
    "# accuracy\n",
    "acc_b = np.mean(np.equal(y_hat, data_y))\n",
    "print(\"\\n\\t{}% accuracy\\n\".format(100*acc_b))\n",
    "\n",
    "# plot\n",
    "plt.plot(x, z)"
   ]
  },
  {
   "cell_type": "markdown",
   "metadata": {
    "deletable": true,
    "editable": true
   },
   "source": [
    "### Part 4 (c)"
   ]
  },
  {
   "cell_type": "code",
   "execution_count": 281,
   "metadata": {
    "collapsed": false
   },
   "outputs": [
    {
     "name": "stdout",
     "output_type": "stream",
     "text": [
      "\n",
      "\ta) 75.0% accuracy\n",
      "\tb) 50.0% accuracy\n",
      "\n",
      "\tThe settings in part (a) yield higher accuracy\n"
     ]
    }
   ],
   "source": [
    "print(\"\\n\\ta) {}% accuracy\".format(100*acc_a))\n",
    "print(\"\\tb) {}% accuracy\\n\".format(100*acc_b))\n",
    "print(\"\\tThe settings in part (a) yield higher accuracy\")"
   ]
  },
  {
   "cell_type": "code",
   "execution_count": null,
   "metadata": {
    "collapsed": true
   },
   "outputs": [],
   "source": []
  }
 ],
 "metadata": {
  "kernelspec": {
   "display_name": "Python 3",
   "language": "python",
   "name": "python3"
  },
  "language_info": {
   "codemirror_mode": {
    "name": "ipython",
    "version": 3
   },
   "file_extension": ".py",
   "mimetype": "text/x-python",
   "name": "python",
   "nbconvert_exporter": "python",
   "pygments_lexer": "ipython3",
   "version": "3.6.1"
  }
 },
 "nbformat": 4,
 "nbformat_minor": 2
}
