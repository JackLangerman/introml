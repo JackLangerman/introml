{
 "cells": [
  {
   "cell_type": "markdown",
   "metadata": {
    "deletable": true,
    "editable": true
   },
   "source": [
    "# Lab:  Logistic Regression for Gene Expression Data\n",
    "\n",
    "In this lab, we use logistic regression to predict biological characteristics (\"phenotypes\") from gene expression data.  In addition to the concepts in [breast cancer demo](./breast_cancer.ipynb), you will learn to:\n",
    "* Handle missing data\n",
    "* Perform multi-class logistic classification\n",
    "* Create a confusion matrix\n",
    "* Use L1-regularization for improved estimation in the case of sparse weights (Grad students only)\n",
    "\n",
    "## Background\n",
    "\n",
    "Genes are the basic unit in the DNA and encode blueprints for proteins.  When proteins are synthesized from a gene, the gene is said to \"express\".  Micro-arrays are devices that measure the expression levels of large numbers of genes in parallel.  By finding correlations between expression levels and phenotypes, scientists can identify possible genetic markers for biological characteristics.\n",
    "\n",
    "The data in this lab comes from:\n",
    "\n",
    "https://archive.ics.uci.edu/ml/datasets/Mice+Protein+Expression\n",
    "\n",
    "In this data, mice were characterized by three properties:\n",
    "* Whether they had down's syndrome (trisomy) or not\n",
    "* Whether they were stimulated to learn or not\n",
    "* Whether they had a drug memantine or a saline control solution.\n",
    "\n",
    "With these three choices, there are 8 possible classes for each mouse.  For each mouse, the expression levels were measured across 77 genes.  We will see if the characteristics can be predicted from the gene expression levels.  This classification could reveal which genes are potentially involved in Down's syndrome and if drugs and learning have any noticeable effects.\n"
   ]
  },
  {
   "cell_type": "markdown",
   "metadata": {
    "deletable": true,
    "editable": true
   },
   "source": [
    "## Load the Data\n",
    "\n",
    "We begin by loading the standard modules."
   ]
  },
  {
   "cell_type": "code",
   "execution_count": 1,
   "metadata": {
    "collapsed": true,
    "deletable": true,
    "editable": true
   },
   "outputs": [],
   "source": [
    "import pandas as pd\n",
    "import numpy as np\n",
    "import matplotlib\n",
    "import matplotlib.pyplot as plt\n",
    "%matplotlib inline\n",
    "from sklearn import linear_model, preprocessing"
   ]
  },
  {
   "cell_type": "code",
   "execution_count": 2,
   "metadata": {
    "collapsed": false,
    "deletable": true,
    "editable": true
   },
   "outputs": [
    {
     "data": {
      "text/plain": [
       "sys.version_info(major=3, minor=6, micro=1, releaselevel='final', serial=0)"
      ]
     },
     "execution_count": 2,
     "metadata": {},
     "output_type": "execute_result"
    }
   ],
   "source": [
    "import sys\n",
    "sys.version\n",
    "sys.version_info"
   ]
  },
  {
   "cell_type": "markdown",
   "metadata": {
    "deletable": true,
    "editable": true
   },
   "source": [
    "Use the `pd.read_excel` command to read the data from \n",
    "\n",
    "https://archive.ics.uci.edu/ml/machine-learning-databases/00342/Data_Cortex_Nuclear.xls\n",
    "\n",
    "into a dataframe `df`.  Use the `index_col` option to specify that column 0 is the index.  Use the `df.head()` to print the first few rows."
   ]
  },
  {
   "cell_type": "code",
   "execution_count": 3,
   "metadata": {
    "collapsed": false,
    "deletable": true,
    "editable": true
   },
   "outputs": [
    {
     "data": {
      "text/html": [
       "<div>\n",
       "<table border=\"1\" class=\"dataframe\">\n",
       "  <thead>\n",
       "    <tr style=\"text-align: right;\">\n",
       "      <th></th>\n",
       "      <th>DYRK1A_N</th>\n",
       "      <th>ITSN1_N</th>\n",
       "      <th>BDNF_N</th>\n",
       "      <th>NR1_N</th>\n",
       "      <th>NR2A_N</th>\n",
       "      <th>pAKT_N</th>\n",
       "      <th>pBRAF_N</th>\n",
       "      <th>pCAMKII_N</th>\n",
       "      <th>pCREB_N</th>\n",
       "      <th>pELK_N</th>\n",
       "      <th>...</th>\n",
       "      <th>pCFOS_N</th>\n",
       "      <th>SYP_N</th>\n",
       "      <th>H3AcK18_N</th>\n",
       "      <th>EGR1_N</th>\n",
       "      <th>H3MeK4_N</th>\n",
       "      <th>CaNA_N</th>\n",
       "      <th>Genotype</th>\n",
       "      <th>Treatment</th>\n",
       "      <th>Behavior</th>\n",
       "      <th>class</th>\n",
       "    </tr>\n",
       "    <tr>\n",
       "      <th>MouseID</th>\n",
       "      <th></th>\n",
       "      <th></th>\n",
       "      <th></th>\n",
       "      <th></th>\n",
       "      <th></th>\n",
       "      <th></th>\n",
       "      <th></th>\n",
       "      <th></th>\n",
       "      <th></th>\n",
       "      <th></th>\n",
       "      <th></th>\n",
       "      <th></th>\n",
       "      <th></th>\n",
       "      <th></th>\n",
       "      <th></th>\n",
       "      <th></th>\n",
       "      <th></th>\n",
       "      <th></th>\n",
       "      <th></th>\n",
       "      <th></th>\n",
       "      <th></th>\n",
       "    </tr>\n",
       "  </thead>\n",
       "  <tbody>\n",
       "    <tr>\n",
       "      <th>309_1</th>\n",
       "      <td>0.503644</td>\n",
       "      <td>0.747193</td>\n",
       "      <td>0.430175</td>\n",
       "      <td>2.816329</td>\n",
       "      <td>5.990152</td>\n",
       "      <td>0.218830</td>\n",
       "      <td>0.177565</td>\n",
       "      <td>2.373744</td>\n",
       "      <td>0.232224</td>\n",
       "      <td>1.750936</td>\n",
       "      <td>...</td>\n",
       "      <td>0.108336</td>\n",
       "      <td>0.427099</td>\n",
       "      <td>0.114783</td>\n",
       "      <td>0.131790</td>\n",
       "      <td>0.128186</td>\n",
       "      <td>1.675652</td>\n",
       "      <td>Control</td>\n",
       "      <td>Memantine</td>\n",
       "      <td>C/S</td>\n",
       "      <td>c-CS-m</td>\n",
       "    </tr>\n",
       "    <tr>\n",
       "      <th>309_2</th>\n",
       "      <td>0.514617</td>\n",
       "      <td>0.689064</td>\n",
       "      <td>0.411770</td>\n",
       "      <td>2.789514</td>\n",
       "      <td>5.685038</td>\n",
       "      <td>0.211636</td>\n",
       "      <td>0.172817</td>\n",
       "      <td>2.292150</td>\n",
       "      <td>0.226972</td>\n",
       "      <td>1.596377</td>\n",
       "      <td>...</td>\n",
       "      <td>0.104315</td>\n",
       "      <td>0.441581</td>\n",
       "      <td>0.111974</td>\n",
       "      <td>0.135103</td>\n",
       "      <td>0.131119</td>\n",
       "      <td>1.743610</td>\n",
       "      <td>Control</td>\n",
       "      <td>Memantine</td>\n",
       "      <td>C/S</td>\n",
       "      <td>c-CS-m</td>\n",
       "    </tr>\n",
       "    <tr>\n",
       "      <th>309_3</th>\n",
       "      <td>0.509183</td>\n",
       "      <td>0.730247</td>\n",
       "      <td>0.418309</td>\n",
       "      <td>2.687201</td>\n",
       "      <td>5.622059</td>\n",
       "      <td>0.209011</td>\n",
       "      <td>0.175722</td>\n",
       "      <td>2.283337</td>\n",
       "      <td>0.230247</td>\n",
       "      <td>1.561316</td>\n",
       "      <td>...</td>\n",
       "      <td>0.106219</td>\n",
       "      <td>0.435777</td>\n",
       "      <td>0.111883</td>\n",
       "      <td>0.133362</td>\n",
       "      <td>0.127431</td>\n",
       "      <td>1.926427</td>\n",
       "      <td>Control</td>\n",
       "      <td>Memantine</td>\n",
       "      <td>C/S</td>\n",
       "      <td>c-CS-m</td>\n",
       "    </tr>\n",
       "    <tr>\n",
       "      <th>309_4</th>\n",
       "      <td>0.442107</td>\n",
       "      <td>0.617076</td>\n",
       "      <td>0.358626</td>\n",
       "      <td>2.466947</td>\n",
       "      <td>4.979503</td>\n",
       "      <td>0.222886</td>\n",
       "      <td>0.176463</td>\n",
       "      <td>2.152301</td>\n",
       "      <td>0.207004</td>\n",
       "      <td>1.595086</td>\n",
       "      <td>...</td>\n",
       "      <td>0.111262</td>\n",
       "      <td>0.391691</td>\n",
       "      <td>0.130405</td>\n",
       "      <td>0.147444</td>\n",
       "      <td>0.146901</td>\n",
       "      <td>1.700563</td>\n",
       "      <td>Control</td>\n",
       "      <td>Memantine</td>\n",
       "      <td>C/S</td>\n",
       "      <td>c-CS-m</td>\n",
       "    </tr>\n",
       "    <tr>\n",
       "      <th>309_5</th>\n",
       "      <td>0.434940</td>\n",
       "      <td>0.617430</td>\n",
       "      <td>0.358802</td>\n",
       "      <td>2.365785</td>\n",
       "      <td>4.718679</td>\n",
       "      <td>0.213106</td>\n",
       "      <td>0.173627</td>\n",
       "      <td>2.134014</td>\n",
       "      <td>0.192158</td>\n",
       "      <td>1.504230</td>\n",
       "      <td>...</td>\n",
       "      <td>0.110694</td>\n",
       "      <td>0.434154</td>\n",
       "      <td>0.118481</td>\n",
       "      <td>0.140314</td>\n",
       "      <td>0.148380</td>\n",
       "      <td>1.839730</td>\n",
       "      <td>Control</td>\n",
       "      <td>Memantine</td>\n",
       "      <td>C/S</td>\n",
       "      <td>c-CS-m</td>\n",
       "    </tr>\n",
       "  </tbody>\n",
       "</table>\n",
       "<p>5 rows × 81 columns</p>\n",
       "</div>"
      ],
      "text/plain": [
       "         DYRK1A_N   ITSN1_N    BDNF_N     NR1_N    NR2A_N    pAKT_N   pBRAF_N  \\\n",
       "MouseID                                                                         \n",
       "309_1    0.503644  0.747193  0.430175  2.816329  5.990152  0.218830  0.177565   \n",
       "309_2    0.514617  0.689064  0.411770  2.789514  5.685038  0.211636  0.172817   \n",
       "309_3    0.509183  0.730247  0.418309  2.687201  5.622059  0.209011  0.175722   \n",
       "309_4    0.442107  0.617076  0.358626  2.466947  4.979503  0.222886  0.176463   \n",
       "309_5    0.434940  0.617430  0.358802  2.365785  4.718679  0.213106  0.173627   \n",
       "\n",
       "         pCAMKII_N   pCREB_N    pELK_N   ...     pCFOS_N     SYP_N  H3AcK18_N  \\\n",
       "MouseID                                  ...                                    \n",
       "309_1     2.373744  0.232224  1.750936   ...    0.108336  0.427099   0.114783   \n",
       "309_2     2.292150  0.226972  1.596377   ...    0.104315  0.441581   0.111974   \n",
       "309_3     2.283337  0.230247  1.561316   ...    0.106219  0.435777   0.111883   \n",
       "309_4     2.152301  0.207004  1.595086   ...    0.111262  0.391691   0.130405   \n",
       "309_5     2.134014  0.192158  1.504230   ...    0.110694  0.434154   0.118481   \n",
       "\n",
       "           EGR1_N  H3MeK4_N    CaNA_N  Genotype  Treatment  Behavior   class  \n",
       "MouseID                                                                       \n",
       "309_1    0.131790  0.128186  1.675652   Control  Memantine       C/S  c-CS-m  \n",
       "309_2    0.135103  0.131119  1.743610   Control  Memantine       C/S  c-CS-m  \n",
       "309_3    0.133362  0.127431  1.926427   Control  Memantine       C/S  c-CS-m  \n",
       "309_4    0.147444  0.146901  1.700563   Control  Memantine       C/S  c-CS-m  \n",
       "309_5    0.140314  0.148380  1.839730   Control  Memantine       C/S  c-CS-m  \n",
       "\n",
       "[5 rows x 81 columns]"
      ]
     },
     "execution_count": 3,
     "metadata": {},
     "output_type": "execute_result"
    }
   ],
   "source": [
    "# TODO\n",
    "# df = ...\n",
    "link = \"./Data_Cortex_Nuclear.xls\"\n",
    "df = pd.read_excel(link, index_col=0)\n",
    "\n",
    "df.head()"
   ]
  },
  {
   "cell_type": "markdown",
   "metadata": {
    "deletable": true,
    "editable": true
   },
   "source": [
    "This data has missing values.  The site:\n",
    "\n",
    "http://pandas.pydata.org/pandas-docs/stable/missing_data.html\n",
    "\n",
    "has an excellent summary of methods to deal with missing values.  Following the techniques there, create a new data frame `df1` where the missing values in each column are filled with the mean values from the non-missing values."
   ]
  },
  {
   "cell_type": "code",
   "execution_count": 4,
   "metadata": {
    "collapsed": false,
    "deletable": true,
    "editable": true
   },
   "outputs": [
    {
     "name": "stdout",
     "output_type": "stream",
     "text": [
      "num null df: 1396\n",
      "Mean^2 Same within: 3.73630409211e-30\n",
      "num null df: 1396\n",
      "num null df1: 0\n"
     ]
    }
   ],
   "source": [
    "# TODO\n",
    "# df1 = ...\n",
    "print(\"num null df:\", df.isnull().sum().sum())\n",
    "# print(\"num null df1:\", df1.isnull().sum().sum())\n",
    "df1 = df.fillna(df.mean())\n",
    "print(\"Mean^2 Same within:\",((df1.mean() - df.mean())**2).sum())\n",
    "print(\"num null df:\", df.isnull().sum().sum())\n",
    "print(\"num null df1:\", df1.isnull().sum().sum())"
   ]
  },
  {
   "cell_type": "markdown",
   "metadata": {
    "deletable": true,
    "editable": true
   },
   "source": [
    "## Binary Classification for Down's Syndrome\n",
    "\n",
    "We will first predict the binary class label in `df1['Genotype']` which indicates if the mouse has Down's syndrome or not.  Get the string values in `df1['Genotype'].values` and convert this to a numeric vector `y` with 0 or 1.  You may wish to use the `np.unique` command with the `return_inverse=True` option."
   ]
  },
  {
   "cell_type": "code",
   "execution_count": 5,
   "metadata": {
    "collapsed": false,
    "deletable": true,
    "editable": true
   },
   "outputs": [],
   "source": [
    "# TODO\n",
    "# y = ...\n",
    "\n",
    "yraw = df1['Genotype'].values\n",
    "negVal, posVal = np.unique(yraw)\n",
    "y = (yraw == posVal).astype(int)\n",
    "\n",
    "# y1 = (df1['Genotype'].values == np.unique(yraw)[1]).astype(int)\n"
   ]
  },
  {
   "cell_type": "markdown",
   "metadata": {
    "deletable": true,
    "editable": true
   },
   "source": [
    "As predictors, get all but the last four columns of the dataframes.  Standardize the data matrix and call the standardized matrix `Xs`.  The predictors are the expression levels of the 77 genes. "
   ]
  },
  {
   "cell_type": "code",
   "execution_count": 6,
   "metadata": {
    "collapsed": false,
    "deletable": true,
    "editable": true
   },
   "outputs": [],
   "source": [
    "# TODO\n",
    "# Xs = ...\n",
    "\n",
    "X = np.array(df1[ df1.columns[:-4] ])\n",
    "Xs = (X - np.mean(X, axis=0))/np.std(X, axis=0)\n"
   ]
  },
  {
   "cell_type": "markdown",
   "metadata": {
    "deletable": true,
    "editable": true
   },
   "source": [
    "Create a `LogisticRegression` object `logreg` and `fit` the training data."
   ]
  },
  {
   "cell_type": "code",
   "execution_count": 7,
   "metadata": {
    "collapsed": false,
    "deletable": true,
    "editable": true
   },
   "outputs": [
    {
     "data": {
      "text/plain": [
       "LogisticRegression(C=100000.0, class_weight=None, dual=False,\n",
       "          fit_intercept=True, intercept_scaling=1, max_iter=100,\n",
       "          multi_class='ovr', n_jobs=1, penalty='l2', random_state=None,\n",
       "          solver='liblinear', tol=0.0001, verbose=0, warm_start=False)"
      ]
     },
     "execution_count": 7,
     "metadata": {},
     "output_type": "execute_result"
    }
   ],
   "source": [
    "# TODO\n",
    "logreg = linear_model.LogisticRegression(C=1e5)\n",
    "logreg.fit(Xs, y)"
   ]
  },
  {
   "cell_type": "markdown",
   "metadata": {
    "deletable": true,
    "editable": true
   },
   "source": [
    "Measure the accuracy of the classifer.  That is, use the `logreg.predict` function to predict labels `yhat` and measure the fraction of time that the predictions match the true labels.  Below, we will properly measure the accuracy on cross-validation data."
   ]
  },
  {
   "cell_type": "code",
   "execution_count": 8,
   "metadata": {
    "collapsed": false,
    "deletable": true,
    "editable": true
   },
   "outputs": [
    {
     "name": "stdout",
     "output_type": "stream",
     "text": [
      "The accuracy proportion is 1.000.\n"
     ]
    }
   ],
   "source": [
    "# TODO\n",
    "yhat = logreg.predict(Xs)\n",
    "print(\"The accuracy proportion is {:.3f}.\".format(np.sum(y == yhat)/len(y)))"
   ]
  },
  {
   "cell_type": "markdown",
   "metadata": {
    "deletable": true,
    "editable": true
   },
   "source": [
    "## Interpreting the weight vector"
   ]
  },
  {
   "cell_type": "markdown",
   "metadata": {
    "deletable": true,
    "editable": true
   },
   "source": [
    "Create a stem plot of the coefficients, `W` in the logistic regression model.  You can get the coefficients from `logreg.coef_`, but you will need to reshape this to a 1D array.  "
   ]
  },
  {
   "cell_type": "code",
   "execution_count": 9,
   "metadata": {
    "collapsed": false,
    "deletable": true,
    "editable": true
   },
   "outputs": [
    {
     "data": {
      "text/plain": [
       "<Container object of 3 artists>"
      ]
     },
     "execution_count": 9,
     "metadata": {},
     "output_type": "execute_result"
    },
    {
     "data": {
      "image/png": "[encoded data removed]",
      "text/plain": [
       "<matplotlib.figure.Figure at 0x110cbe6a0>"
      ]
     },
     "metadata": {},
     "output_type": "display_data"
    }
   ],
   "source": [
    "# TODO\n",
    "W = np.squeeze(logreg.coef_)\n",
    "plt.stem(W)"
   ]
  },
  {
   "cell_type": "markdown",
   "metadata": {
    "collapsed": false,
    "deletable": true,
    "editable": true
   },
   "source": [
    "You should see that `W[i]` is very large for a few components `i`.  These are the genes that are likely to be most involved in Down's Syndrome.  Although, we do not discuss it in this class, there are ways to force the logistic regression to return a sparse vector `W`.  \n",
    "\n",
    "Find the names of the genes for two components `i` where the magnitude of `W[i]` is largest.  "
   ]
  },
  {
   "cell_type": "code",
   "execution_count": 10,
   "metadata": {
    "collapsed": false,
    "deletable": true,
    "editable": true
   },
   "outputs": [
    {
     "name": "stdout",
     "output_type": "stream",
     "text": [
      "ITSN1_N\n",
      "BRAF_N\n"
     ]
    }
   ],
   "source": [
    "# TODO\n",
    "W_sort_idx = (-abs(W)).argsort()\n",
    "print(\"\\n\".join(df1.columns[W_sort_idx[:2]]))"
   ]
  },
  {
   "cell_type": "markdown",
   "metadata": {
    "deletable": true,
    "editable": true
   },
   "source": [
    "## Cross Validation\n",
    "\n",
    "The above meaured the accuracy on the training data.  It is more accurate to measure the accuracy on the test data.  Perform 10-fold cross validation and measure the average precision, recall and f1-score.  Note, that in performing the cross-validation, you will want to randomly permute the test and training sets using the `shuffle` option.  In this data set, all the samples from each class are bunched together, so shuffling is essential.  Print the mean precision, recall and f1-score and error rate across all the folds."
   ]
  },
  {
   "cell_type": "code",
   "execution_count": 11,
   "metadata": {
    "collapsed": false,
    "deletable": true,
    "editable": true
   },
   "outputs": [
    {
     "name": "stdout",
     "output_type": "stream",
     "text": [
      "pre\trecall\tf_1\terr\n",
      "0.962\t0.962\t0.962\t0.037\t\n",
      "0.978\t0.918\t0.947\t0.046\t\n",
      "0.952\t0.952\t0.952\t0.037\t\n",
      "0.931\t1.000\t0.964\t0.037\t\n",
      "0.980\t0.943\t0.962\t0.037\t\n",
      "0.918\t0.957\t0.938\t0.056\t\n",
      "0.906\t0.941\t0.923\t0.074\t\n",
      "0.936\t0.957\t0.946\t0.046\t\n",
      "0.966\t0.933\t0.949\t0.056\t\n",
      "0.981\t0.945\t0.963\t0.037\t\n",
      "-----------------------------\n",
      "0.951\t0.951\t0.951\t0.046\t\n"
     ]
    }
   ],
   "source": [
    "import sklearn\n",
    "from sklearn import model_selection\n",
    "from sklearn import metrics\n",
    "# TODO\n",
    "nfold = 10\n",
    "\n",
    "kf = model_selection.KFold(n_splits=nfold,shuffle=True)\n",
    "\n",
    "prfa = np.zeros((nfold, 4))\n",
    "\n",
    "print(\"pre\\trecall\\tf_1\\terr\")\n",
    "for isplit, Ind in enumerate(kf.split(Xs)):\n",
    "    Itr, Its = Ind\n",
    "    X_cv_tr = Xs[Itr]\n",
    "    X_cv_ts = Xs[Its]\n",
    "    \n",
    "    y_cv_tr = y[Itr]\n",
    "    y_cv_ts = y[Its]\n",
    "    logreg.fit(X_cv_tr, y_cv_tr)\n",
    "    \n",
    "    y_hat = logreg.predict(X_cv_ts)\n",
    "\n",
    "#     print((\"{:.3f}\\t\"*3).format(\n",
    "#         *metrics.precision_recall_fscore_support(y[Its], y_hat, average='binary')) )\n",
    "    \n",
    "    prfa[isplit, :] = metrics.precision_recall_fscore_support(\n",
    "            y[Its], y_hat, average='binary') #[:3]\n",
    "    \n",
    "    prfa[isplit, 3] = 1-np.mean(y[Its]==y_hat)\n",
    "    \n",
    "    print((\"{:.3f}\\t\"*4).format(*prfa[isplit, :]))\n",
    "    \n",
    "print((\"-\"*29+\"\\n\"+\"{:.3f}\\t\"*4).format(*np.mean(prfa, axis=0)))"
   ]
  },
  {
   "cell_type": "markdown",
   "metadata": {
    "deletable": true,
    "editable": true
   },
   "source": [
    "## Multi-Class Classification\n",
    "\n",
    "Now use the response variable in `df1['class']`.  This has 8 possible classes.  Use the `np.unique` funtion as before to convert this to a vector `y` with values 0 to 7."
   ]
  },
  {
   "cell_type": "code",
   "execution_count": 12,
   "metadata": {
    "collapsed": false,
    "deletable": true,
    "editable": true
   },
   "outputs": [],
   "source": [
    "# TODO\n",
    "# y = ...\n",
    "yraw = df1['class']\n",
    "le = preprocessing.LabelEncoder()\n",
    "le.fit(yraw)\n",
    "y = le.transform(yraw)\n",
    "\n",
    "# with unique\n",
    "y = np.zeros_like(yraw)\n",
    "yraw = df1['class']\n",
    "col_names = np.unique(yraw)\n",
    "nam2num = dict([*zip(col_names, np.arange(8))])\n",
    "\n",
    "y = np.array([*map((lambda x : nam2num[x]), yraw)])"
   ]
  },
  {
   "cell_type": "markdown",
   "metadata": {
    "deletable": true,
    "editable": true
   },
   "source": [
    "Fit a multi-class logistic model by creating a `LogisticRegression` object, `logreg` and then calling the `logreg.fit` method."
   ]
  },
  {
   "cell_type": "code",
   "execution_count": 13,
   "metadata": {
    "collapsed": false,
    "deletable": true,
    "editable": true
   },
   "outputs": [
    {
     "data": {
      "text/plain": [
       "LogisticRegression(C=100000.0, class_weight=None, dual=False,\n",
       "          fit_intercept=True, intercept_scaling=1, max_iter=100,\n",
       "          multi_class='ovr', n_jobs=1, penalty='l2', random_state=None,\n",
       "          solver='liblinear', tol=0.0001, verbose=0, warm_start=False)"
      ]
     },
     "execution_count": 13,
     "metadata": {},
     "output_type": "execute_result"
    }
   ],
   "source": [
    "# TODO\n",
    "logreg = linear_model.LogisticRegression(C=1e5)\n",
    "logreg.fit(Xs, y)"
   ]
  },
  {
   "cell_type": "markdown",
   "metadata": {
    "deletable": true,
    "editable": true
   },
   "source": [
    "Measure the accuracy on the training data."
   ]
  },
  {
   "cell_type": "code",
   "execution_count": 14,
   "metadata": {
    "collapsed": false,
    "deletable": true,
    "editable": true
   },
   "outputs": [
    {
     "name": "stdout",
     "output_type": "stream",
     "text": [
      "Acc: 100.000%\n"
     ]
    }
   ],
   "source": [
    "# TODO\n",
    "print(\"Acc: {:.3f}%\".format(100*np.mean(logreg.predict(Xs) == y)))"
   ]
  },
  {
   "cell_type": "markdown",
   "metadata": {
    "deletable": true,
    "editable": true
   },
   "source": [
    "Now perform 10-fold cross validation, and measure the confusion matrix `C` on the test data in each fold. You can use the `confustion_matrix` method in the `sklearn` package.  Add the confusion matrix counts across all folds and then normalize the rows of the confusion matrix so that they sum to one.  Thus, each element `C[i,j]` will represent the fraction of samples where `yhat==j` given `ytrue==i`.  Print the confusion matrix.  You can use the command\n",
    "\n",
    "    print(np.array_str(C, precision=4, suppress_small=True))\n",
    "    \n",
    "to create a nicely formatted print.  Also print the overall mean and SE of the test error rate across the folds."
   ]
  },
  {
   "cell_type": "code",
   "execution_count": 15,
   "metadata": {
    "collapsed": false,
    "deletable": true,
    "editable": true
   },
   "outputs": [
    {
     "name": "stdout",
     "output_type": "stream",
     "text": [
      "The mean and SE of the test error are 0.988 and 0.005 respectively.\n"
     ]
    }
   ],
   "source": [
    "from sklearn.metrics import confusion_matrix\n",
    "from sklearn.model_selection import KFold\n",
    "\n",
    "# TODO\n",
    "nfold = 10\n",
    "\n",
    "kf = model_selection.KFold(n_splits=nfold,shuffle=True)\n",
    "\n",
    "logreg = linear_model.LogisticRegression()\n",
    "\n",
    "C = np.zeros((len(col_names),len(col_names)))\n",
    "\n",
    "for isplit, Ind in enumerate(kf.split(Xs)):\n",
    "    Itr, Its = Ind\n",
    " \n",
    "    X_cv_tr = Xs[Itr]\n",
    "    X_cv_ts = Xs[Its]\n",
    "    \n",
    "    y_cv_tr = y[Itr]\n",
    "    y_cv_ts = y[Its]\n",
    "    \n",
    "    \n",
    "    logreg.fit(X_cv_tr, y_cv_tr)\n",
    "    \n",
    "    y_hat = logreg.predict(X_cv_ts)\n",
    "    \n",
    "    C += confusion_matrix(y_hat, y_cv_ts)\n",
    "\n",
    "C = C / np.sum(C, axis=1)\n",
    "# print(np.array_str(C, precision=4, suppress_small=True))\n",
    "\n",
    "# errMean = 1-np.sum(C*np.eye(8))/8\n",
    "# errStd = np.std(C)\n",
    "\n",
    "acc = np.diagonal(C)\n",
    "mu = np.mean(acc)\n",
    "sigma = np.std(acc)\n",
    "print(\"The mean and SE of the test error are {:.3f} and {:.3f} respectively.\"\n",
    "      .format(mu, sigma/np.sqrt(nfold-1)))"
   ]
  },
  {
   "cell_type": "code",
   "execution_count": 16,
   "metadata": {
    "collapsed": false,
    "deletable": true,
    "editable": true
   },
   "outputs": [
    {
     "name": "stdout",
     "output_type": "stream",
     "text": [
      "0.98\t0.01\t0.00\t0.01\t0.01\t0.00\t0.00\t0.00\t\n",
      "0.01\t0.98\t0.00\t0.00\t0.01\t0.00\t0.00\t0.00\t\n",
      "0.00\t0.00\t1.00\t0.00\t0.00\t0.00\t0.00\t0.00\t\n",
      "0.00\t0.00\t0.00\t1.00\t0.00\t0.00\t0.00\t0.00\t\n",
      "0.02\t0.01\t0.00\t0.00\t0.96\t0.00\t0.01\t0.00\t\n",
      "0.00\t0.00\t0.00\t0.00\t0.00\t1.00\t0.00\t0.00\t\n",
      "0.00\t0.00\t0.00\t0.00\t0.00\t0.00\t1.00\t0.00\t\n",
      "0.00\t0.00\t0.01\t0.00\t0.00\t0.00\t0.00\t0.99\t\n"
     ]
    },
    {
     "data": {
      "text/plain": [
       "<matplotlib.image.AxesImage at 0x112738208>"
      ]
     },
     "execution_count": 16,
     "metadata": {},
     "output_type": "execute_result"
    },
    {
     "data": {
      "image/png": "[encoded data removed]",
      "text/plain": [
       "<matplotlib.figure.Figure at 0x1108cdc50>"
      ]
     },
     "metadata": {},
     "output_type": "display_data"
    }
   ],
   "source": [
    "print(\"\\n\".join([(\"{:.2f}\\t\"*row.shape[0]).format(*row) for row in C]))\n",
    "plt.imshow(C)"
   ]
  },
  {
   "cell_type": "markdown",
   "metadata": {
    "deletable": true,
    "editable": true
   },
   "source": [
    "Re-run the logistic regression on the entire training data and get the weight coefficients.  This should be a 8 x 77 matrix.  Create a stem plot of the first row of this matrix to see the coefficients on each of the genes."
   ]
  },
  {
   "cell_type": "code",
   "execution_count": 17,
   "metadata": {
    "collapsed": false,
    "deletable": true,
    "editable": true
   },
   "outputs": [
    {
     "data": {
      "text/plain": [
       "<Container object of 3 artists>"
      ]
     },
     "execution_count": 17,
     "metadata": {},
     "output_type": "execute_result"
    },
    {
     "data": {
      "image/png": "[encoded data removed]",
      "text/plain": [
       "<matplotlib.figure.Figure at 0x1125246a0>"
      ]
     },
     "metadata": {},
     "output_type": "display_data"
    }
   ],
   "source": [
    "# TODO\n",
    "logreg.fit(Xs, y)\n",
    "W = logreg.coef_\n",
    "plt.stem(W[0,:])"
   ]
  },
  {
   "cell_type": "markdown",
   "metadata": {
    "collapsed": true,
    "deletable": true,
    "editable": true
   },
   "source": [
    "## L1-Regularization\n",
    "\n",
    "Graduate students only complete this section.\n",
    "\n",
    "In most genetic problems, only a limited number of the tested genes are likely influence any particular attribute.  Hence, we would expect that the weight coefficients in the logistic regression model should be sparse.  That is, they should be zero on any gene that plays no role in the particular attribute of interest.  Genetic analysis commonly imposes sparsity by adding an l1-penalty term.  Read the `sklearn` [documentation](http://scikit-learn.org/stable/modules/generated/sklearn.linear_model.LogisticRegression.html) on the `LogisticRegression` class to see how to set the l1-penalty and the inverse regularization strength, `C`.\n",
    "\n",
    "Using the model selection strategies from the [prostate cancer analysis demo](../model_sel/prostate.ipynb), use K-fold cross validation to select an appropriate inverse regularization strength.  \n",
    "* Use 10-fold cross validation \n",
    "* You should select around 20 values of `C`.  It is up to you find a good range.\n",
    "* Make appropriate plots and print out to display your results\n",
    "* How does the accuracy compare to the accuracy achieved without regularization."
   ]
  },
  {
   "cell_type": "code",
   "execution_count": 18,
   "metadata": {
    "collapsed": false,
    "deletable": true,
    "editable": true
   },
   "outputs": [
    {
     "name": "stdout",
     "output_type": "stream",
     "text": [
      "LogisticRegression(C=1.0, class_weight=None, dual=False, fit_intercept=True,\n",
      "          intercept_scaling=1, max_iter=100, multi_class='ovr', n_jobs=1,\n",
      "          penalty='l2', random_state=None, solver='liblinear', tol=0.0001,\n",
      "          verbose=0, warm_start=False)\n"
     ]
    },
    {
     "data": {
      "text/plain": [
       "[<matplotlib.lines.Line2D at 0x112ab2320>]"
      ]
     },
     "execution_count": 18,
     "metadata": {},
     "output_type": "execute_result"
    },
    {
     "data": {
      "image/png": "[encoded data removed]",
      "text/plain": [
       "<matplotlib.figure.Figure at 0x112a0bcc0>"
      ]
     },
     "metadata": {},
     "output_type": "display_data"
    }
   ],
   "source": [
    "logreg = linear_model.LogisticRegression()\n",
    "print(logreg)\n",
    "Cs = np.logspace(-5, -1, 30)\n",
    "plt.plot(Cs, 'o')"
   ]
  },
  {
   "cell_type": "code",
   "execution_count": 19,
   "metadata": {
    "collapsed": false,
    "deletable": true,
    "editable": true
   },
   "outputs": [
    {
     "name": "stdout",
     "output_type": "stream",
     "text": [
      "(20, 2)\n",
      "(20, 2)\n",
      "(20, 2)\n",
      "(20, 2)\n",
      "(20, 2)\n",
      "(20, 2)\n",
      "(20, 2)\n",
      "(20, 2)\n",
      "(20, 2)\n",
      "(20, 2)\n"
     ]
    },
    {
     "data": {
      "text/plain": [
       "(10, 20)"
      ]
     },
     "execution_count": 19,
     "metadata": {},
     "output_type": "execute_result"
    }
   ],
   "source": [
    "# TODO\n",
    "nfold = 10\n",
    "Cs = np.logspace(-1, 2, 20)\n",
    "\n",
    "def testCs(Cs, nfold):\n",
    "    kf = model_selection.KFold(n_splits=nfold,shuffle=True)\n",
    "    acc = np.zeros((nfold, len(Cs)))\n",
    "\n",
    "    for isplit, Ind in enumerate(kf.split(Xs)):\n",
    "        Itr, Its = Ind\n",
    "\n",
    "        X_cv_tr = Xs[Itr]\n",
    "        X_cv_ts = Xs[Its]\n",
    "\n",
    "        y_cv_tr = y[Itr]\n",
    "        y_cv_ts = y[Its]\n",
    "\n",
    "        for ic, c in enumerate(Cs):\n",
    "            logreg = linear_model.LogisticRegression(C=c, penalty='l1')\n",
    "            logreg.fit(X_cv_tr, y_cv_tr)\n",
    "\n",
    "            y_hat = logreg.predict(X_cv_ts)\n",
    "\n",
    "            acc[isplit, ic] = np.mean(y_hat == y_cv_ts)\n",
    "    #         print(np.mean(y_hat == y_cv_ts))\n",
    "\n",
    "        print(np.array([*zip(Cs, acc[isplit, :])]).shape)\n",
    "    #     plt.figure()\n",
    "    #     plt.plot([*zip(Cs, acc)])\n",
    "\n",
    "    #     plt.plot(Cs, acc, label=isplit)\n",
    "    #     plt.legend()\n",
    "    return acc\n",
    "\n",
    "acc = testCs(Cs, nfold)\n",
    "accMean = np.mean(acc, axis=0)\n",
    "acc.shape"
   ]
  },
  {
   "cell_type": "code",
   "execution_count": 20,
   "metadata": {
    "collapsed": false,
    "deletable": true,
    "editable": true
   },
   "outputs": [
    {
     "name": "stdout",
     "output_type": "stream",
     "text": [
      "(10, 20)\n",
      "(20,)\n",
      "0.88586679041\n",
      "\tC\tacc\tstdErr\t0.990812075734\n",
      "\t001.83\t0.99167\t0.00085\tTrue\n",
      " \t000.89\t0.99167\t0.00072\tTrue\n",
      " \t016.24\t0.99074\t0.00103\tFalse\n",
      " \t001.27\t0.99074\t0.00080\tFalse\n",
      " \t011.29\t0.99074\t0.00103\tFalse\n",
      " \t023.36\t0.98981\t0.00097\tFalse\n",
      " \t000.62\t0.98981\t0.00072\tFalse\n",
      " \t007.85\t0.98981\t0.00126\tFalse\n",
      " \t002.64\t0.98889\t0.00090\tFalse\n",
      " \t033.60\t0.98889\t0.00128\tFalse\n",
      "\n"
     ]
    },
    {
     "data": {
      "image/png": "[encoded data removed]",
      "text/plain": [
       "<matplotlib.figure.Figure at 0x112a1a908>"
      ]
     },
     "metadata": {},
     "output_type": "display_data"
    }
   ],
   "source": [
    "def oneStdErrRule(Cs, acc):\n",
    "    accMean = np.mean(acc, axis=0)\n",
    "    accStdErr  = np.std(acc, axis=0) / (nfold-1)\n",
    "    print(acc.shape)\n",
    "    print(accMean.shape)\n",
    "    plt.plot(Cs, accMean)\n",
    "    srtIdx = (-accMean).argsort()\n",
    "\n",
    "    optC = Cs[srtIdx[0]]\n",
    "    trgtAcc = accMean[srtIdx[0]]-accStdErr[srtIdx[0]]\n",
    "\n",
    "    asGoodIdx = accMean[srtIdx[:10]] >= trgtAcc\n",
    "    \n",
    "    print(min(Cs[srtIdx[:10]][asGoodIdx]))\n",
    "    \n",
    "    print(\"\\tC\\tacc\\tstdErr\\t\"+str(trgtAcc))\n",
    "    print(*[ (\"\\t{:06.2f}\\t{:.5f}\\t{:.5f}\\t{}\"+\"\\n\").format(*x) for x in zip(\n",
    "                 Cs[srtIdx[:10]], \n",
    "                 accMean[srtIdx[:10]], \n",
    "                 accStdErr[srtIdx[:10]],\n",
    "                 asGoodIdx)\n",
    "               ]\n",
    "        )\n",
    "    return optC\n",
    "\n",
    "optC = oneStdErrRule(Cs, acc)"
   ]
  },
  {
   "cell_type": "code",
   "execution_count": 21,
   "metadata": {
    "collapsed": false,
    "deletable": true,
    "editable": true
   },
   "outputs": [
    {
     "name": "stdout",
     "output_type": "stream",
     "text": [
      "Searching around optC=1.8329807108324356\n",
      "CsToTry: [  0.01832981   0.04604239   0.11565326   0.29050787   0.72972276\n",
      "   1.83298071   3.25955186   5.79639395  10.30760802  18.32980711]\n",
      "(10, 2)\n",
      "(10, 2)\n",
      "(10, 2)\n",
      "(10, 2)\n",
      "(10, 2)\n",
      "(10, 2)\n",
      "(10, 2)\n",
      "(10, 2)\n",
      "(10, 2)\n",
      "(10, 2)\n",
      "(10, 10)\n",
      "(10,)\n",
      "1.83298071083\n",
      "\tC\tacc\tstdErr\t0.99148453399\n",
      "\t001.83\t0.99259\t0.00111\tTrue\n",
      " \t003.26\t0.99259\t0.00111\tTrue\n",
      " \t005.80\t0.99259\t0.00111\tTrue\n",
      " \t010.31\t0.99259\t0.00111\tTrue\n",
      " \t018.33\t0.99259\t0.00111\tTrue\n",
      " \t000.73\t0.99074\t0.00122\tFalse\n",
      " \t000.29\t0.98148\t0.00138\tFalse\n",
      " \t000.12\t0.95000\t0.00154\tFalse\n",
      " \t000.05\t0.86481\t0.00231\tFalse\n",
      " \t000.02\t0.67130\t0.00602\tFalse\n",
      "\n"
     ]
    },
    {
     "data": {
      "image/png": "[encoded data removed]",
      "text/plain": [
       "<matplotlib.figure.Figure at 0x112adf4e0>"
      ]
     },
     "metadata": {},
     "output_type": "display_data"
    }
   ],
   "source": [
    "# TODO\n",
    "print(\"Searching around optC={}\".format(optC))\n",
    "nfold = 10\n",
    "numC=10\n",
    "\n",
    "sm = np.logspace(np.log10(optC), np.log10(optC)-2, 1 + numC / 2)\n",
    "lg = np.logspace(np.log10(optC), np.log10(optC)+1, numC / 2)\n",
    "\n",
    "\n",
    "CsToTry = np.hstack((sm[::-1][:-1], lg))\n",
    "print(\"CsToTry:\",CsToTry)\n",
    "\n",
    "acc = testCs(CsToTry, nfold)\n",
    "\n",
    "noptC = oneStdErrRule(CsToTry, acc)\n"
   ]
  },
  {
   "cell_type": "code",
   "execution_count": 22,
   "metadata": {
    "collapsed": false,
    "deletable": true,
    "editable": true
   },
   "outputs": [
    {
     "name": "stdout",
     "output_type": "stream",
     "text": [
      "The accuracy of the unregularized model is 86.463% ± 2.370%\n",
      "The accuracy of the regularized model is 88.062% ± 2.390%\n"
     ]
    }
   ],
   "source": [
    "from sklearn.model_selection import cross_val_score\n",
    "\n",
    "regModel   = linear_model.LogisticRegression(C=noptC, penalty='l1')\n",
    "regAcc     = 100*cross_val_score(regModel, Xs, y, cv=nfold)\n",
    "\n",
    "unRegModel = linear_model.LogisticRegression()\n",
    "unRegAcc     = 100*cross_val_score(unRegModel, Xs, y, cv=nfold)\n",
    "\n",
    "print(\"The accuracy of the unregularized model is {:.3f}% ± {:.3f}%\"\n",
    "          .format(np.mean(unRegAcc), np.std(unRegAcc)/np.sqrt(nfold-1)))\n",
    "\n",
    "print(\"The accuracy of the regularized model is {:.3f}% ± {:.3f}%\"\n",
    "          .format(np.mean(regAcc), np.std(regAcc)/np.sqrt(nfold-1)))"
   ]
  },
  {
   "cell_type": "markdown",
   "metadata": {
    "deletable": true,
    "editable": true
   },
   "source": [
    "For the optimal `C`, fit the model on the entire training data with l1 regularization. Find the resulting weight matrix, `W_l1`.  Plot the first row of this weight matrix and compare it to the first row of the weight matrix without the regularization.  You should see that, with l1-regularization, the weight matrix is much more sparse and hence the roles of particular genes are more clearly visible."
   ]
  },
  {
   "cell_type": "code",
   "execution_count": 23,
   "metadata": {
    "collapsed": false,
    "deletable": true,
    "editable": true
   },
   "outputs": [
    {
     "name": "stdout",
     "output_type": "stream",
     "text": [
      "1.83298071083\n"
     ]
    },
    {
     "data": {
      "text/plain": [
       "<Container object of 3 artists>"
      ]
     },
     "execution_count": 23,
     "metadata": {},
     "output_type": "execute_result"
    },
    {
     "data": {
      "image/png": "[encoded data removed]",
      "text/plain": [
       "<matplotlib.figure.Figure at 0x1129e5128>"
      ]
     },
     "metadata": {},
     "output_type": "display_data"
    }
   ],
   "source": [
    "# TODO\n",
    "print(noptC)\n",
    "model = linear_model.LogisticRegression(C=noptC, penalty='l1')\n",
    "model.fit(Xs, y)\n",
    "\n",
    "\n",
    "f, (ax1, ax2) = plt.subplots(nrows=1, ncols=2, sharey=True)\n",
    "f.set_size_inches(10, 3)\n",
    "ax1.stem(W[0,:])\n",
    "ax2.stem(model.coef_[0, model.coef_[0,:] != 0])"
   ]
  },
  {
   "cell_type": "code",
   "execution_count": 24,
   "metadata": {
    "collapsed": false,
    "deletable": true,
    "editable": true
   },
   "outputs": [
    {
     "data": {
      "text/plain": [
       "LogisticRegressionCV(Cs=array([  1.00000e-02,   5.27263e+00,   1.05353e+01,   1.57979e+01,\n",
       "         2.10605e+01,   2.63232e+01,   3.15858e+01,   3.68484e+01,\n",
       "         4.21111e+01,   4.73737e+01,   5.26363e+01,   5.78989e+01,\n",
       "         6.31616e+01,   6.84242e+01,   7.36868e+01,   7.89495e+01,\n",
       "         8.42121e+01,   8.94747e+01,   9.47374e+01,   1.00000e+02]),\n",
       "           class_weight=None, cv=10, dual=False, fit_intercept=True,\n",
       "           intercept_scaling=1.0, max_iter=100, multi_class='ovr',\n",
       "           n_jobs=-1, penalty='l1', random_state=None, refit=True,\n",
       "           scoring=None, solver='liblinear', tol=0.0001, verbose=0)"
      ]
     },
     "execution_count": 24,
     "metadata": {},
     "output_type": "execute_result"
    }
   ],
   "source": [
    "cvModel = linear_model.LogisticRegressionCV(\n",
    "    Cs=np.linspace(1e-2,100, 20), \n",
    "    cv=10, \n",
    "    penalty='l1',\n",
    "    solver='liblinear',\n",
    "    n_jobs=-1,\n",
    "    verbose=0,\n",
    "    refit=True)\n",
    "\n",
    "cvModel.fit(Xs, y)"
   ]
  },
  {
   "cell_type": "code",
   "execution_count": 25,
   "metadata": {
    "collapsed": false,
    "deletable": true,
    "editable": true
   },
   "outputs": [
    {
     "name": "stdout",
     "output_type": "stream",
     "text": [
      "5.27263157895 42.7688815789 100.0\n",
      "7\n",
      "[ 0.96192407  0.96169241  0.96168597  0.96167954  0.96144788  0.9613417\n",
      "  0.9613417   0.9613417   0.96133526  0.96132883  0.96122909  0.96122265\n",
      "  0.96111004  0.9611036   0.96109073  0.96075933  0.96074003  0.96063385\n",
      "  0.96063385  0.87404762]\n",
      "42.7688815789\n"
     ]
    },
    {
     "data": {
      "text/plain": [
       "array([  10.53526316,    5.27263158,   78.94947368,   42.11105263,\n",
       "          5.27263158,  100.        ,   42.11105263,   57.89894737])"
      ]
     },
     "execution_count": 25,
     "metadata": {},
     "output_type": "execute_result"
    }
   ],
   "source": [
    "print(np.min(cvModel.C_), np.mean(cvModel.C_), np.max(cvModel.C_))\n",
    "\n",
    "\n",
    "S = np.zeros(20)\n",
    "for i in cvModel.scores_:\n",
    "    score = cvModel.scores_[i]\n",
    "    S += np.mean(score, axis=0)\n",
    "print(i)\n",
    "S /= (i+1)\n",
    "print(S[np.argsort(-S)])\n",
    "optIdx = np.argmax(S)\n",
    "S[optIdx]\n",
    "\n",
    "print(np.mean(cvModel.C_))\n",
    "cvModel.C_\n"
   ]
  },
  {
   "cell_type": "code",
   "execution_count": null,
   "metadata": {
    "collapsed": true,
    "deletable": true,
    "editable": true
   },
   "outputs": [],
   "source": []
  }
 ],
 "metadata": {
  "anaconda-cloud": {},
  "kernelspec": {
   "display_name": "Python 3",
   "language": "python",
   "name": "python3"
  },
  "language_info": {
   "codemirror_mode": {
    "name": "ipython",
    "version": 3
   },
   "file_extension": ".py",
   "mimetype": "text/x-python",
   "name": "python",
   "nbconvert_exporter": "python",
   "pygments_lexer": "ipython3",
   "version": "3.6.1"
  }
 },
 "nbformat": 4,
 "nbformat_minor": 1
}
