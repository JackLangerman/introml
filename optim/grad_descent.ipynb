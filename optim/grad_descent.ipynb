{
 "cells": [
  {
   "cell_type": "markdown",
   "metadata": {},
   "source": [
    "# Demo:  Gradient Descent Optimization\n",
    "\n",
    "In the [breast cancer demo](../logistic/breast_cancer.ipynb), we used the `sklearn` built-in `LogisticRegression` class to find the weights for the logistic regression problem.   The `fit` routine in that class has an *optimizer* to select the weights to best match the data.  To understand how that optimizer works, in this demo, we will build a very simple gradient descent optimizer from scratch.  You will learn to:\n",
    "* Compute the gradients of a simple loss function and implement the gradient calculations in python\n",
    "* Implement a simple gradient descent optimizer\n",
    "* Visualize the effect of the learning rate in gradient descent\n",
    "* Implement an adaptive learning rate algorithm"
   ]
  },
  {
   "cell_type": "markdown",
   "metadata": {},
   "source": [
    "## Loading the Breast Cancer Data\n",
    "\n",
    "We first load the standard packages."
   ]
  },
  {
   "cell_type": "code",
<<<<<<< HEAD
   "execution_count": 10,
=======
   "execution_count": 7,
>>>>>>> fd31d48b99c7eb38d05ab59df0104be4c1f1eb9f
   "metadata": {
    "collapsed": true
   },
   "outputs": [],
   "source": [
    "import numpy as np\n",
    "import matplotlib.pyplot as plt\n",
    "import pandas as pd\n",
    "%matplotlib inline\n",
    "from sklearn import preprocessing"
   ]
  },
  {
   "cell_type": "markdown",
   "metadata": {},
   "source": [
    "We next load the data from the [breast cancer demo](../logistic/breast_cancer.ipynb).  "
   ]
  },
  {
   "cell_type": "code",
<<<<<<< HEAD
   "execution_count": 11,
   "metadata": {
    "collapsed": false
   },
=======
   "execution_count": 8,
   "metadata": {},
>>>>>>> fd31d48b99c7eb38d05ab59df0104be4c1f1eb9f
   "outputs": [
    {
     "data": {
      "text/html": [
       "<div>\n",
<<<<<<< HEAD
=======
       "<style>\n",
       "    .dataframe thead tr:only-child th {\n",
       "        text-align: right;\n",
       "    }\n",
       "\n",
       "    .dataframe thead th {\n",
       "        text-align: left;\n",
       "    }\n",
       "\n",
       "    .dataframe tbody tr th {\n",
       "        vertical-align: top;\n",
       "    }\n",
       "</style>\n",
>>>>>>> fd31d48b99c7eb38d05ab59df0104be4c1f1eb9f
       "<table border=\"1\" class=\"dataframe\">\n",
       "  <thead>\n",
       "    <tr style=\"text-align: right;\">\n",
       "      <th></th>\n",
       "      <th>id</th>\n",
       "      <th>thick</th>\n",
       "      <th>size_unif</th>\n",
       "      <th>shape_unif</th>\n",
       "      <th>marg</th>\n",
       "      <th>cell_size</th>\n",
       "      <th>bare</th>\n",
       "      <th>chrom</th>\n",
       "      <th>normal</th>\n",
       "      <th>mit</th>\n",
       "      <th>class</th>\n",
       "    </tr>\n",
       "  </thead>\n",
       "  <tbody>\n",
       "    <tr>\n",
       "      <th>0</th>\n",
       "      <td>1000025</td>\n",
       "      <td>5</td>\n",
       "      <td>1</td>\n",
       "      <td>1</td>\n",
       "      <td>1</td>\n",
       "      <td>2</td>\n",
       "      <td>1.0</td>\n",
       "      <td>3</td>\n",
       "      <td>1</td>\n",
       "      <td>1</td>\n",
       "      <td>2</td>\n",
       "    </tr>\n",
       "    <tr>\n",
       "      <th>1</th>\n",
       "      <td>1002945</td>\n",
       "      <td>5</td>\n",
       "      <td>4</td>\n",
       "      <td>4</td>\n",
       "      <td>5</td>\n",
       "      <td>7</td>\n",
       "      <td>10.0</td>\n",
       "      <td>3</td>\n",
       "      <td>2</td>\n",
       "      <td>1</td>\n",
       "      <td>2</td>\n",
       "    </tr>\n",
       "    <tr>\n",
       "      <th>2</th>\n",
       "      <td>1015425</td>\n",
       "      <td>3</td>\n",
       "      <td>1</td>\n",
       "      <td>1</td>\n",
       "      <td>1</td>\n",
       "      <td>2</td>\n",
       "      <td>2.0</td>\n",
       "      <td>3</td>\n",
       "      <td>1</td>\n",
       "      <td>1</td>\n",
       "      <td>2</td>\n",
       "    </tr>\n",
       "    <tr>\n",
       "      <th>3</th>\n",
       "      <td>1016277</td>\n",
       "      <td>6</td>\n",
       "      <td>8</td>\n",
       "      <td>8</td>\n",
       "      <td>1</td>\n",
       "      <td>3</td>\n",
       "      <td>4.0</td>\n",
       "      <td>3</td>\n",
       "      <td>7</td>\n",
       "      <td>1</td>\n",
       "      <td>2</td>\n",
       "    </tr>\n",
       "    <tr>\n",
       "      <th>4</th>\n",
       "      <td>1017023</td>\n",
       "      <td>4</td>\n",
       "      <td>1</td>\n",
       "      <td>1</td>\n",
       "      <td>3</td>\n",
       "      <td>2</td>\n",
       "      <td>1.0</td>\n",
       "      <td>3</td>\n",
       "      <td>1</td>\n",
       "      <td>1</td>\n",
       "      <td>2</td>\n",
       "    </tr>\n",
       "  </tbody>\n",
       "</table>\n",
       "</div>"
      ],
      "text/plain": [
       "        id  thick  size_unif  shape_unif  marg  cell_size  bare  chrom  \\\n",
       "0  1000025      5          1           1     1          2   1.0      3   \n",
       "1  1002945      5          4           4     5          7  10.0      3   \n",
       "2  1015425      3          1           1     1          2   2.0      3   \n",
       "3  1016277      6          8           8     1          3   4.0      3   \n",
       "4  1017023      4          1           1     3          2   1.0      3   \n",
       "\n",
       "   normal  mit  class  \n",
       "0       1    1      2  \n",
       "1       2    1      2  \n",
       "2       1    1      2  \n",
       "3       7    1      2  \n",
       "4       1    1      2  "
      ]
     },
<<<<<<< HEAD
     "execution_count": 11,
=======
     "execution_count": 8,
>>>>>>> fd31d48b99c7eb38d05ab59df0104be4c1f1eb9f
     "metadata": {},
     "output_type": "execute_result"
    }
   ],
   "source": [
    "names = ['id','thick','size_unif','shape_unif','marg','cell_size','bare',\n",
    "         'chrom','normal','mit','class']\n",
    "df = pd.read_csv('https://archive.ics.uci.edu/ml/machine-learning-databases/' +\n",
    "                 'breast-cancer-wisconsin/breast-cancer-wisconsin.data',\n",
    "                names=names,na_values='?',header=None)\n",
    "df = df.dropna()\n",
    "df.head()"
   ]
  },
  {
   "cell_type": "markdown",
   "metadata": {},
   "source": [
    "As in the breast cancer demo, we create a data matrix `X` of various features of the breast cancer sample.  The response vector `y` is a binary indicating if each sample is benign or malignant.  "
   ]
  },
  {
   "cell_type": "code",
<<<<<<< HEAD
   "execution_count": 12,
   "metadata": {
    "collapsed": false
=======
   "execution_count": 9,
   "metadata": {
    "collapsed": true
>>>>>>> fd31d48b99c7eb38d05ab59df0104be4c1f1eb9f
   },
   "outputs": [],
   "source": [
    "# Get the predictors\n",
    "xnames = names[1:-1]\n",
    "X = np.array(df[xnames])\n",
    "Xs = preprocessing.scale(X)\n",
    "\n",
    "# Get the response.  Convert to a zero-one indicator \n",
    "yraw = np.array(df['class'])\n",
    "BEN_VAL = 2   # value in the 'class' label for benign samples\n",
    "MAL_VAL = 4   # value in the 'class' label for malignant samples\n",
    "y = (yraw == MAL_VAL).astype(int)"
   ]
  },
  {
   "cell_type": "markdown",
   "metadata": {},
   "source": [
    "We want to learn the classification rule to predict `y` from `X`.  To this end, we first split the data into training and test."
   ]
  },
  {
   "cell_type": "code",
<<<<<<< HEAD
   "execution_count": 13,
=======
   "execution_count": 10,
>>>>>>> fd31d48b99c7eb38d05ab59df0104be4c1f1eb9f
   "metadata": {
    "collapsed": true
   },
   "outputs": [],
   "source": [
    "ntr = 400        # number of training samples\n",
    "Xtr = X[:ntr,:]  # training\n",
    "ytr = y[:ntr]\n",
    "Xts = X[ntr:,:]  # test\n",
    "yts = y[ntr:]"
   ]
  },
  {
   "cell_type": "markdown",
   "metadata": {},
   "source": [
    "## Computing the Gradient and Loss Function\n",
    "\n",
    "Recall that training a logistic function means finding a weight vector `w` for the classification rule:\n",
    "\n",
    "    P(y=1|x,w) = 1/(1+\\exp(-z)), z = w[0] + w[1]*x[0] + ... + w[k]x[k-1]\n",
    "    \n",
    "From the class notes in logistic regression, we saw that the weight vector can be found by minimizing  the negative log likelihood.  The negative log likelihood is called the *loss* function.  For the logistic regression problem, the loss function simplifies to:\n",
    "\n",
    "\n",
<<<<<<< HEAD
    "    f(w) = \\sum_i (1-y[i])z[i] + ln(1+exp(-z[i])),  z[i] = w[0] + w[1]X[i,0] + ... + w[k]X[i,k-1].\n",
=======
    "    f(w) = \\sum_i -y[i]z[i] + ln(1+exp(z[i])),  z[i] = w[0] + w[1]X[i,0] + ... + w[k]X[i,k-1].\n",
>>>>>>> fd31d48b99c7eb38d05ab59df0104be4c1f1eb9f
    "    \n",
    "To run a numerical optimizer in python, we need to implement a python function that returns `f(w)` and its gradient.  \n",
    "\n",
    "Since the function `f(w)` also depends parameters `X` and `y`, it is easier to implement the function as a method in a class that contains the parameters.  In the code below, we create a class `LogisticFun` where the constructor takes the parameters `X` and `y`.  Then, the class method `feval` takes a variable `w` and computes the loss and its gradient."
   ]
  },
  {
   "cell_type": "code",
<<<<<<< HEAD
   "execution_count": 14,
   "metadata": {
    "collapsed": false
=======
   "execution_count": 11,
   "metadata": {
    "collapsed": true
>>>>>>> fd31d48b99c7eb38d05ab59df0104be4c1f1eb9f
   },
   "outputs": [],
   "source": [
    "class LogisticFun(object):\n",
    "    def __init__(self,X,y):\n",
    "        \"\"\"\n",
    "        Class for computes the loss and gradient for a logistic regression problem.\n",
    "        \n",
    "        The constructor takes the data matrix `X` and response vector y for training.\n",
    "        \"\"\"\n",
    "        self.X = X\n",
    "        self.y = y\n",
    "        n = X.shape[0]\n",
    "        self.A = np.column_stack((np.ones(n,), X))\n",
    "\n",
    "    def feval(self,w):\n",
    "        \"\"\"\n",
    "        Compute the loss and gradient for a given weight vector\n",
    "        \"\"\"\n",
    "        # The loss is the binary cross entropy\n",
    "        z = self.A.dot(w)\n",
    "        py = 1/(1+np.exp(-z))\n",
    "        f = np.sum((1-self.y)*z - np.log(py))\n",
    "        \n",
    "        # Gradient\n",
    "        df_dz = py-self.y\n",
    "        fgrad = self.A.T.dot(df_dz)\n",
    "        return f, fgrad"
   ]
  },
  {
   "cell_type": "markdown",
   "metadata": {},
   "source": [
    "Once we have defined the class we can create an *instance* of the class with the training data."
   ]
  },
  {
   "cell_type": "code",
<<<<<<< HEAD
   "execution_count": 15,
=======
   "execution_count": 12,
>>>>>>> fd31d48b99c7eb38d05ab59df0104be4c1f1eb9f
   "metadata": {
    "collapsed": true
   },
   "outputs": [],
   "source": [
    "log_fun = LogisticFun(Xtr,ytr)"
   ]
  },
  {
   "cell_type": "markdown",
   "metadata": {},
   "source": [
    "Before using the function, it is important to test if the gradient is correct."
   ]
  },
  {
   "cell_type": "code",
<<<<<<< HEAD
   "execution_count": 16,
   "metadata": {
    "collapsed": false
   },
=======
   "execution_count": 13,
   "metadata": {},
>>>>>>> fd31d48b99c7eb38d05ab59df0104be4c1f1eb9f
   "outputs": [
    {
     "name": "stdout",
     "output_type": "stream",
     "text": [
<<<<<<< HEAD
      "Actual f1-f0    =   1.5699e-04\n",
      "Predicted f1-f0 =   1.5698e-04\n"
=======
      "Actual f1-f0    =   3.3279e-04\n",
      "Predicted f1-f0 =   3.3279e-04\n"
>>>>>>> fd31d48b99c7eb38d05ab59df0104be4c1f1eb9f
     ]
    }
   ],
   "source": [
    "# Take a random initial point\n",
    "p = X.shape[1]+1\n",
    "w0 = np.random.randn(p)\n",
    "\n",
    "# Perturb the point\n",
    "step = 1e-6\n",
    "w1 = w0 + step*np.random.randn(p)\n",
    "\n",
    "# Measure the function and gradient at w0 and w1\n",
    "f0, fgrad0 = log_fun.feval(w0)\n",
    "f1, fgrad1 = log_fun.feval(w1)\n",
    "\n",
    "# Predict the amount the function should have changed based on the gradient\n",
    "df_est = fgrad0.dot(w1-w0)\n",
    "\n",
    "# Print the two values to see if they are close\n",
    "print(\"Actual f1-f0    = %12.4e\" % (f1-f0))\n",
    "print(\"Predicted f1-f0 = %12.4e\" % df_est)"
   ]
  },
  {
   "cell_type": "markdown",
   "metadata": {},
   "source": [
<<<<<<< HEAD
    "You can see that the two agree well."
=======
    "You can see that the two agree well.\n",
    "\n",
    "You could also create the function using a technique called `lambda` calculus as shown below.  But, we will not use this."
   ]
  },
  {
   "cell_type": "code",
   "execution_count": 17,
   "metadata": {},
   "outputs": [],
   "source": [
    "# Create a function with all the parameters\n",
    "def feval_param(w,X,y):\n",
    "    \"\"\"\n",
    "    Compute the loss and gradient given w,X,y\n",
    "    \"\"\"\n",
    "    # Construct transform matrix\n",
    "    n = X.shape[0]\n",
    "    A = np.column_stack((np.ones(n,), X))\n",
    "\n",
    "    # The loss is the binary cross entropy\n",
    "    z = A.dot(w)\n",
    "    py = 1/(1+np.exp(-z))\n",
    "    f = np.sum((1-y)*z - np.log(py))\n",
    "\n",
    "    # Gradient\n",
    "    df_dz = py-y\n",
    "    fgrad = A.T.dot(df_dz)\n",
    "    return f, fgrad\n",
    "\n",
    "# Create a function with X,y fixed\n",
    "feval = lambda w: feval_param(w,Xtr,ytr)\n",
    "\n",
    "# You can now pass a parameter like w0\n",
    "f0, fgrad0 = feval(w0)"
>>>>>>> fd31d48b99c7eb38d05ab59df0104be4c1f1eb9f
   ]
  },
  {
   "cell_type": "markdown",
   "metadata": {},
   "source": [
    "## A Simple Gradient Descent Optimizer\n",
    "\n",
    "Now, we build a simple gradient descent optimizer function with a fixed learning rate."
   ]
  },
  {
   "cell_type": "code",
<<<<<<< HEAD
   "execution_count": 17,
   "metadata": {
    "collapsed": false
=======
   "execution_count": 18,
   "metadata": {
    "collapsed": true
>>>>>>> fd31d48b99c7eb38d05ab59df0104be4c1f1eb9f
   },
   "outputs": [],
   "source": [
    "def grad_opt_simp(feval, winit, lr=1e-3,nit=1000):\n",
    "    \"\"\"\n",
    "    Simple gradient descent optimization\n",
    "    \n",
    "    feval:  A function that returns f, fgrad, the objective\n",
    "            function and its gradient\n",
    "    winit:  Initial estimate\n",
    "    lr:     learning rate\n",
    "    nit:    Number of iterations\n",
    "    \"\"\"\n",
    "    # Initialize\n",
    "    w0 = winit\n",
    "    \n",
    "    # Create history dictionary for tracking progress per iteration.\n",
    "    # This isn't necessary if you just want the final answer, but it \n",
    "    # is useful for debugging\n",
    "    hist = {'w': [], 'f': []}\n",
    "    \n",
    "    # Loop over iterations\n",
    "    for it in range(nit):\n",
    "\n",
    "        # Evaluate the function and gradient\n",
    "        f0, fgrad0 = feval(w0)\n",
    "\n",
    "        # Take a gradient step\n",
    "        w0 = w0 - lr*fgrad0\n",
    "        \n",
    "         # Save history\n",
    "        hist['f'].append(f0)\n",
    "        hist['w'].append(w0)\n",
    "\n",
    "    # Convert to numpy arrays\n",
    "    for elem in ('f', 'w'):\n",
    "        hist[elem] = np.array(hist[elem])\n",
<<<<<<< HEAD
    "    return w0, hist"
=======
    "    return w0, f0, hist"
>>>>>>> fd31d48b99c7eb38d05ab59df0104be4c1f1eb9f
   ]
  },
  {
   "cell_type": "markdown",
   "metadata": {},
   "source": [
    "We now run the gradient descent starting from a random initial condition."
   ]
  },
  {
   "cell_type": "code",
<<<<<<< HEAD
   "execution_count": 18,
   "metadata": {
    "collapsed": false
   },
   "outputs": [
    {
     "data": {
      "image/png": "iVBORw0KGgoAAAANSUhEUgAAAhoAAAFqCAYAAABcc/N6AAAABHNCSVQICAgIfAhkiAAAAAlwSFlz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\n",
      "text/plain": [
       "<matplotlib.figure.Figure at 0x10ad37747f0>"
=======
   "execution_count": 26,
   "metadata": {},
   "outputs": [
    {
     "data": {
      "image/png": "iVBORw0KGgoAAAANSUhEUgAAAYQAAAEECAYAAAAoDUMLAAAABHNCSVQICAgIfAhkiAAAAAlwSFlz\nAAALEgAACxIB0t1+/AAAG5xJREFUeJzt3XuwFPWd9/H3B48XEAQ0ArWYiFFRtDR4eTBZ1/UYE8FK\nIroaivhEPSvuJhqzPrF2I+AF43qNWUs3K+5uvBysxFKfrTJq4gVZnZhLqbiJlwgCujkuUI+YeAHx\nDnyfP7oHBjyXOWfmTE9Pf15VXUz/pnvme/wdz3f6++3uUURgZmY2JOsAzMysOTghmJkZ4IRgZmYp\nJwQzMwOcEMzMLOWEYGZmQBUJQdKOkp6U9DtJz0ual46PlrRQ0jJJD0saWbHPHEkrJC2VdFzF+KGS\nnpO0XNL1g/MjmZnZQPSZECLiA+CYiDgEmAwcL2kKMBtYFBH7AY8CcwAkHQDMACYBxwPzJSl9uZuA\nWRExEZgoaWq9fyAzMxuYqkpGEfFu+nBHoA0IYDqwIB1fAJyYPj4BuDMiNkREF7ACmCJpHDAiIhan\n291esY+ZmWWsqoQgaYik3wGvAo+kf9THRsQagIh4FRiTbj4eWFmx++p0bDywqmJ8VTpmZmZNoK2a\njSJiE3CIpF2AeyQdSHKUsNVm9QpKku+nYWY2ABGhvrfqXr/OMoqIdUAJmAaskTQWIC0HvZZuthr4\nZMVue6RjPY339F6ZLvPmzWuK1+vPftVs29s2PT3Xn/F6/3fL8/w1cu5aaf6aYe4aPX/9fa6n7WtV\nzVlGnyifQSRpKPBFYClwH9CRbnYGcG/6+D5gpqQdJO0F7AM8FUlZaa2kKWmT+fSKfZpOe3t7U7xe\nf/arZtvetunpuf6Md3V19RlDIzTD/DVy7np7Pm/z1wxz19/9Buv/vZ6eq/d/ozL1lVUkHUTSNB6S\nLndFxBWSdgXuJvnU/wowIyLeSveZA8wCPgLOi4iF6fhhQCewE/BARJzXw3tGPbKdNV5HRwednZ1Z\nh2ED5PnLN0lEDSWjPhNCFpwQ8qtUKg3apxcbfJ6/fHNCMDMzoPaE4FtXWF2VSqWsQ7AaeP6KzQnB\nzMwAl4zMzFqGS0ZmZlYXTghWV65B55vnr9icEMzMDHAPwcysZbiHYGZmdeGEYHXlGnS+ef6KzQnB\nzMwA9xDMzFqGewhmZlYXTghWV65B55vnr9icEMzMDHAPwcysZbiHYGZmdeGEYHXlGnS+ef6KzQnB\nzMwA9xDMzFqGewhmZlYXTghWV65B55vnr9icEMzMDHAPwcysZbiHYGZmdeGEYHXlGnS+ef6KzQnB\nzMwA9xDMzFrGoPcQJO0h6VFJL0h6XtK30/F5klZJ+m26TKvYZ46kFZKWSjquYvxQSc9JWi7p+oEG\nbWZm9VdNyWgDcH5EHAh8DjhX0v7pc9dFxKHp8hCApEnADGAScDwwX1I5Y90EzIqIicBESVPr+cNY\n9lyDzjfPX7H1mRAi4tWIeCZ9vB5YCoxPn+7u0GQ6cGdEbIiILmAFMEXSOGBERCxOt7sdOLHG+M3M\nrE761VSWNAGYDDyZDp0r6RlJN0samY6NB1ZW7LY6HRsPrKoYX8WWxGItor29PesQrAaev2Jrq3ZD\nScOB/wDOi4j1kuYDl0VESLoc+CfgrHoF1tHRwYQJEwAYNWoUkydP3vzLWj6s9brXve71Iq+XSiU6\nOzsBNv+9rEVVZxlJagN+BjwYETd08/yewP0RcbCk2UBExDXpcw8B84BXgMciYlI6PhM4OiLO7ub1\nfJZRTpVKpc2/uJY/nr98a9SVyrcCSyqTQdoTKPsr4Pfp4/uAmZJ2kLQXsA/wVES8CqyVNCVtMp8O\n3DvQwM3MrL76PEKQdCTwOPA8EOkyFziVpJ+wCegCvhERa9J95gCzgI9ISkwL0/HDgE5gJ+CBiDiv\nh/f0EYKZWT/VeoTgC9PMzFqEb25nTaXc8LJ88vwVmxOCmZkBLhmZmbUMl4zMzKwunBCsrlyDzjfP\nX7E5IZiZGeAegplZy3APwczM6sIJwerKNeh88/wVmxOCmZkB7iGYmbUM9xDMzKwunBCsrlyDzjfP\nX7E5IZiZGeAegplZy3APwczM6sIJwerKNeh88/wVmxOCmZkB7iGYmbUM9xDMzKwunBCsrlyDzjfP\nX7E5IZiZGeAegplZy3APwczM6sIJwerKNeh88/wVmxOCmZkB7iGYmbUM9xDMzKwunBCsrlyDzjfP\nX7H1mRAk7SHpUUkvSHpe0t+l46MlLZS0TNLDkkZW7DNH0gpJSyUdVzF+qKTnJC2XdP3g/EhmZjYQ\nffYQJI0DxkXEM5KGA/8FTAf+Gng9Ir4v6QJgdETMlnQA8BPgfwF7AIuAfSMiJD0JnBsRiyU9ANwQ\nEQ93857uIZiZ9dOg9xAi4tWIeCZ9vB5YSvKHfjqwIN1sAXBi+vgE4M6I2BARXcAKYEqaWEZExOJ0\nu9sr9jEzs4z1q4cgaQIwGXgCGBsRayBJGsCYdLPxwMqK3VanY+OBVRXjq9IxayGuQeeb56/Y2qrd\nMC0X/QdwXkSsl7RtTaeuNZ6Ojg4mTJgAwKhRo5g8eTLt7e3All9ar3vd614v8nqpVKKzsxNg89/L\nWlR1HYKkNuBnwIMRcUM6thRoj4g1aTnosYiYJGk2EBFxTbrdQ8A84JXyNun4TODoiDi7m/dzD8HM\nrJ8adR3CrcCScjJI3Qd0pI/PAO6tGJ8paQdJewH7AE+lZaW1kqZIEnB6xT5mZpaxak47PRL438Dn\nJf1O0m8lTQOuAb4oaRlwLHA1QEQsAe4GlgAPAOdUfNz/FnALsBxYEREP1fsHsmyVD2ctnzx/xdZn\nDyEifg1s18PTX+hhn6uAq7oZ/y/goP4EaGZmjeF7GZmZtQjfy8jMzOrCCcHqyjXofPP8FVvTJgRX\njMzMGqtpewj33BOc6BtbmJlVrdYeQtMmhP33D55/HtqqvpbazKzYWrapPHYsLFjQ93bWXFyDzjfP\nX7E1bUK4+mq49FJ4772sIzEzK4amLRlFBCefDEccAd/9btYRmZk1v5btIUQEL74IRx0Fy5fD6NFZ\nR2Vm1txatocAsP/+cNJJcM01WUdi1XINOt88f8XW1AkBYN48+NGPYNWqvrc1M7OBa+qSUdns2fD6\n60liMDOz7rV0D6HszTdh4kR4/HGYNCnDwMzMmlhL9xDKRo9OzjS68MKsI7G+uAadb56/YstFQgA4\n91xYvBieeCLrSMzMWlMuSkZlt96aXL1cKoEGfFBkZtaaClEyKjv9dPjjH+HBB7OOxMys9eQqIbS1\nwVVXJWcdbdyYdTTWHdeg883zV2y5SggAJ5wAI0bAHXdkHYmZWWvJVQ+h7Je/hNNOg2XLYMcdGxiY\nmVkTK1QPoeyoo+Cgg+Cmm7KOxMysdeQyIQBceWXST1i3LutIrJJr0Pnm+Su23CaEgw6CadPgBz/I\nOhIzs9aQyx5C2SuvwKGHwgsvwLhxDQjMzKyJFeJeRr05/3z44AO48cZBDsrMrMkVsqlcae5cuOsu\neOmlrCMxcA067zx/xZb7hPCJT8B3vgMXXZR1JGZm+dZnyUjSLcCXgTURcXA6Ng/4G+C1dLO5EfFQ\n+twc4ExgA3BeRCxMxw8FOoGdgAci4v/08p5Vl4wA3nkH9t0X7r8fDjus6t3MzFpKI0pGtwFTuxm/\nLiIOTZdyMpgEzAAmAccD86XNt6G7CZgVEROBiZK6e80B2XlnuOQSmDOnXq9oZlY8fSaEiPgV8GY3\nT3WXhaYDd0bEhojoAlYAUySNA0ZExOJ0u9uBEwcWcvdmzYKuLli0qJ6vav3lGnS+ef6KrZYewrmS\nnpF0s6SR6dh4YGXFNqvTsfFA5bcir0rH6mb77eHyy5Mb323aVM9XNjMrhrYB7jcfuCwiQtLlwD8B\nZ9UvLOjo6GDChAkAjBo1ismTJ9Pe3g5s+RSz7fopp7Rz7bVw6aUlPv/5jz/v9cFfb29vb6p4vO75\na+X1UqlEZ2cnwOa/l7Wo6joESXsC95ebyj09J2k2EBFxTfrcQ8A84BXgsYiYlI7PBI6OiLN7eL9+\nNZUr/ed/wje/CUuWJEcNZmZF0ajrEERFzyDtCZT9FfD79PF9wExJO0jaC9gHeCoiXgXWSpqSNplP\nB+4daNC9OfZY+PSn4eabB+PVrS/lTy+WT56/YuuzZCTpDqAd2E3S/5B84j9G0mRgE9AFfAMgIpZI\nuhtYAnwEnFPxUf9bbH3a6UN1/UkqXH01fOlLyS2yhw8frHcxM2stub91RU++9jU48EBfsGZmxVH4\nexn15OWX4Ygj4MUXk6uZzcxaXeHvZdSTvfeGmTPhiiuyjqRYXIPON89fsbVsQgC4+GK4/fbkgjUz\nM+tdy5aMyubNgz/8IUkMZmatzD2EPqxbBxMnwsKFcPDHrqIwM2sd7iH0YZddku9MmDs360iKwTXo\nfPP8FVvLJwSAb3wj+ZrNxx/POhIzs+bV8iWjsh//OPmazd/8BjTgAyozs+blklGVTj0V3nsP7h2U\nG2aYmeVfYRLCkCFw1VXJl+hs2JB1NK3LNeh88/wVW2ESAsC0aTBuHCxYkHUkZmbNpzA9hLInn4RT\nToHly2Ho0EF5CzOzTLiH0E9HHAFTpsAPf5h1JGZmzaVwCQHgyivh2mvhze6+Kdpq4hp0vnn+iq2Q\nCWG//eCkk5LvTTAzs0Theghlq1cnt7J49lnYY49BfSszs4bwvYxqMGcO/OlP8KMfDfpbmZkNOjeV\na3DBBcmFakuXZh1J63ANOt88f8VW6IQwahR897tw4YVZR2Jmlr1Cl4wA3n8/uT323XfDZz/bkLc0\nMxsULhnVaKed4NJLk/JRE+ZGM7OGKXxCADj99KS5/OCDWUeSf65B55vnr9icEIC2tuRitdmzYePG\nrKMxM8tG4XsIZRHwF38B3/wmnHZaQ9/azKwufB1CHf3yl0kyWLYMdtyx4W9vZlYTN5Xr6Kij4KCD\n4Kabso4kv1yDzjfPX7E5IWzjqquSZd26rCMxM2ssl4y60dEBn/wk/OM/ZhaCmVm/DXrJSNItktZI\neq5ibLSkhZKWSXpY0siK5+ZIWiFpqaTjKsYPlfScpOWSrh9owI3wve/B/Pnw+utZR2Jm1jjVlIxu\nA6ZuMzYbWBQR+wGPAnMAJB0AzAAmAccD8yWVs9VNwKyImAhMlLTtazaNPfeEk0+G65s6bTUn16Dz\nzfNXbH0mhIj4FbDtV8lMB8rfTLwAODF9fAJwZ0RsiIguYAUwRdI4YERELE63u71in6Y0d27SXPaX\n6JhZUQy0qTwmItYARMSrwJh0fDywsmK71enYeGBVxfiqdKxpTZgA06fDDTdkHUm+tLe3Zx2C1cDz\nV2xtdXqduneAOzo6mDBhAgCjRo1i8uTJm39Zy4e1g70+d247RxwBhx9eYvjwwX8/r3vd617vz3qp\nVKKzsxNg89/LWlR1lpGkPYH7I+LgdH0p0B4Ra9Jy0GMRMUnSbCAi4pp0u4eAecAr5W3S8ZnA0RFx\ndg/vl+lZRpXOOAP23RcuuijrSPKhVCpt/sW1/PH85VujLkxTupTdB3Skj88A7q0YnylpB0l7AfsA\nT6VlpbWSpqRN5tMr9mlqF14I//zPvi7BzFpfn0cIku4A2oHdgDUkn/h/Cvxf4JMkn/5nRMRb6fZz\ngFnAR8B5EbEwHT8M6AR2Ah6IiPN6ec+mOUIA+PrX4cADk6/cNDNrVr6XUQMsXQrt7fDyyzB8eNbR\nmJl1z/cyaoBJk+CYY5KL1ax35YaX5ZPnr9icEKp08cVw3XXwzjtZR2JmNjhcMuqHr34VPvc5OP/8\nrCMxM/s49xAa6NlnYdo0+O//hqFDs47GzGxr7iE00Gc+A5/9LPz7v2cdSfNyDTrfPH/F5oTQT5dc\nAt//Prz/ftaRmJnVl0tGA3DCCTB1KnzrW1lHYma2hXsIGXj6aTjpJHjpJX/3spk1D/cQMnD44XDw\nwXDbbVlH0nxcg843z1+xOSEM0MUXJ9+9/OGHWUdiZlYfLhnVYOrU5NqEs87KOhIzM/cQMvXrX8Np\np8GyZbD99llHY2ZF5x5Cho48Ej79afjxj7OOpHm4Bp1vnr9ic0Ko0SWXwBVXwIYNWUdiZlYbl4zq\noL0dZs1KykdmZllxD6EJPPoonH02LFkC222XdTRmVlTuITSBY46BMWPgrruyjiR7rkHnm+ev2JwQ\n6kBKegmXXw4bN2YdjZnZwLhkVCcR8Od/Dt/5DsyYkXU0ZlZE7iE0kQcfhH/4B3juORjiYy8zazD3\nEJrItGkwbBjcc0/WkWTHNeh88/wVmxNCHZV7CZddBps2ZR2NmVn/uGRUZxFw2GEwbx5Mn551NGZW\nJC4ZNZnyUcL3vpckBzOzvHBCGATTpyclo5//POtIGs816Hzz/BWbE8IgkJLvS7jsMh8lmFl+uIcw\nSDZtSr5V7Qc/SM4+MjMbbO4hNKkhQ5KjBPcSzCwvakoIkrokPSvpd5KeSsdGS1ooaZmkhyWNrNh+\njqQVkpZKOq7W4JvdKafA2rWwaFHWkTSOa9D55vkrtlqPEDYB7RFxSERMScdmA4siYj/gUWAOgKQD\ngBnAJOB4YL6kAR/a5MF228FFF/kowczyoaYegqQ/AIdHxOsVYy8CR0fEGknjgFJE7C9pNhARcU26\n3YPApRHxZDevm/seQtnGjXDAAXD99XD88VlHY2atLOseQgCPSFosqfxV82MjYg1ARLwKjEnHxwMr\nK/ZdnY61tO22gxtvhDPOSL43wcysWbXVuP+REfH/JO0OLJS0jCRJVBrQR/2Ojg4mTJgAwKhRo5g8\neTLt7e3AljpnXtbb2krMnQszZ7Zz882wyy7NFV891ytr0M0Qj9c9f628XiqV6OzsBNj897IWdTvt\nVNI8YD1wFklfoVwyeiwiJnVTMnoImNfqJaNKixfDV74C110Hp56adTSDo1Qqbf7Ftfzx/OVbZre/\nljQMGBIR6yXtDCwEvgccC7wREddIugAYHRGz06byT4AjSEpFjwD7dveXv1UTAsALL8DUqXDhhcnX\nbpqZ1UutCaGWktFY4B5Jkb7OTyJioaSngbslnQm8QnJmERGxRNLdwBLgI+Cclv2r34sDD4THH4cv\nfCE5JXX27KwjMjNL+ErljKxeDV/8YnLfoyuvTG530Qpccsg3z1++ZX2WkQ3Q+PHJkcIjj8C55/r7\nE8wsez5CyNi6dUmj+VOfgltvhe23zzoiM8srHyHk3C67JN/F/Prr8NWvwvvvZx2RmRWVE0ITGDYM\nfvpT2HFH+PKXYf36rCMauMrz2C1/PH/F5oTQJHbYAe64A/baK2k2v/lm1hGZWdG4h9BkIuDv/z65\nQ+rDD8O4cVlHZGZ54R5Ci5GSL9U55RT4y7+EUgk+/DDrqMysCJwQmlD5Kzhnz06OFnbfPbleYf58\neOmlrKPrnWvQ+eb5KzYnhCZ25pnw9NNJEpg5E556Kjlq2HtvOOecpBG9bl3WUZpZq3APIWci4Pe/\nT/oLDz8MTzwBhxySNKL32y/pOZSXESNa5wpoM+tbZje3G0xOCNV7993kiudFi6CrC9asgVdfTZaN\nG7dOEGPGJNc9DB8OO++c/Fv5uLuxoUOdVMzywgnBerR+/dYJ4rXX4O23k/H16+Gdd/p+/OGHyXUS\nO+9c3bJmTYmDDmqvap9hw5IvELLm4XsZ5VuWdzu1Jlf+tL/33gN/jY0bkwRR7fLuu/Dyy9Vt+957\nycV4I0YkRy4jRyZL+fG2//b03IgRTixm9eAjBMvMpk1JUli/PrkV+Lp1W/9b7dg77yRHHCNHwq67\nVr/stptLYtZaXDKywtu0KSmFvfVWcoX3G29Uv2za9PFEsfvuWy9jxmy9vuOOWf/EZt1zQrCmkrca\n9HvvbZ1EXn8d/vjHZHnttS2PK5eddvp4kugucZTXd9op65+yenmbP9uaewhmNRg6NFn+7M+q2z4i\nKVN1lzRWroTf/nbLWPnfoUOT5FDNsuuu7odYdnyEYDaIygnktdeqW9auTZJCtQlk+HD3QGwLl4zM\nWsiGDfCnP22dJMpHG90tGzZUnzx23z25q661LicEayquQTfWu+/2njC2TSw779x70li9usTUqe2M\nGQOjR8MQ39wmV9xDMCuwYcNgzz2TpS8RyZlY3SWLJUuSO+suXw7/9m/J2Lp1yam52x5ljB6dLLvu\nuuVx5ZKnJrptzUcIZtatjz76ePnqtdeSs7J6W4YM6T5RVC7bXlxYuQwb5r7IQLlkZGZNI2LLqbw9\nLW+8kVw3sm7dlqV8oeG6dfDBB1uuXh/IUt63iFewOyFYU3EPId+aYf42bPh4wuhrWbt2633efjtZ\nhg7dOrlsm2h6em7b7fJy1OIegpm1lLa2LaWlWkQktzXZNlFUJpLy+qpVvW/3/vtbH3nUkmCa+Up3\nHyGYmfVhw4bknlvbJoueEkxPz61dmxxp1JJURozYsmy//dZx+gjBzGyQtbXBqFHJUqsPPqguqXR1\ndf9ceeztt5OEUE4OY8fWHpuPEKyumqEGbQPn+cuPiKSUVU4O774Ln/lMbUcIDb/sRNI0SS9KWi7p\ngka/vw2uZ555JusQrAaev/yQkqb52LGwzz5w8MG1v2ZDE4KkIcC/AFOBA4GvSdq/kTHY4Hrrrbey\nDsFq4PkrtkYfIUwBVkTEKxHxEXAnML3BMVSlVCo1xev1Z79qtu1tm56e6+94M2iG+Wvk3PX2fN7m\nrxnmrr/7Ddb/ez09N1hz1+iEMB5YWbG+Kh1rOv6lHNh4V1dXnzE0QjPMXx4TQjPMXzPMXX/3a5WE\n0NCmsqSTgakR8bfp+teBKRHxd9ts546ymdkA5Om009XApyrW90jHtlLLD2RmZgPT6JLRYmAfSXtK\n2gGYCdzX4BjMzKwbDT1CiIiNks4FFpIko1siYmkjYzAzs+415YVpZmbWeP4+JDMzA5wQzMwslYub\n20kaBswHPgB+ERF3ZByS9YOkvYALgV0iYkbW8Vj1JE0HvgSMAG6NiEcyDsn6Ib0TxHnAbsCjEfGv\nvW6fhx5Cer3CmxHxc0l3RsTMrGOy/pN0txNCPkkaBVwbEX+TdSzWf5IELIiI03vbLpOSkaRbJK2R\n9Nw24z3d+G4PtlzhvLFhgVq3BjB/1iRqmLuLgBsbE6X1ZCDzJ+krwM+AB/p6/ax6CLeR3OBusz5u\nfLeSJCkA+KK17PV3/jZv1pjwrBf9njtJVwMPRIRvhZq9fs9fRNwfEV8Cvt7Xi2eSECLiV8Cb2wz3\nduO7e4BTJN0I3N+4SK07/Z0/SbtKugmY7COHbA1g7r4NHEvy/9/fNjRY+5gBzN/Rkm6Q9K/Az/t6\n/WZqKnd347spABHxLnBmFkFZ1XqbvzeAs7MIyqrS29z9EPhhFkFZ1Xqbv18Av6j2hXzaqZmZAc2V\nEKq68Z01Lc9ffnnu8q1u85dlQhBbNxl947t88fzll+cu3wZt/rI67fQO4DfAREn/I+mvI2Ij8G2S\nG9+9ANzpG981J89ffnnu8m2w5y8XF6aZmdnga6YegpmZZcgJwczMACcEMzNLOSGYmRnghGBmZikn\nBDMzA5wQzMws5YRgZmYA/H+FEpMeKfCLjQAAAABJRU5ErkJggg==\n",
      "text/plain": [
       "<matplotlib.figure.Figure at 0x1f453a4bb70>"
>>>>>>> fd31d48b99c7eb38d05ab59df0104be4c1f1eb9f
      ]
     },
     "metadata": {},
     "output_type": "display_data"
    }
   ],
   "source": [
    "# Initial condition\n",
    "winit = np.random.randn(p)\n",
    "\n",
    "# Parameters\n",
    "feval = log_fun.feval\n",
    "nit = 1000\n",
    "lr = 1e-4\n",
    "\n",
    "# Run the gradient descent\n",
<<<<<<< HEAD
    "w, hist = grad_opt_simp(feval, winit, lr=lr, nit=nit)\n",
=======
    "w, f0, hist = grad_opt_simp(feval, winit, lr=lr, nit=nit)\n",
>>>>>>> fd31d48b99c7eb38d05ab59df0104be4c1f1eb9f
    "\n",
    "# Plot the training loss\n",
    "t = np.arange(nit)\n",
    "plt.semilogx(t, hist['f'])\n",
    "plt.grid()"
   ]
  },
  {
   "cell_type": "markdown",
   "metadata": {},
   "source": [
    "We can measure the accuracy of the final estimate by creating a predict method."
   ]
  },
  {
   "cell_type": "code",
<<<<<<< HEAD
   "execution_count": 19,
   "metadata": {
    "collapsed": false
   },
=======
   "execution_count": 27,
   "metadata": {},
>>>>>>> fd31d48b99c7eb38d05ab59df0104be4c1f1eb9f
   "outputs": [
    {
     "name": "stdout",
     "output_type": "stream",
     "text": [
<<<<<<< HEAD
      "Test accuracy = 0.968198\n"
=======
      "Test accuracy = 0.964664\n"
>>>>>>> fd31d48b99c7eb38d05ab59df0104be4c1f1eb9f
     ]
    }
   ],
   "source": [
    "def predict(X,w):\n",
    "    z = X.dot(w[1:]) + w[0]\n",
    "    yhat = (z > 0)\n",
    "    return yhat\n",
    "\n",
    "yhat = predict(Xts,w)\n",
    "acc = np.mean(yhat == yts)\n",
    "print(\"Test accuracy = %f\" % acc)"
   ]
  },
  {
   "cell_type": "markdown",
   "metadata": {},
   "source": [
    "This is not quite as good as the test accuracy for the `sklearn` method, which was about 98.5%.  The reason is that the learning rate was somewhat slow and we didn't yet fully converge.\n",
    "\n",
    "To see the effect of the learning rate, the code below tries different learning rates."
   ]
  },
  {
   "cell_type": "code",
<<<<<<< HEAD
   "execution_count": 20,
   "metadata": {
    "collapsed": false
   },
=======
   "execution_count": 29,
   "metadata": {},
>>>>>>> fd31d48b99c7eb38d05ab59df0104be4c1f1eb9f
   "outputs": [
    {
     "name": "stdout",
     "output_type": "stream",
     "text": [
<<<<<<< HEAD
      "lr=    1.00e-05  Test accuracy = 0.480565\n",
      "lr=    1.00e-04  Test accuracy = 0.968198\n",
=======
      "lr=    1.00e-05  Test accuracy = 0.681979\n",
      "lr=    1.00e-04  Test accuracy = 0.964664\n",
>>>>>>> fd31d48b99c7eb38d05ab59df0104be4c1f1eb9f
      "lr=    1.00e-03  Test accuracy = 0.989399\n"
     ]
    },
    {
     "data": {
      "text/plain": [
<<<<<<< HEAD
       "<matplotlib.legend.Legend at 0x10ad3942550>"
      ]
     },
     "execution_count": 20,
=======
       "<matplotlib.legend.Legend at 0x1f4538be358>"
      ]
     },
     "execution_count": 29,
>>>>>>> fd31d48b99c7eb38d05ab59df0104be4c1f1eb9f
     "metadata": {},
     "output_type": "execute_result"
    },
    {
     "data": {
<<<<<<< HEAD
      "image/png": "iVBORw0KGgoAAAANSUhEUgAAAhoAAAFqCAYAAABcc/N6AAAABHNCSVQICAgIfAhkiAAAAAlwSFlz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\nrkJggg==\n",
      "text/plain": [
       "<matplotlib.figure.Figure at 0x10ad3942518>"
=======
      "image/png": "iVBORw0KGgoAAAANSUhEUgAAAYQAAAEECAYAAAAoDUMLAAAABHNCSVQICAgIfAhkiAAAAAlwSFlz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\n",
      "text/plain": [
       "<matplotlib.figure.Figure at 0x1f4538f4cf8>"
>>>>>>> fd31d48b99c7eb38d05ab59df0104be4c1f1eb9f
      ]
     },
     "metadata": {},
     "output_type": "display_data"
    }
   ],
   "source": [
    "# Learning rate values to test\n",
    "lr_test = [1e-5,1e-4,1e-3]\n",
    "ntest = len(lr_test)\n",
    "\n",
    "# Strings for the legend\n",
    "leg_str = []\n",
    "\n",
    "for i, lr in enumerate(lr_test):\n",
    "    # Run the optimizer\n",
<<<<<<< HEAD
    "    w, hist = grad_opt_simp(feval, winit, lr=lr, nit=nit)    \n",
=======
    "    w, f0, hist = grad_opt_simp(feval, winit, lr=lr, nit=nit)    \n",
>>>>>>> fd31d48b99c7eb38d05ab59df0104be4c1f1eb9f
    "    \n",
    "    # Plot the results\n",
    "    plt.semilogx(t, hist['f'])\n",
    "    leg_str.append(\"lr=%12.2e\" % lr)\n",
    "    \n",
    "    # Measure the test accuracy\n",
    "    yhat = predict(Xts,w)\n",
    "    acc = np.mean(yhat == yts)\n",
    "    print(\"lr=%12.2e  Test accuracy = %f\" % (lr, acc))\n",
    "    \n",
    "plt.grid()\n",
    "plt.legend(leg_str, loc='upper right')"
   ]
  },
  {
   "cell_type": "markdown",
   "metadata": {},
   "source": [
    "We see that increasing the learning rate, speeds the convergence time, but the optimization is beginning to go unstable."
   ]
  },
  {
   "cell_type": "markdown",
   "metadata": {},
   "source": [
    "## Adaptive Step Size\n",
    "\n",
    "The above example shows that gradient descent is sensitive to the step size.  We now consider a slight variant of gradient descent with an adaptive step-size using the Armijo rule in class."
   ]
  },
  {
   "cell_type": "code",
   "execution_count": null,
   "metadata": {
<<<<<<< HEAD
    "collapsed": false
=======
    "collapsed": true
>>>>>>> fd31d48b99c7eb38d05ab59df0104be4c1f1eb9f
   },
   "outputs": [],
   "source": []
  },
  {
   "cell_type": "code",
<<<<<<< HEAD
   "execution_count": 21,
   "metadata": {
    "collapsed": false
=======
   "execution_count": 30,
   "metadata": {
    "collapsed": true
>>>>>>> fd31d48b99c7eb38d05ab59df0104be4c1f1eb9f
   },
   "outputs": [],
   "source": [
    "def grad_opt_adapt(feval, winit, nit=1000, lr_init=1e-3):\n",
    "    \"\"\"\n",
    "    Gradient descent optimization with adaptive step size\n",
    "    \n",
    "    feval:  A function that returns f, fgrad, the objective\n",
    "            function and its gradient\n",
    "    winit:  Initial estimate\n",
    "    nit:    Number of iterations\n",
    "    lr:     Initial learning rate\n",
    "    \"\"\"\n",
    "    \n",
    "    # Set initial point\n",
    "    w0 = winit\n",
    "    f0, fgrad0 = feval(w0)\n",
    "    lr = lr_init\n",
    "    \n",
    "    # Create history dictionary for tracking progress per iteration.\n",
    "    # This isn't necessary if you just want the final answer, but it \n",
    "    # is useful for debugging\n",
    "    hist = {'lr': [], 'w': [], 'f': []}\n",
    "\n",
    "    for it in range(nit):\n",
    "\n",
    "        # Take a gradient step\n",
    "        w1 = w0 - lr*fgrad0\n",
    "\n",
    "        # Evaluate the test point by computing the objective function, f1,\n",
    "        # at the test point and the predicted decrease, df_est\n",
    "        f1, fgrad1 = feval(w1)\n",
    "        df_est = fgrad0.dot(w1-w0)\n",
    "        \n",
    "        # Check if test point passes the Armijo rule\n",
    "        alpha = 0.5\n",
    "        if (f1-f0 < alpha*df_est) and (f1 < f0):\n",
    "            # If descent is sufficient, accept the point and increase the\n",
    "            # learning rate\n",
    "            lr = lr*2\n",
    "            f0 = f1\n",
    "            fgrad0 = fgrad1\n",
    "            w0 = w1\n",
    "        else:\n",
    "            # Otherwise, decrease the learning rate\n",
    "            lr = lr/2            \n",
    "            \n",
    "        # Save history\n",
    "        hist['f'].append(f0)\n",
    "        hist['lr'].append(lr)\n",
    "        hist['w'].append(w0)\n",
    "\n",
    "    # Convert to numpy arrays\n",
    "    for elem in ('f', 'lr', 'w'):\n",
    "        hist[elem] = np.array(hist[elem])\n",
<<<<<<< HEAD
    "    return w0, hist\n"
=======
    "    return w0, f0, hist\n"
>>>>>>> fd31d48b99c7eb38d05ab59df0104be4c1f1eb9f
   ]
  },
  {
   "cell_type": "markdown",
   "metadata": {},
   "source": [
    "We can now run the new optimizer."
   ]
  },
  {
   "cell_type": "code",
<<<<<<< HEAD
   "execution_count": 22,
   "metadata": {
    "collapsed": false
   },
=======
   "execution_count": 31,
   "metadata": {},
>>>>>>> fd31d48b99c7eb38d05ab59df0104be4c1f1eb9f
   "outputs": [
    {
     "data": {
      "text/plain": [
<<<<<<< HEAD
       "<matplotlib.text.Text at 0x10ad3abb6d8>"
      ]
     },
     "execution_count": 22,
=======
       "<matplotlib.text.Text at 0x1f453769390>"
      ]
     },
     "execution_count": 31,
>>>>>>> fd31d48b99c7eb38d05ab59df0104be4c1f1eb9f
     "metadata": {},
     "output_type": "execute_result"
    },
    {
     "data": {
<<<<<<< HEAD
      "image/png": "iVBORw0KGgoAAAANSUhEUgAAAjQAAAF/CAYAAABe/FMxAAAABHNCSVQICAgIfAhkiAAAAAlwSFlz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\nAAAAAElFTkSuQmCC\n",
      "text/plain": [
       "<matplotlib.figure.Figure at 0x10ad3a81978>"
=======
      "image/png": "iVBORw0KGgoAAAANSUhEUgAAAZYAAAETCAYAAAAVhSD9AAAABHNCSVQICAgIfAhkiAAAAAlwSFlz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\nAElFTkSuQmCC\n",
      "text/plain": [
       "<matplotlib.figure.Figure at 0x1f4538c1e80>"
>>>>>>> fd31d48b99c7eb38d05ab59df0104be4c1f1eb9f
      ]
     },
     "metadata": {},
     "output_type": "display_data"
    }
   ],
   "source": [
    "winit = np.random.randn(p)\n",
    "nit = 1000\n",
<<<<<<< HEAD
    "w, hist = grad_opt_adapt(feval, winit, nit=nit)\n",
=======
    "w, f0, hist = grad_opt_adapt(feval, winit, nit=nit)\n",
>>>>>>> fd31d48b99c7eb38d05ab59df0104be4c1f1eb9f
    "\n",
    "t = np.arange(nit)\n",
    "plt.subplot(2,1,1)\n",
    "plt.semilogx(t, hist['f'])\n",
    "plt.grid()\n",
    "plt.ylabel('Loss')\n",
    "\n",
    "plt.subplot(2,1,2)\n",
    "plt.semilogx(t, hist['lr'])\n",
    "plt.grid()\n",
    "plt.ylabel('Learning rate')\n",
    "plt.xlabel('Iteration')"
   ]
  },
  {
   "cell_type": "markdown",
   "metadata": {},
   "source": [
    "Finally we measure the accuracy."
   ]
  },
  {
   "cell_type": "code",
<<<<<<< HEAD
   "execution_count": 23,
   "metadata": {
    "collapsed": false
   },
=======
   "execution_count": 32,
   "metadata": {},
>>>>>>> fd31d48b99c7eb38d05ab59df0104be4c1f1eb9f
   "outputs": [
    {
     "name": "stdout",
     "output_type": "stream",
     "text": [
      "Test accuracy = 0.989399\n"
     ]
    }
   ],
   "source": [
    "yhat = predict(Xts,w)\n",
    "acc = np.mean(yhat == yts)\n",
    "print(\"Test accuracy = %f\" % acc)"
   ]
  },
  {
   "cell_type": "markdown",
   "metadata": {},
   "source": [
    "## In-Class Exercise\n",
    "\n",
    "Try to a build a simple optimizer to minimize:\n",
    "\n",
    "    f(w) = a[0] + a[1]*w + a[2]*w^2 + ... + a[d]*w^d\n",
    "    \n",
    "for the coefficients `a = [0,0.5,-2,0,1]`.\n",
    "\n",
    "* Plot the function f(w)\n",
    "* Can you see where the minima is?\n",
    "* Write a function that outputs f(w) and its gradient.\n",
    "* Run the optimizer on the function to see if it finds the minima.\n",
    "* Print the funciton value and number of iterations.\n",
    "* Bonus:  Instead of writing the function for a specific coefficient vector `a`, create a class that works for an arbitrary vector `a`.\n",
    "\n",
    "You may wish to use the `poly.polyval(w,a)` method to evaluate the polynomial."
   ]
  },
  {
   "cell_type": "code",
   "execution_count": 24,
   "metadata": {
<<<<<<< HEAD
    "collapsed": false
=======
    "collapsed": true
>>>>>>> fd31d48b99c7eb38d05ab59df0104be4c1f1eb9f
   },
   "outputs": [],
   "source": [
    "import numpy.polynomial.polynomial as poly\n",
    "\n",
    "\n"
   ]
  },
  {
   "cell_type": "code",
   "execution_count": null,
   "metadata": {
    "collapsed": true
   },
   "outputs": [],
   "source": []
  }
 ],
 "metadata": {
  "anaconda-cloud": {},
  "kernelspec": {
   "display_name": "Python [conda root]",
   "language": "python",
   "name": "conda-root-py"
  },
  "language_info": {
   "codemirror_mode": {
    "name": "ipython",
    "version": 3
   },
   "file_extension": ".py",
   "mimetype": "text/x-python",
   "name": "python",
   "nbconvert_exporter": "python",
   "pygments_lexer": "ipython3",
<<<<<<< HEAD
   "version": "3.5.3"
=======
   "version": "3.5.4"
>>>>>>> fd31d48b99c7eb38d05ab59df0104be4c1f1eb9f
  }
 },
 "nbformat": 4,
 "nbformat_minor": 1
}
