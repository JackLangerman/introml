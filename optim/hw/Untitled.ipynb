{
 "cells": [
  {
   "cell_type": "code",
   "execution_count": 1,
   "metadata": {
    "collapsed": false,
    "deletable": true,
    "editable": true
   },
   "outputs": [],
   "source": [
    "def printMatrix(A, n):\n",
    "    s = \"\".join( (\"| \",\"|\\n| \".join([(\"{:0.3f}\\t\"*n).format(*u) for u in A]), \"|\") )\n",
    "#     print(\"---\")\n",
    "    print(s)\n",
    "#     print(\"---\")"
   ]
  },
  {
   "cell_type": "code",
   "execution_count": 2,
   "metadata": {
    "collapsed": true,
    "deletable": true,
    "editable": true
   },
   "outputs": [],
   "source": [
    "import numpy as np\n",
    "import matplotlib.pyplot as plt\n",
    "%matplotlib inline \n",
    "\n",
    "m = 5000 # num samples       / rows\n",
    "n = 2 # num num vars (including bias) / cols\n"
   ]
  },
  {
   "cell_type": "code",
   "execution_count": 3,
   "metadata": {
    "collapsed": false,
    "deletable": true,
    "editable": true
   },
   "outputs": [
    {
     "name": "stdout",
     "output_type": "stream",
     "text": [
      "[-77.12117165  62.27248259]\n"
     ]
    }
   ],
   "source": [
    "w_true = 100*np.random.randn(n)\n",
    "print(w_true)\n",
    "def trueFunction(A, w_true):\n",
    "    z = np.matmul(A, w_true)\n",
    "    c = 1/z\n",
    "    return c"
   ]
  },
  {
   "cell_type": "code",
   "execution_count": 4,
   "metadata": {
    "collapsed": false,
    "deletable": true,
    "editable": true
   },
   "outputs": [
    {
     "name": "stdout",
     "output_type": "stream",
     "text": [
      "(5000, 2) (2,) (2,)\n"
     ]
    }
   ],
   "source": [
    "# sample some data from the true distribution\n",
    "A_true_uns = np.column_stack( (np.ones(m), np.random.randn(m, n-1)))\n",
    "\n",
    "mu = np.mean(A_true_uns, axis=0)\n",
    "sigma = np.std(A_true_uns, axis=0)\n",
    "\n",
    "print(A_true_uns. shape, mu.shape, sigma.shape)\n",
    "\n",
    "# A_true = (A_true_uns - mu) / (sigma+1e-4)\n",
    "A_true = A_true_uns\n",
    "\n",
    "y_true = trueFunction(A_true, w_true)\n"
   ]
  },
  {
   "cell_type": "code",
   "execution_count": 5,
   "metadata": {
    "collapsed": false,
    "deletable": true,
    "editable": true
   },
   "outputs": [
    {
     "data": {
      "text/plain": [
       "[<matplotlib.lines.Line2D at 0x110a56e48>]"
      ]
     },
     "execution_count": 5,
     "metadata": {},
     "output_type": "execute_result"
    },
    {
     "data": {
      "image/png": "[encoded data removed]",
      "text/plain": [
       "<matplotlib.figure.Figure at 0x10f83b320>"
      ]
     },
     "metadata": {},
     "output_type": "display_data"
    }
   ],
   "source": [
    "plt.plot(A_true[:, 1], y_true, 'o')"
   ]
  },
  {
   "cell_type": "code",
   "execution_count": 6,
   "metadata": {
    "collapsed": false,
    "deletable": true,
    "editable": true
   },
   "outputs": [
    {
     "data": {
      "text/plain": [
       "[<matplotlib.lines.Line2D at 0x110a9f4e0>]"
      ]
     },
     "execution_count": 6,
     "metadata": {},
     "output_type": "execute_result"
    },
    {
     "data": {
      "image/png": "[encoded data removed]",
      "text/plain": [
       "<matplotlib.figure.Figure at 0x110a9f518>"
      ]
     },
     "metadata": {},
     "output_type": "display_data"
    }
   ],
   "source": [
    "w = 100* np.random.randn(n)\n",
    "z = np.matmul(A_true, w)\n",
    "\n",
    "\n",
    "y_hat = 1/z\n",
    "\n",
    "plt.plot(A_true[:, 1], y_true, 'o')\n",
    "plt.plot(A_true[:, 1], y_hat, 'o')"
   ]
  },
  {
   "cell_type": "code",
   "execution_count": 7,
   "metadata": {
    "collapsed": true,
    "deletable": true,
    "editable": true
   },
   "outputs": [],
   "source": [
    "def costGrad(w, A, y):\n",
    "    Jarr = np.zeros(m)\n",
    "    grad = np.zeros(n)\n",
    "    for i in range(m):\n",
    "        gradi = np.zeros(n)\n",
    "        for j in range(n):\n",
    "            x = A[i]\n",
    "            z = np.matmul(x, w)\n",
    "            a = 1/z\n",
    "\n",
    "            Jarr[i] =  (y[i] - a)**2\n",
    "\n",
    "            dJda = 2*(y[i] - a) \n",
    "\n",
    "            dadz = -1/(z**2)\n",
    "\n",
    "            dzdwj = x[j]\n",
    "\n",
    "            gradi[j] = dJda * dadz * dzdwj\n",
    "            \n",
    "    grad += gradi\n",
    "    J = np.sum(Jarr)\n",
    "    \n",
    "    return J, grad"
   ]
  },
  {
   "cell_type": "code",
   "execution_count": 8,
   "metadata": {
    "collapsed": false,
    "deletable": true,
    "editable": true
   },
   "outputs": [
    {
     "data": {
      "text/plain": [
       "(3633.1091966753265, array([ 190367.15652752,  111926.89210212]))"
      ]
     },
     "execution_count": 8,
     "metadata": {},
     "output_type": "execute_result"
    }
   ],
   "source": [
    "w = 100*np.random.randn(n) # multiplying by atleast 100 or so here was essential because 1/z\n",
    "\n",
    "# w = np.random.randn(n)\n",
    "\n",
    "\n",
    "def costGrad(A, w, y):\n",
    "    z = np.matmul(A, w)\n",
    "    a = 1/z\n",
    "    J = np.sum((y-a)**2)\n",
    "    \n",
    "    dJda = 2*(a-y)\n",
    "    dadz = -1/(z**2)\n",
    "    dzdw = A.T\n",
    "    \n",
    "    grad = np.matmul(dzdw, dJda*dadz) # dJdw\n",
    "    \n",
    "    return J, grad\n",
    "\n",
    "\n",
    "\n",
    "costGrad(A_true, w, y_true)"
   ]
  },
  {
   "cell_type": "code",
   "execution_count": 9,
   "metadata": {
    "collapsed": true,
    "deletable": true,
    "editable": true
   },
   "outputs": [],
   "source": [
    "def checkGradients(analytic, A, w, y):\n",
    "    h = 1e-3\n",
    "    \n",
    "    gradn = np.zeros_like(w)\n",
    "    for j in range(n):\n",
    "        eps = np.zeros_like(w)\n",
    "        eps[j] = h\n",
    "        gradn[j] += (analytic(A, w+eps, y)[0] - analytic(A, w-eps, y)[0])\n",
    "        \n",
    "    gradn /= 2*h\n",
    "    \n",
    "    print(\"analytic\\tnumeric\")\n",
    "    printMatrix(zip(analytic(A, w, y)[1], gradn), n)\n",
    "            "
   ]
  },
  {
   "cell_type": "code",
   "execution_count": 10,
   "metadata": {
    "collapsed": false,
    "deletable": true,
    "editable": true
   },
   "outputs": [
    {
     "name": "stdout",
     "output_type": "stream",
     "text": [
      "analytic\tnumeric\n",
      "| 190367.157\t191130.331\t|\n",
      "| 111926.892\t112081.673\t|\n"
     ]
    }
   ],
   "source": [
    "checkGradients(costGrad, A_true, w, y_true)"
   ]
  },
  {
   "cell_type": "code",
   "execution_count": 11,
   "metadata": {
    "collapsed": false,
    "deletable": true,
    "editable": true
   },
   "outputs": [
    {
     "name": "stdout",
     "output_type": "stream",
     "text": [
      "w_true: [-77.12117165  62.27248259]\n",
      "w_hat: [-32750.61797537  -8601.27842057]\n"
     ]
    },
    {
     "data": {
      "image/png": "[encoded data removed]",
      "text/plain": [
       "<matplotlib.figure.Figure at 0x110b60550>"
      ]
     },
     "metadata": {},
     "output_type": "display_data"
    },
    {
     "data": {
      "image/png": "[encoded data removed]",
      "text/plain": [
       "<matplotlib.figure.Figure at 0x1128fe240>"
      ]
     },
     "metadata": {},
     "output_type": "display_data"
    }
   ],
   "source": [
    "w = 100*np.random.randn(n) # multiplying by atleast 100 or so here was essential because 1/z\n",
    "Jhist = []\n",
    "whist = []\n",
    "# Jhist = list(Jhist)\n",
    "# whist = list(whist)\n",
    "\n",
    "alpha = 1\n",
    "for _ in range(100000):\n",
    "    J, grad = costGrad(A_true, w, y_true)\n",
    "    Jhist.append(J)\n",
    "    whist.append(w)\n",
    "    \n",
    "    w = w - alpha*grad\n",
    "\n",
    "plt.title(\"Cost (J)\")\n",
    "plt.plot(Jhist, 'o')\n",
    "plt.xlabel(\"itters\")\n",
    "plt.ylabel(\"cost\")\n",
    "\n",
    "plt.figure()\n",
    "plt.title(\"weights\")\n",
    "plt.xlabel(\"w0\")\n",
    "plt.ylabel(\"w1\")\n",
    "whist = np.array(whist)\n",
    "plt.plot(whist[:, 0], whist[:, 1], 'o')\n",
    "\n",
    "plt.plot(w_true[0], w_true[1], 'o')\n",
    "plt.plot()\n",
    "# print(whist)\n",
    "# print((\"{:.3}\\n\"*len(Jhist)).format(*Jhist))\n",
    "\n",
    "print(\"w_true:\",w_true)\n",
    "print(\"w_hat:\",w)"
   ]
  },
  {
   "cell_type": "code",
   "execution_count": 12,
   "metadata": {
    "collapsed": false,
    "deletable": true,
    "editable": true
   },
   "outputs": [
    {
     "name": "stdout",
     "output_type": "stream",
     "text": [
      "(1124.6424470084223, array([ -8.41225562e-08,   1.18738464e-07]))\n",
      "1124.64244701\n",
      "1124.64244683\n",
      "1124.64244666\n",
      "1124.64244649\n",
      "1124.64244631\n",
      "1124.64244614\n",
      "1124.64244597\n",
      "1124.64244579\n",
      "1124.64244562\n",
      "1124.64244545\n",
      "1124.64244527\n",
      "1124.6424451\n",
      "1124.64244493\n",
      "1124.64244475\n",
      "1124.64244458\n",
      "1124.6424444\n",
      "1124.64244423\n",
      "1124.64244406\n",
      "1124.64244388\n",
      "1124.64244371\n",
      "1124.64244354\n",
      "1124.64244336\n",
      "1124.64244319\n",
      "1124.64244301\n",
      "1124.64244284\n",
      "1124.64244267\n",
      "1124.64244249\n",
      "1124.64244232\n",
      "1124.64244215\n",
      "1124.64244197\n",
      "1124.6424418\n",
      "1124.64244162\n",
      "1124.64244145\n",
      "1124.64244128\n",
      "1124.6424411\n",
      "1124.64244093\n",
      "1124.64244075\n",
      "1124.64244058\n",
      "1124.64244041\n",
      "1124.64244023\n",
      "1124.64244006\n",
      "1124.64243988\n",
      "1124.64243971\n",
      "1124.64243953\n",
      "1124.64243936\n",
      "1124.64243919\n",
      "1124.64243901\n",
      "1124.64243884\n",
      "1124.64243866\n",
      "1124.64243849\n",
      "1124.64243831\n",
      "1124.64243814\n",
      "1124.64243797\n",
      "1124.64243779\n",
      "1124.64243762\n",
      "1124.64243744\n",
      "1124.64243727\n",
      "1124.64243709\n",
      "1124.64243692\n",
      "1124.64243675\n",
      "1124.64243657\n",
      "1124.6424364\n",
      "1124.64243622\n",
      "1124.64243605\n",
      "1124.64243587\n",
      "1124.6424357\n",
      "1124.64243552\n",
      "1124.64243535\n",
      "1124.64243517\n",
      "1124.642435\n",
      "1124.64243483\n",
      "1124.64243465\n",
      "1124.64243448\n",
      "1124.6424343\n",
      "1124.64243413\n",
      "1124.64243395\n",
      "1124.64243378\n",
      "1124.6424336\n",
      "1124.64243343\n",
      "1124.64243325\n",
      "1124.64243308\n",
      "1124.6424329\n",
      "1124.64243273\n",
      "1124.64243255\n",
      "1124.64243238\n",
      "1124.6424322\n",
      "1124.64243203\n",
      "1124.64243185\n",
      "1124.64243168\n",
      "1124.6424315\n",
      "1124.64243133\n",
      "1124.64243115\n",
      "1124.64243098\n",
      "1124.6424308\n",
      "1124.64243063\n",
      "1124.64243045\n",
      "1124.64243028\n",
      "1124.6424301\n",
      "1124.64242993\n",
      "1124.64242975\n",
      "(1124.6424295775632, array([ -8.58200298e-08,   1.21144712e-07]))\n",
      "w_true: [-77.12117165  62.27248259]\n",
      "w_hat: [-32424.71681063  -8515.73245545]\n"
     ]
    },
    {
     "data": {
      "image/png": "[encoded data removed]",
      "text/plain": [
       "<matplotlib.figure.Figure at 0x112c429e8>"
      ]
     },
     "metadata": {},
     "output_type": "display_data"
    },
    {
     "data": {
      "image/png": "[encoded data removed]",
      "text/plain": [
       "<matplotlib.figure.Figure at 0x110fa0080>"
      ]
     },
     "metadata": {},
     "output_type": "display_data"
    }
   ],
   "source": [
    "# w = w_true+10*np.random.randn(n) # multiplying by atleast 100 or so here was essential because 1/z\n",
    "# w = np.random.randn(n)\n",
    "\n",
    "Jhist = []\n",
    "whist = []\n",
    "Jhist = list(Jhist)\n",
    "whist = list(whist)\n",
    "\n",
    "alpha = 32e-1\n",
    "\n",
    "v = np.zeros_like(w)\n",
    "print(costGrad(A_true, w, y_true))\n",
    "for q in range(100000):\n",
    "    J, grad = costGrad(A_true, w, y_true)\n",
    "    \n",
    "    Jhist.append(J)\n",
    "    whist.append(w)\n",
    "    \n",
    "#     v -= alpha*grad\n",
    "#     w = w + 0.9*v\n",
    "    w -= alpha*grad + w/1e7\n",
    "    \n",
    "    if(q%1000==0):\n",
    "        print(J)\n",
    "\n",
    "plt.title(\"Cost (J)\")\n",
    "plt.plot(Jhist, 'o')\n",
    "plt.xlabel(\"itters\")\n",
    "plt.ylabel(\"cost\")\n",
    "plt.plot(0, Jhist[0], 'o', c='g')\n",
    "plt.plot(10000,Jhist[-1], 'o', c='r')\n",
    "\n",
    "\n",
    "plt.figure()\n",
    "plt.title(\"weights\")\n",
    "plt.xlabel(\"w0\")\n",
    "plt.ylabel(\"w1\")\n",
    "whist = np.array(whist)\n",
    "\n",
    "plt.plot(whist[:, 0], whist[:, 1], 'o')\n",
    "\n",
    "plt.plot(w_true[0], w_true[1], 's', markersize=14)\n",
    "\n",
    "plt.plot(whist[0, 0], whist[0, 1], 'o', c='g')\n",
    "plt.plot(whist[-1, 0], whist[-1, 1], 'o', c='r')\n",
    "\n",
    "# print(whist)\n",
    "# print((\"{:.3}\\n\"*len(Jhist)).format(*Jhist))\n",
    "\n",
    "print(costGrad(A_true, w, y_true))\n",
    "print(\"w_true:\",w_true)\n",
    "print(\"w_hat:\",w)"
   ]
  },
  {
   "cell_type": "code",
   "execution_count": 13,
   "metadata": {
    "collapsed": false,
    "deletable": true,
    "editable": true
   },
   "outputs": [
    {
     "name": "stdout",
     "output_type": "stream",
     "text": [
      "w_true: [-77.12117165  62.27248259]\n",
      "w_hat: [-32424.71681063  -8515.73245545]\n"
     ]
    },
    {
     "data": {
      "image/png": "[encoded data removed]",
      "text/plain": [
       "<matplotlib.figure.Figure at 0x110bc1fd0>"
      ]
     },
     "metadata": {},
     "output_type": "display_data"
    }
   ],
   "source": [
    "z = np.matmul(A_true, w)\n",
    "y_hat = 1/z\n",
    "\n",
    "plt.plot(A_true[:, 1], y_true, 'o')\n",
    "plt.plot(A_true[:, 1], y_hat, 'o')\n",
    "\n",
    "print(\"w_true:\",w_true)\n",
    "print(\"w_hat:\",w)"
   ]
  },
  {
   "cell_type": "code",
   "execution_count": null,
   "metadata": {
    "collapsed": true,
    "deletable": true,
    "editable": true
   },
   "outputs": [],
   "source": []
  },
  {
   "cell_type": "code",
   "execution_count": null,
   "metadata": {
    "collapsed": true,
    "deletable": true,
    "editable": true
   },
   "outputs": [],
   "source": []
  },
  {
   "cell_type": "markdown",
   "metadata": {
    "deletable": true,
    "editable": true
   },
   "source": [
    "## on to prob 3"
   ]
  },
  {
   "cell_type": "code",
   "execution_count": 14,
   "metadata": {
    "collapsed": false,
    "deletable": true,
    "editable": true
   },
   "outputs": [
    {
     "name": "stdout",
     "output_type": "stream",
     "text": [
      "(10, 5) (5, 5)\n"
     ]
    }
   ],
   "source": [
    "m = 5  # num features\n",
    "n = 10 # num examples\n",
    "\n",
    "A = np.column_stack((np.ones(n), np.random.randn(n, m-1)))\n",
    "P = (np.random.randn(m, m)) ** 2\n",
    "\n",
    "y = np.random.randn(n) ** 2\n",
    "\n",
    "print(A.shape, P.shape)"
   ]
  },
  {
   "cell_type": "code",
   "execution_count": 15,
   "metadata": {
    "collapsed": false,
    "deletable": true,
    "editable": true
   },
   "outputs": [],
   "source": [
    "def loss(A, P, y):\n",
    "    z = np.zeros(n)\n",
    "    a = np.zeros(n)\n",
    "    \n",
    "    dadz = np.zeros(n)\n",
    "    dzdP = np.zeros((m,m))\n",
    "    \n",
    "    for i in range(n):\n",
    "        x = A[i, :]\n",
    "        z[i] = np.matmul(x, np.matmul(P, x))\n",
    "        \n",
    "        z[i] = np.abs(z[i]) #because no neg logs\n",
    "        \n",
    "        a[i] = z[i]/y[i] - np.log(z[i])\n",
    "        \n",
    "        \n",
    "        dadz[i] = 1/y[i] - 1/z[i]\n",
    "        dzdP += np.matmul(x[:, None],x[None, :])\n",
    "        \n",
    "    J = np.sum(a)\n",
    "    \n",
    "    grad = dzdP * np.sum(dadz)\n",
    "    \n",
    "    return J, grad"
   ]
  },
  {
   "cell_type": "code",
   "execution_count": 16,
   "metadata": {
    "collapsed": false,
    "deletable": true,
    "editable": true
   },
   "outputs": [
    {
     "name": "stdout",
     "output_type": "stream",
     "text": [
      "1379.08058805\n",
      "| 9657.515\t-6307.377\t5180.367\t2112.396\t1266.000\t|\n",
      "| -6307.377\t11535.632\t-5399.833\t-3752.543\t3581.562\t|\n",
      "| 5180.367\t-5399.833\t8484.214\t1119.279\t1387.640\t|\n",
      "| 2112.396\t-3752.543\t1119.279\t6148.907\t1324.081\t|\n",
      "| 1266.000\t3581.562\t1387.640\t1324.081\t9977.558\t|\n",
      "\n",
      "\n",
      "\n",
      "2690133812.35\n",
      "| 9737.784\t-6359.801\t5223.425\t2129.954\t1276.522\t|\n",
      "| -6359.801\t11631.512\t-5444.714\t-3783.733\t3611.331\t|\n",
      "| 5223.425\t-5444.714\t8554.732\t1128.582\t1399.174\t|\n",
      "| 2129.954\t-3783.733\t1128.582\t6200.015\t1335.086\t|\n",
      "| 1276.522\t3611.331\t1399.174\t1335.086\t10060.487\t|\n",
      "\n",
      " -2690132433.27\n"
     ]
    }
   ],
   "source": [
    "J, grad  = loss(A, P, y)\n",
    "alpha = 1e-3\n",
    "\n",
    "Jstart = J\n",
    "\n",
    "print(J)\n",
    "printMatrix(grad, m)\n",
    "\n",
    "for _ in range(100000):\n",
    "    J, grad  = loss(A, P, y)\n",
    "    P -= alpha*grad\n",
    "    \n",
    "J, grad  = loss(A, P, y)\n",
    "\n",
    "print(\"\\n\\n\")\n",
    "print(J)\n",
    "printMatrix(grad, m)\n",
    "\n",
    "print(\"\\n\", Jstart-J)"
   ]
  },
  {
   "cell_type": "code",
   "execution_count": 17,
   "metadata": {
    "collapsed": false,
    "deletable": true,
    "editable": true
   },
   "outputs": [],
   "source": [
    "def checkGradients(analytic, A, P, y):\n",
    "    h = 1e-3\n",
    "    m = P.shape[0]\n",
    "    w = P.ravel()\n",
    "    \n",
    "    gradn = np.zeros_like(w)\n",
    "    for j in range(len(w)):\n",
    "        eps = np.zeros_like(w)\n",
    "        eps[j] = h\n",
    "        gradn[j] = (analytic(A, (w+eps).reshape(m,m), y)[0] - analytic(A, (w-eps).reshape(m,m), y)[0]).ravel()\n",
    "        \n",
    "    gradn /= 2*h\n",
    "    \n",
    "    print(\"analytic\\tnumeric\")\n",
    "#     print(analytic(A, P, y)[1].ravel().shape, gradn.shape)\n",
    "    printMatrix(zip(analytic(A, P, y)[1].ravel(), gradn), 2)\n",
    "            "
   ]
  },
  {
   "cell_type": "code",
   "execution_count": 18,
   "metadata": {
    "collapsed": false,
    "deletable": true,
    "editable": true
   },
   "outputs": [
    {
     "name": "stdout",
     "output_type": "stream",
     "text": [
      "analytic\tnumeric\n",
      "| 9737.784\t-973.779\t|\n",
      "| -6359.801\t323.662\t|\n",
      "| 5223.425\t12.324\t|\n",
      "| 2129.954\t390.915\t|\n",
      "| 1276.522\t800.482\t|\n",
      "| -6359.801\t323.662\t|\n",
      "| 11631.512\t-253.460\t|\n",
      "| -5444.714\t87.408\t|\n",
      "| -3783.733\t-45.355\t|\n",
      "| 3611.331\t-375.100\t|\n",
      "| 5223.425\t12.324\t|\n",
      "| -5444.714\t87.408\t|\n",
      "| 8554.732\t-77.280\t|\n",
      "| 1128.582\t-63.994\t|\n",
      "| 1399.174\t33.382\t|\n",
      "| 2129.954\t390.915\t|\n",
      "| -3783.733\t-45.355\t|\n",
      "| 1128.582\t-63.995\t|\n",
      "| 6200.015\t-220.751\t|\n",
      "| 1335.086\t-277.599\t|\n",
      "| 1276.522\t800.482\t|\n",
      "| 3611.331\t-375.100\t|\n",
      "| 1399.174\t33.382\t|\n",
      "| 1335.086\t-277.599\t|\n",
      "| 10060.487\t-800.337\t|\n"
     ]
    }
   ],
   "source": [
    "checkGradients(loss, A, P, y)"
   ]
  },
  {
   "cell_type": "code",
   "execution_count": null,
   "metadata": {
    "collapsed": true,
    "deletable": true,
    "editable": true
   },
   "outputs": [],
   "source": []
  }
 ],
 "metadata": {
  "kernelspec": {
   "display_name": "Python 3",
   "language": "python",
   "name": "python3"
  },
  "language_info": {
   "codemirror_mode": {
    "name": "ipython",
    "version": 3
   },
   "file_extension": ".py",
   "mimetype": "text/x-python",
   "name": "python",
   "nbconvert_exporter": "python",
   "pygments_lexer": "ipython3",
   "version": "3.6.1"
  }
 },
 "nbformat": 4,
 "nbformat_minor": 2
}
