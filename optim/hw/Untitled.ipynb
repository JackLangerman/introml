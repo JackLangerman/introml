{
 "cells": [
  {
   "cell_type": "code",
   "execution_count": 1,
   "metadata": {
    "collapsed": false,
    "deletable": true,
    "editable": true
   },
   "outputs": [],
   "source": [
    "def printMatrix(A, n):\n",
    "    s = \"\".join( (\"| \",\"|\\n| \".join([(\"{:0.3f}\\t\"*n).format(*u) for u in A]), \"|\") )\n",
    "#     print(\"---\")\n",
    "    print(s)\n",
    "#     print(\"---\")"
   ]
  },
  {
   "cell_type": "code",
   "execution_count": 84,
   "metadata": {
    "collapsed": true,
    "deletable": true,
    "editable": true
   },
   "outputs": [],
   "source": [
    "import numpy as np\n",
    "import matplotlib.pyplot as plt\n",
    "%matplotlib inline \n",
    "\n",
    "m = 5000 # num samples       / rows\n",
    "n = 2 # num num vars (including bias) / cols\n"
   ]
  },
  {
   "cell_type": "code",
   "execution_count": 85,
   "metadata": {
    "collapsed": false,
    "deletable": true,
    "editable": true
   },
   "outputs": [
    {
     "name": "stdout",
     "output_type": "stream",
     "text": [
      "[-147.02990505  -43.92880782]\n"
     ]
    }
   ],
   "source": [
    "w_true = 100*np.random.randn(n)\n",
    "print(w_true)\n",
    "def trueFunction(A, w_true):\n",
    "    z = np.matmul(A, w_true)\n",
    "    c = 1/z\n",
    "    return c"
   ]
  },
  {
   "cell_type": "code",
   "execution_count": 86,
   "metadata": {
    "collapsed": false,
    "deletable": true,
    "editable": true
   },
   "outputs": [
    {
     "name": "stdout",
     "output_type": "stream",
     "text": [
      "(5000, 2) (2,) (2,)\n"
     ]
    }
   ],
   "source": [
    "# sample some data from the true distribution\n",
    "A_true_uns = np.column_stack( (np.ones(m), np.random.randn(m, n-1)))\n",
    "\n",
    "mu = np.mean(A_true_uns, axis=0)\n",
    "sigma = np.std(A_true_uns, axis=0)\n",
    "\n",
    "print(A_true_uns. shape, mu.shape, sigma.shape)\n",
    "\n",
    "# A_true = (A_true_uns - mu) / (sigma+1e-4)\n",
    "A_true = A_true_uns\n",
    "\n",
    "y_true = trueFunction(A_true, w_true)\n"
   ]
  },
  {
   "cell_type": "code",
   "execution_count": 87,
   "metadata": {
    "collapsed": false,
    "deletable": true,
    "editable": true
   },
   "outputs": [
    {
     "data": {
      "text/plain": [
       "[<matplotlib.lines.Line2D at 0x112c11d68>]"
      ]
     },
     "execution_count": 87,
     "metadata": {},
     "output_type": "execute_result"
    },
    {
     "data": {
      "image/png": "[encoded data removed]",
      "text/plain": [
       "<matplotlib.figure.Figure at 0x117e34d68>"
      ]
     },
     "metadata": {},
     "output_type": "display_data"
    }
   ],
   "source": [
    "plt.plot(A_true[:, 1], y_true, 'o')"
   ]
  },
  {
   "cell_type": "code",
   "execution_count": 88,
   "metadata": {
    "collapsed": false,
    "deletable": true,
    "editable": true
   },
   "outputs": [
    {
     "data": {
      "text/plain": [
       "[<matplotlib.lines.Line2D at 0x11426a128>]"
      ]
     },
     "execution_count": 88,
     "metadata": {},
     "output_type": "execute_result"
    },
    {
     "data": {
      "image/png": "[encoded data removed]",
      "text/plain": [
       "<matplotlib.figure.Figure at 0x1120ca780>"
      ]
     },
     "metadata": {},
     "output_type": "display_data"
    }
   ],
   "source": [
    "w = 100* np.random.randn(n)\n",
    "z = np.matmul(A_true, w)\n",
    "\n",
    "\n",
    "y_hat = 1/z\n",
    "\n",
    "plt.plot(A_true[:, 1], y_true, 'o')\n",
    "plt.plot(A_true[:, 1], y_hat, 'o')"
   ]
  },
  {
   "cell_type": "code",
   "execution_count": 89,
   "metadata": {
    "collapsed": true,
    "deletable": true,
    "editable": true
   },
   "outputs": [],
   "source": [
    "def costGrad(w, A, y):\n",
    "    Jarr = np.zeros(m)\n",
    "    grad = np.zeros(n)\n",
    "    for i in range(m):\n",
    "        gradi = np.zeros(n)\n",
    "        for j in range(n):\n",
    "            x = A[i]\n",
    "            z = np.matmul(x, w)\n",
    "            a = 1/z\n",
    "\n",
    "            Jarr[i] =  (y[i] - a)**2\n",
    "\n",
    "            dJda = 2*(y[i] - a) \n",
    "\n",
    "            dadz = -1/(z**2)\n",
    "\n",
    "            dzdwj = x[j]\n",
    "\n",
    "            gradi[j] = dJda * dadz * dzdwj\n",
    "            \n",
    "    grad += gradi\n",
    "    J = np.sum(Jarr)\n",
    "    \n",
    "    return J, grad"
   ]
  },
  {
   "cell_type": "code",
   "execution_count": 90,
   "metadata": {
    "collapsed": false,
    "deletable": true,
    "editable": true
   },
   "outputs": [
    {
     "data": {
      "text/plain": [
       "(35.63265100912929, array([ 172.97168473,  386.14704966]))"
      ]
     },
     "execution_count": 90,
     "metadata": {},
     "output_type": "execute_result"
    }
   ],
   "source": [
    "w = 100*np.random.randn(n) # multiplying by atleast 100 or so here was essential because 1/z\n",
    "\n",
    "# w = np.random.randn(n)\n",
    "\n",
    "\n",
    "def costGrad(A, w, y):\n",
    "    z = np.matmul(A, w)\n",
    "    a = 1/z\n",
    "    J = np.sum((y-a)**2)\n",
    "    \n",
    "    dJda = 2*(a-y)\n",
    "    dadz = -1/(z**2)\n",
    "    dzdw = A.T\n",
    "    \n",
    "    grad = np.matmul(dzdw, dJda*dadz) # dJdw\n",
    "    \n",
    "    return J, grad\n",
    "\n",
    "\n",
    "\n",
    "costGrad(A_true, w, y_true)"
   ]
  },
  {
   "cell_type": "code",
   "execution_count": 91,
   "metadata": {
    "collapsed": true,
    "deletable": true,
    "editable": true
   },
   "outputs": [],
   "source": [
    "def checkGradients(analytic, A, w, y):\n",
    "    h = 1e-3\n",
    "    \n",
    "    gradn = np.zeros_like(w)\n",
    "    for j in range(n):\n",
    "        eps = np.zeros_like(w)\n",
    "        eps[j] = h\n",
    "        gradn[j] += (analytic(A, w+eps, y)[0] - analytic(A, w-eps, y)[0])\n",
    "        \n",
    "    gradn /= 2*h\n",
    "    \n",
    "    print(\"analytic\\tnumeric\")\n",
    "    printMatrix(zip(analytic(A, w, y)[1], gradn), n)\n",
    "            "
   ]
  },
  {
   "cell_type": "code",
   "execution_count": 92,
   "metadata": {
    "collapsed": false,
    "deletable": true,
    "editable": true
   },
   "outputs": [
    {
     "name": "stdout",
     "output_type": "stream",
     "text": [
      "analytic\tnumeric\n",
      "| 172.972\t172.978\t|\n",
      "| 386.147\t386.219\t|\n"
     ]
    }
   ],
   "source": [
    "checkGradients(costGrad, A_true, w, y_true)"
   ]
  },
  {
   "cell_type": "code",
   "execution_count": 93,
   "metadata": {
    "collapsed": false,
    "deletable": true,
    "editable": true
   },
   "outputs": [
    {
     "name": "stdout",
     "output_type": "stream",
     "text": [
      "w_true: [-147.02990505  -43.92880782]\n",
      "w_hat: [-127550.07749527  -63728.1315986 ]\n"
     ]
    },
    {
     "data": {
      "image/png": "[encoded data removed]",
      "text/plain": [
       "<matplotlib.figure.Figure at 0x117e34668>"
      ]
     },
     "metadata": {},
     "output_type": "display_data"
    },
    {
     "data": {
      "image/png": "[encoded data removed]",
      "text/plain": [
       "<matplotlib.figure.Figure at 0x1137fec18>"
      ]
     },
     "metadata": {},
     "output_type": "display_data"
    }
   ],
   "source": [
    "w = 100*np.random.randn(n) # multiplying by atleast 100 or so here was essential because 1/z\n",
    "Jhist = []\n",
    "whist = []\n",
    "# Jhist = list(Jhist)\n",
    "# whist = list(whist)\n",
    "\n",
    "alpha = 1\n",
    "for _ in range(100000):\n",
    "    J, grad = costGrad(A_true, w, y_true)\n",
    "    Jhist.append(J)\n",
    "    whist.append(w)\n",
    "    \n",
    "    w = w - alpha*grad\n",
    "\n",
    "plt.title(\"Cost (J)\")\n",
    "plt.plot(Jhist, 'o')\n",
    "plt.xlabel(\"itters\")\n",
    "plt.ylabel(\"cost\")\n",
    "\n",
    "plt.figure()\n",
    "plt.title(\"weights\")\n",
    "plt.xlabel(\"w0\")\n",
    "plt.ylabel(\"w1\")\n",
    "whist = np.array(whist)\n",
    "plt.plot(whist[:, 0], whist[:, 1], 'o')\n",
    "\n",
    "plt.plot(w_true[0], w_true[1], 'o')\n",
    "plt.plot()\n",
    "# print(whist)\n",
    "# print((\"{:.3}\\n\"*len(Jhist)).format(*Jhist))\n",
    "\n",
    "print(\"w_true:\",w_true)\n",
    "print(\"w_hat:\",w)"
   ]
  },
  {
   "cell_type": "code",
   "execution_count": 158,
   "metadata": {
    "collapsed": false,
    "deletable": true,
    "editable": true
   },
   "outputs": [
    {
     "name": "stdout",
     "output_type": "stream",
     "text": [
      "(1.0840083482346994, array([ -6.17755312e-04,   6.04193648e-05]))\n",
      "1.08400834823\n",
      "1.08281371537\n",
      "1.08164455102\n",
      "1.08049992736\n",
      "1.07937896402\n",
      "1.07828082501\n",
      "1.07720471579\n",
      "1.07614988072\n",
      "1.07511560055\n",
      "1.07410119023\n",
      "1.07310599679\n",
      "1.07212939744\n",
      "1.07117079774\n",
      "1.07022963002\n",
      "1.06930535177\n",
      "1.06839744422\n",
      "1.06750541105\n",
      "1.0666287771\n",
      "1.06576708722\n",
      "1.0649199052\n",
      "1.06408681278\n",
      "1.06326740864\n",
      "1.06246130758\n",
      "1.06166813967\n",
      "1.06088754946\n",
      "1.06011919525\n",
      "1.05936274846\n",
      "1.05861789289\n",
      "1.05788432421\n",
      "1.05716174935\n",
      "1.05644988594\n",
      "1.05574846187\n",
      "1.05505721474\n",
      "1.05437589147\n",
      "1.05370424786\n",
      "1.05304204816\n",
      "1.05238906475\n",
      "1.05174507772\n",
      "1.05110987459\n",
      "1.05048324993\n",
      "1.0498650051\n",
      "1.04925494797\n",
      "1.04865289261\n",
      "1.04805865903\n",
      "1.047472073\n",
      "1.04689296572\n",
      "1.04632117367\n",
      "1.0457565384\n",
      "1.04519890627\n",
      "1.04464812831\n",
      "1.04410406003\n",
      "1.04356656124\n",
      "1.04303549589\n",
      "1.04251073189\n",
      "1.041992141\n",
      "1.04147959866\n",
      "1.04097298387\n",
      "1.04047217903\n",
      "1.03997706986\n",
      "1.03948754523\n",
      "1.03900349711\n",
      "1.03852482038\n",
      "1.0380514128\n",
      "1.03758317488\n",
      "1.03712000976\n",
      "1.03666182319\n",
      "1.03620852335\n",
      "1.03576002083\n",
      "1.03531622855\n",
      "1.03487706164\n",
      "1.03444243741\n",
      "1.03401227525\n",
      "1.03358649656\n",
      "1.03316502474\n",
      "1.03274778503\n",
      "1.03233470455\n",
      "1.03192571216\n",
      "1.03152073847\n",
      "1.03111971574\n",
      "1.03072257785\n",
      "1.03032926024\n",
      "1.02993969987\n",
      "1.02955383517\n",
      "1.02917160601\n",
      "1.02879295363\n",
      "1.02841782061\n",
      "1.02804615086\n",
      "1.02767788952\n",
      "1.02731298298\n",
      "1.02695137883\n",
      "1.0265930258\n",
      "1.02623787376\n",
      "1.02588587367\n",
      "1.02553697754\n",
      "1.02519113845\n",
      "1.02484831044\n",
      "1.02450844856\n",
      "1.02417150879\n",
      "1.02383744805\n",
      "1.02350622416\n",
      "(1.0231777957906047, array([ -3.26041186e-04,   3.79726925e-05]))\n",
      "w_true: [-147.02990505  -43.92880782]\n",
      "w_hat: [ 537.72871398  -54.69262722]\n"
     ]
    },
    {
     "data": {
      "image/png": "[encoded data removed]",
      "text/plain": [
       "<matplotlib.figure.Figure at 0x1151fbc88>"
      ]
     },
     "metadata": {},
     "output_type": "display_data"
    },
    {
     "data": {
      "image/png": "[encoded data removed]",
      "text/plain": [
       "<matplotlib.figure.Figure at 0x113b9a9b0>"
      ]
     },
     "metadata": {},
     "output_type": "display_data"
    }
   ],
   "source": [
    "# w = w_true+10*np.random.randn(n) # multiplying by atleast 100 or so here was essential because 1/z\n",
    "# w = np.random.randn(n)\n",
    "\n",
    "Jhist = []\n",
    "whist = []\n",
    "Jhist = list(Jhist)\n",
    "whist = list(whist)\n",
    "\n",
    "alpha = 32e-1\n",
    "\n",
    "v = np.zeros_like(w)\n",
    "print(costGrad(A_true, w, y_true))\n",
    "for q in range(100000):\n",
    "    J, grad = costGrad(A_true, w, y_true)\n",
    "    \n",
    "    Jhist.append(J)\n",
    "    whist.append(w)\n",
    "    \n",
    "#     v -= alpha*grad\n",
    "#     w = w + 0.9*v\n",
    "    w -= alpha*grad + w/1e7\n",
    "    \n",
    "    if(q%1000==0):\n",
    "        print(J)\n",
    "\n",
    "plt.title(\"Cost (J)\")\n",
    "plt.plot(Jhist, 'o')\n",
    "plt.xlabel(\"itters\")\n",
    "plt.ylabel(\"cost\")\n",
    "plt.plot(0, Jhist[0], 'o', c='g')\n",
    "plt.plot(10000,Jhist[-1], 'o', c='r')\n",
    "\n",
    "\n",
    "plt.figure()\n",
    "plt.title(\"weights\")\n",
    "plt.xlabel(\"w0\")\n",
    "plt.ylabel(\"w1\")\n",
    "whist = np.array(whist)\n",
    "\n",
    "plt.plot(whist[:, 0], whist[:, 1], 'o')\n",
    "\n",
    "plt.plot(w_true[0], w_true[1], 's', markersize=14)\n",
    "\n",
    "plt.plot(whist[0, 0], whist[0, 1], 'o', c='g')\n",
    "plt.plot(whist[-1, 0], whist[-1, 1], 'o', c='r')\n",
    "\n",
    "# print(whist)\n",
    "# print((\"{:.3}\\n\"*len(Jhist)).format(*Jhist))\n",
    "\n",
    "print(costGrad(A_true, w, y_true))\n",
    "print(\"w_true:\",w_true)\n",
    "print(\"w_hat:\",w)"
   ]
  },
  {
   "cell_type": "code",
   "execution_count": 153,
   "metadata": {
    "collapsed": false,
    "deletable": true,
    "editable": true
   },
   "outputs": [
    {
     "name": "stdout",
     "output_type": "stream",
     "text": [
      "w_true: [-147.02990505  -43.92880782]\n",
      "w_hat: [ 529.21764455  -52.24284342]\n"
     ]
    },
    {
     "data": {
      "image/png": "[encoded data removed]",
      "text/plain": [
       "<matplotlib.figure.Figure at 0x11587edd8>"
      ]
     },
     "metadata": {},
     "output_type": "display_data"
    }
   ],
   "source": [
    "z = np.matmul(A_true, w)\n",
    "y_hat = 1/z\n",
    "\n",
    "plt.plot(A_true[:, 1], y_true, 'o')\n",
    "plt.plot(A_true[:, 1], y_hat, 'o')\n",
    "\n",
    "print(\"w_true:\",w_true)\n",
    "print(\"w_hat:\",w)"
   ]
  },
  {
   "cell_type": "code",
   "execution_count": null,
   "metadata": {
    "collapsed": true,
    "deletable": true,
    "editable": true
   },
   "outputs": [],
   "source": []
  },
  {
   "cell_type": "code",
   "execution_count": null,
   "metadata": {
    "collapsed": true,
    "deletable": true,
    "editable": true
   },
   "outputs": [],
   "source": []
  },
  {
   "cell_type": "markdown",
   "metadata": {
    "deletable": true,
    "editable": true
   },
   "source": [
    "## on to prob 3"
   ]
  },
  {
   "cell_type": "code",
   "execution_count": 340,
   "metadata": {
    "collapsed": false,
    "deletable": true,
    "editable": true
   },
   "outputs": [
    {
     "name": "stdout",
     "output_type": "stream",
     "text": [
      "(10, 5) (5, 5)\n"
     ]
    }
   ],
   "source": [
    "m = 5  # num features\n",
    "n = 10 # num examples\n",
    "\n",
    "A = np.column_stack((np.ones(n), np.random.randn(n, m-1)))\n",
    "P = (np.random.randn(m, m)) ** 2\n",
    "\n",
    "y = np.random.randn(n) ** 2\n",
    "\n",
    "print(A.shape, P.shape)"
   ]
  },
  {
   "cell_type": "code",
   "execution_count": 341,
   "metadata": {
    "collapsed": false,
    "deletable": true,
    "editable": true
   },
   "outputs": [],
   "source": [
    "def loss(A, P, y):\n",
    "    z = np.zeros(n)\n",
    "    a = np.zeros(n)\n",
    "    \n",
    "    dadz = np.zeros(n)\n",
    "    dzdP = np.zeros((m,m))\n",
    "    \n",
    "    for i in range(n):\n",
    "        x = A[i, :]\n",
    "        z[i] = np.matmul(x, np.matmul(P, x))\n",
    "        \n",
    "        z[i] = np.abs(z[i]) #because no neg logs\n",
    "        \n",
    "        a[i] = z[i]/y[i] - np.log(z[i])\n",
    "        \n",
    "        \n",
    "        dadz[i] = 1/y[i] - 1/z[i]\n",
    "        dzdP += np.matmul(x[:, None],x[None, :])\n",
    "        \n",
    "    J = np.sum(a)\n",
    "    \n",
    "    grad = dzdP * np.sum(dadz)\n",
    "    \n",
    "    return J, grad"
   ]
  },
  {
   "cell_type": "code",
   "execution_count": 342,
   "metadata": {
    "collapsed": false,
    "deletable": true,
    "editable": true
   },
   "outputs": [
    {
     "name": "stdout",
     "output_type": "stream",
     "text": [
      "520.122113432\n",
      "| 2020.710\t579.303\t-422.939\t1430.668\t-364.048\t|\n",
      "| 579.303\t3452.796\t438.908\t1056.835\t-1846.989\t|\n",
      "| -422.939\t438.908\t1617.451\t738.274\t-410.063\t|\n",
      "| 1430.668\t1056.835\t738.274\t2260.895\t-932.434\t|\n",
      "| -364.048\t-1846.989\t-410.063\t-932.434\t1624.842\t|\n",
      "\n",
      "\n",
      "\n",
      "162719482.421\n",
      "| 2058.224\t590.057\t-430.791\t1457.228\t-370.807\t|\n",
      "| 590.057\t3516.896\t447.056\t1076.455\t-1881.277\t|\n",
      "| -430.791\t447.056\t1647.479\t751.980\t-417.675\t|\n",
      "| 1457.228\t1076.455\t751.980\t2302.868\t-949.744\t|\n",
      "| -370.807\t-1881.277\t-417.675\t-949.744\t1655.007\t|\n",
      "\n",
      " -162718962.299\n"
     ]
    }
   ],
   "source": [
    "J, grad  = loss(A, P, y)\n",
    "alpha = 1e-3\n",
    "\n",
    "Jstart = J\n",
    "\n",
    "print(J)\n",
    "printMatrix(grad, m)\n",
    "\n",
    "for _ in range(100000):\n",
    "    J, grad  = loss(A, P, y)\n",
    "    P -= alpha*grad\n",
    "    \n",
    "J, grad  = loss(A, P, y)\n",
    "\n",
    "print(\"\\n\\n\")\n",
    "print(J)\n",
    "printMatrix(grad, m)\n",
    "\n",
    "print(\"\\n\", Jstart-J)"
   ]
  },
  {
   "cell_type": "code",
   "execution_count": 391,
   "metadata": {
    "collapsed": false,
    "deletable": true,
    "editable": true
   },
   "outputs": [],
   "source": [
    "def checkGradients(analytic, A, P, y):\n",
    "    h = 1e-3\n",
    "    m = P.shape[0]\n",
    "    w = P.ravel()\n",
    "    \n",
    "    gradn = np.zeros_like(w)\n",
    "    for j in range(len(w)):\n",
    "        eps = np.zeros_like(w)\n",
    "        eps[j] = h\n",
    "        gradn[j] = (analytic(A, (w+eps).reshape(m,m), y)[0] - analytic(A, (w-eps).reshape(m,m), y)[0]).ravel()\n",
    "        \n",
    "    gradn /= 2*h\n",
    "    \n",
    "    print(\"analytic\\tnumeric\")\n",
    "#     print(analytic(A, P, y)[1].ravel().shape, gradn.shape)\n",
    "    printMatrix(zip(analytic(A, P, y)[1].ravel(), gradn), 2)\n",
    "            "
   ]
  },
  {
   "cell_type": "code",
   "execution_count": 392,
   "metadata": {
    "collapsed": false
   },
   "outputs": [
    {
     "name": "stdout",
     "output_type": "stream",
     "text": [
      "analytic\tnumeric\n",
      "| 2058.224\t-205.822\t|\n",
      "| 590.057\t-116.166\t|\n",
      "| -430.791\t0.804\t|\n",
      "| 1457.228\t-77.464\t|\n",
      "| -370.807\t50.190\t|\n",
      "| 590.057\t-116.167\t|\n",
      "| 3516.896\t-96.443\t|\n",
      "| 447.056\t2.512\t|\n",
      "| 1076.455\t-49.137\t|\n",
      "| -1881.277\t40.598\t|\n",
      "| -430.791\t0.804\t|\n",
      "| 447.056\t2.512\t|\n",
      "| 1647.479\t-13.974\t|\n",
      "| 751.980\t-0.020\t|\n",
      "| -417.675\t4.270\t|\n",
      "| 1457.228\t-77.464\t|\n",
      "| 1076.455\t-49.137\t|\n",
      "| 751.980\t-0.020\t|\n",
      "| 2302.868\t-42.968\t|\n",
      "| -949.744\t21.754\t|\n",
      "| -370.807\t50.190\t|\n",
      "| -1881.277\t40.598\t|\n",
      "| -417.675\t4.270\t|\n",
      "| -949.744\t21.754\t|\n",
      "| 1655.007\t-24.432\t|\n"
     ]
    }
   ],
   "source": [
    "checkGradients(loss, A, P, y)"
   ]
  },
  {
   "cell_type": "code",
   "execution_count": null,
   "metadata": {
    "collapsed": true
   },
   "outputs": [],
   "source": []
  }
 ],
 "metadata": {
  "kernelspec": {
   "display_name": "Python 3",
   "language": "python",
   "name": "python3"
  },
  "language_info": {
   "codemirror_mode": {
    "name": "ipython",
    "version": 3
   },
   "file_extension": ".py",
   "mimetype": "text/x-python",
   "name": "python",
   "nbconvert_exporter": "python",
   "pygments_lexer": "ipython3",
   "version": "3.6.1"
  }
 },
 "nbformat": 4,
 "nbformat_minor": 2
}
